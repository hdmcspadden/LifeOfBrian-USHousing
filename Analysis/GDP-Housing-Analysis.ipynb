{
 "cells": [
  {
   "cell_type": "markdown",
   "metadata": {},
   "source": [
    "## Analysis of GDP and Housing Prices\n",
    "This file uses three datasets:\n",
    "\n",
    "* US annual inflation data for 1995-2020(cite); this comes from two different sources:\n",
    "    + [insert]\n",
    "    + [insert]\n",
    "* Zillow Home Value Indices (ZHVI) for 1996-2020\n",
    "* US GPD by state\n",
    "\n",
    "The intent of this analysis is to evaluate whether state GDP is a potential predictor of state housing prices, represented by ZHVI. ZHVI is adjusted for the following factors [insert]. The code follows the process described below:\n",
    "\n",
    "* Import all data sets, covering data from 1995-present (as available)\n",
    "* Clean and wrangle data as needed, including:\n",
    "    + Convert GDP values from string to numeric, including removing commas. \n",
    "* Create a dataframe with ZHVI and GDP data, joining on year. Includes the following steps\n",
    "    + Change ZHVI date formats to allow for DateTime functions\n",
    "    + Trim ZHVI data to only Virginia\n",
    "    + Transpose ZHVI data using the melt function - changing data structure from wide to long\n",
    "    + Convert ZHVI values from string to numeric\n",
    "    + Create month and year periods for grouping\n",
    "    + Perform a groupby to condense ZHVI values to a single mean value per year\n",
    "* Calculate annual cumulative inflation factors to allow for adjustment of any year (within range 1996 to 2020) to 2019 dollars\n",
    "    + Use map() function to put inflation factors in a dictionary for use in a flexible function.\n",
    "* Calculate inflation-adjusted GDP and ZHVI, using 2019 dollars as the base currency period\n",
    "    + Write a function that will take any dataframe with 'value' and 'dollar-yr' columns and generate a column with values adjusted to 2019 dollars. \n",
    "    + Run the inflation adjustment function on Virginia GDP data.\n",
    "    + Run the inflation adjustment function on Virginia home price data.\n",
    "* Join the results into a dataframe on year\n",
    "    + Rename several columns to avoid redundancy (that existed so function could run on both dataframes).\n",
    "* Plot inflation-adjusted GDP and ZHVI and inspect the relationship visually\n",
    "* Run a single linear regression (SLR) model for inflation-adjusted GDP and ZHVI for the relevant time period. \n",
    "\n",
    "### To-Do\n",
    "* Review confidence interval approach\n",
    "* Write unit tests on the inflation adjustment method\n",
    "\n",
    "Optional:\n",
    "\n",
    "* Conduct a similar analysis for one or more states\n",
    "* Further analysis?"
   ]
  },
  {
   "cell_type": "code",
   "execution_count": 1,
   "metadata": {},
   "outputs": [],
   "source": [
    "# Import dependencies\n",
    "import pandas as pd\n",
    "import numpy as np\n",
    "from os import *\n",
    "import matplotlib.pyplot as plt\n",
    "import matplotlib as mpl\n",
    "\n",
    "###\n",
    "import scipy as sp\n",
    "import scipy.stats as stats\n",
    "import matplotlib.pyplot as plt\n"
   ]
  },
  {
   "cell_type": "code",
   "execution_count": 2,
   "metadata": {},
   "outputs": [
    {
     "data": {
      "text/html": [
       "<div>\n",
       "<style scoped>\n",
       "    .dataframe tbody tr th:only-of-type {\n",
       "        vertical-align: middle;\n",
       "    }\n",
       "\n",
       "    .dataframe tbody tr th {\n",
       "        vertical-align: top;\n",
       "    }\n",
       "\n",
       "    .dataframe thead th {\n",
       "        text-align: right;\n",
       "    }\n",
       "</style>\n",
       "<table border=\"1\" class=\"dataframe\">\n",
       "  <thead>\n",
       "    <tr style=\"text-align: right;\">\n",
       "      <th></th>\n",
       "      <th>year</th>\n",
       "      <th>amount</th>\n",
       "      <th>inflation rate</th>\n",
       "      <th>cumulative</th>\n",
       "    </tr>\n",
       "  </thead>\n",
       "  <tbody>\n",
       "    <tr>\n",
       "      <th>0</th>\n",
       "      <td>1995</td>\n",
       "      <td>1.00</td>\n",
       "      <td>0.0000</td>\n",
       "      <td>0.0000</td>\n",
       "    </tr>\n",
       "    <tr>\n",
       "      <th>1</th>\n",
       "      <td>1996</td>\n",
       "      <td>1.03</td>\n",
       "      <td>0.0295</td>\n",
       "      <td>0.0295</td>\n",
       "    </tr>\n",
       "    <tr>\n",
       "      <th>2</th>\n",
       "      <td>1997</td>\n",
       "      <td>1.05</td>\n",
       "      <td>0.0229</td>\n",
       "      <td>0.0531</td>\n",
       "    </tr>\n",
       "    <tr>\n",
       "      <th>3</th>\n",
       "      <td>1998</td>\n",
       "      <td>1.07</td>\n",
       "      <td>0.0156</td>\n",
       "      <td>0.0696</td>\n",
       "    </tr>\n",
       "    <tr>\n",
       "      <th>4</th>\n",
       "      <td>1999</td>\n",
       "      <td>1.09</td>\n",
       "      <td>0.0221</td>\n",
       "      <td>0.0932</td>\n",
       "    </tr>\n",
       "  </tbody>\n",
       "</table>\n",
       "</div>"
      ],
      "text/plain": [
       "   year  amount  inflation rate  cumulative\n",
       "0  1995    1.00          0.0000      0.0000\n",
       "1  1996    1.03          0.0295      0.0295\n",
       "2  1997    1.05          0.0229      0.0531\n",
       "3  1998    1.07          0.0156      0.0696\n",
       "4  1999    1.09          0.0221      0.0932"
      ]
     },
     "execution_count": 2,
     "metadata": {},
     "output_type": "execute_result"
    }
   ],
   "source": [
    "# Read in the inflation data from '1995inflation.csv'\n",
    "inf_data = pd.read_csv(\"../dataset/1995inflation.csv\")\n",
    "inf_data.head()"
   ]
  },
  {
   "cell_type": "code",
   "execution_count": 3,
   "metadata": {},
   "outputs": [
    {
     "data": {
      "text/plain": [
       "Unnamed: 0           int64\n",
       "yr                   int64\n",
       "state               object\n",
       "current dollars      int64\n",
       "GDP                float64\n",
       "GDP_area            object\n",
       "dtype: object"
      ]
     },
     "execution_count": 3,
     "metadata": {},
     "output_type": "execute_result"
    }
   ],
   "source": [
    "# Read in the GDP data\n",
    "gdp_data = pd.read_csv(\"../dataset/yearlyGDPbyState.csv\")\n",
    "\n",
    "# Check data types\n",
    "gdp_data.dtypes\n",
    "\n",
    "# GDP is not numeric, convert it to numeric\n",
    "# First remove the commas in the strings \n",
    "#gdp_data['GDP']=gdp_data['GDP'].str.replace(',','')\n",
    "\n",
    "# Make numeric\n",
    "gdp_data['GDP']= pd.to_numeric(gdp_data['GDP'], errors = 'coerce')\n",
    "# rename the year column for function use\n",
    "gdp_data = gdp_data.rename(columns = {'year':'yr'})\n",
    "\n",
    "# Check the datatypes\n",
    "gdp_data.dtypes"
   ]
  },
  {
   "cell_type": "code",
   "execution_count": 4,
   "metadata": {},
   "outputs": [
    {
     "data": {
      "text/html": [
       "<div>\n",
       "<style scoped>\n",
       "    .dataframe tbody tr th:only-of-type {\n",
       "        vertical-align: middle;\n",
       "    }\n",
       "\n",
       "    .dataframe tbody tr th {\n",
       "        vertical-align: top;\n",
       "    }\n",
       "\n",
       "    .dataframe thead th {\n",
       "        text-align: right;\n",
       "    }\n",
       "</style>\n",
       "<table border=\"1\" class=\"dataframe\">\n",
       "  <thead>\n",
       "    <tr style=\"text-align: right;\">\n",
       "      <th></th>\n",
       "      <th>RegionID</th>\n",
       "      <th>RegionName</th>\n",
       "      <th>RegionType</th>\n",
       "      <th>DD-MM-YYYY</th>\n",
       "      <th>value</th>\n",
       "    </tr>\n",
       "  </thead>\n",
       "  <tbody>\n",
       "    <tr>\n",
       "      <th>293</th>\n",
       "      <td>56</td>\n",
       "      <td>Virginia</td>\n",
       "      <td>State</td>\n",
       "      <td>4-30-2020</td>\n",
       "      <td>291177.0</td>\n",
       "    </tr>\n",
       "    <tr>\n",
       "      <th>294</th>\n",
       "      <td>56</td>\n",
       "      <td>Virginia</td>\n",
       "      <td>State</td>\n",
       "      <td>5-31-2020</td>\n",
       "      <td>292430.0</td>\n",
       "    </tr>\n",
       "    <tr>\n",
       "      <th>295</th>\n",
       "      <td>56</td>\n",
       "      <td>Virginia</td>\n",
       "      <td>State</td>\n",
       "      <td>6-30-2020</td>\n",
       "      <td>293816.0</td>\n",
       "    </tr>\n",
       "    <tr>\n",
       "      <th>296</th>\n",
       "      <td>56</td>\n",
       "      <td>Virginia</td>\n",
       "      <td>State</td>\n",
       "      <td>7-31-2020</td>\n",
       "      <td>295301.0</td>\n",
       "    </tr>\n",
       "    <tr>\n",
       "      <th>297</th>\n",
       "      <td>56</td>\n",
       "      <td>Virginia</td>\n",
       "      <td>State</td>\n",
       "      <td>8-31-2020</td>\n",
       "      <td>296848.0</td>\n",
       "    </tr>\n",
       "  </tbody>\n",
       "</table>\n",
       "</div>"
      ],
      "text/plain": [
       "     RegionID RegionName RegionType DD-MM-YYYY     value\n",
       "293        56   Virginia      State  4-30-2020  291177.0\n",
       "294        56   Virginia      State  5-31-2020  292430.0\n",
       "295        56   Virginia      State  6-30-2020  293816.0\n",
       "296        56   Virginia      State  7-31-2020  295301.0\n",
       "297        56   Virginia      State  8-31-2020  296848.0"
      ]
     },
     "execution_count": 4,
     "metadata": {},
     "output_type": "execute_result"
    }
   ],
   "source": [
    "# Read in the housing price data\n",
    "zhvi = pd.read_csv(\"../dataset/zillow_HVI_1996-2020.csv\")\n",
    "\n",
    "# Cut the df down to only Virginia values\n",
    "zhvi_va = zhvi[zhvi['RegionName']==\"Virginia\"]\n",
    "\n",
    "# Turn data from wide to long for easier manipulation, using melt() function\n",
    "zhvi_va_days = zhvi_va.melt(id_vars=['RegionID','RegionName', 'RegionType'], var_name='DD-MM-YYYY')\n",
    "\n",
    "# Drop first two columns of resulting DF, which are not numeric\n",
    "zhvi_va_days.drop([0,1], inplace=True)\n",
    "\n",
    "# Replace '/' with '-' for use of datetime functions \n",
    "zhvi_va_days['DD-MM-YYYY'] = zhvi_va_days['DD-MM-YYYY'].str.replace(\"/\",\"-\")\n",
    "\n",
    "# Convert index values from string to numeric\n",
    "zhvi_va_days['value'] = pd.to_numeric(zhvi_va_days['value'])\n",
    "\n",
    "# check the output\n",
    "zhvi_va_days.tail()"
   ]
  },
  {
   "cell_type": "code",
   "execution_count": 5,
   "metadata": {},
   "outputs": [
    {
     "data": {
      "text/plain": [
       "RegionID        int64\n",
       "RegionName     object\n",
       "RegionType     object\n",
       "DD-MM-YYYY     object\n",
       "value         float64\n",
       "yr              int64\n",
       "period          int64\n",
       "dtype: object"
      ]
     },
     "execution_count": 5,
     "metadata": {},
     "output_type": "execute_result"
    }
   ],
   "source": [
    "# Create columns for year and month\n",
    "# Year\n",
    "zhvi_va_days['yr'] = pd.DatetimeIndex(zhvi_va_days['DD-MM-YYYY'], dayfirst=True).year\n",
    "# Month\n",
    "zhvi_va_days['period'] = pd.DatetimeIndex(zhvi_va_days['DD-MM-YYYY'], dayfirst = True).month\n",
    "\n",
    "zhvi_va_days.dtypes"
   ]
  },
  {
   "cell_type": "code",
   "execution_count": 6,
   "metadata": {},
   "outputs": [
    {
     "data": {
      "text/html": [
       "<div>\n",
       "<style scoped>\n",
       "    .dataframe tbody tr th:only-of-type {\n",
       "        vertical-align: middle;\n",
       "    }\n",
       "\n",
       "    .dataframe tbody tr th {\n",
       "        vertical-align: top;\n",
       "    }\n",
       "\n",
       "    .dataframe thead th {\n",
       "        text-align: right;\n",
       "    }\n",
       "</style>\n",
       "<table border=\"1\" class=\"dataframe\">\n",
       "  <thead>\n",
       "    <tr style=\"text-align: right;\">\n",
       "      <th></th>\n",
       "      <th>yr</th>\n",
       "      <th>RegionID</th>\n",
       "      <th>value</th>\n",
       "      <th>period</th>\n",
       "      <th>dollar-yr</th>\n",
       "    </tr>\n",
       "  </thead>\n",
       "  <tbody>\n",
       "    <tr>\n",
       "      <th>0</th>\n",
       "      <td>1996</td>\n",
       "      <td>56.0</td>\n",
       "      <td>120939.50</td>\n",
       "      <td>6.5</td>\n",
       "      <td>1996</td>\n",
       "    </tr>\n",
       "    <tr>\n",
       "      <th>1</th>\n",
       "      <td>1997</td>\n",
       "      <td>56.0</td>\n",
       "      <td>122214.83</td>\n",
       "      <td>6.5</td>\n",
       "      <td>1997</td>\n",
       "    </tr>\n",
       "    <tr>\n",
       "      <th>2</th>\n",
       "      <td>1998</td>\n",
       "      <td>56.0</td>\n",
       "      <td>125167.08</td>\n",
       "      <td>6.5</td>\n",
       "      <td>1998</td>\n",
       "    </tr>\n",
       "    <tr>\n",
       "      <th>3</th>\n",
       "      <td>1999</td>\n",
       "      <td>56.0</td>\n",
       "      <td>129912.08</td>\n",
       "      <td>6.5</td>\n",
       "      <td>1999</td>\n",
       "    </tr>\n",
       "    <tr>\n",
       "      <th>4</th>\n",
       "      <td>2000</td>\n",
       "      <td>56.0</td>\n",
       "      <td>138695.08</td>\n",
       "      <td>6.5</td>\n",
       "      <td>2000</td>\n",
       "    </tr>\n",
       "  </tbody>\n",
       "</table>\n",
       "</div>"
      ],
      "text/plain": [
       "     yr  RegionID      value  period  dollar-yr\n",
       "0  1996      56.0  120939.50     6.5       1996\n",
       "1  1997      56.0  122214.83     6.5       1997\n",
       "2  1998      56.0  125167.08     6.5       1998\n",
       "3  1999      56.0  129912.08     6.5       1999\n",
       "4  2000      56.0  138695.08     6.5       2000"
      ]
     },
     "execution_count": 6,
     "metadata": {},
     "output_type": "execute_result"
    }
   ],
   "source": [
    "# Use Groupby to get mean values per year\n",
    "zhvi_va_year = zhvi_va_days.groupby(by =['yr'], as_index = False).mean()\n",
    "\n",
    "# Round the values\n",
    "zhvi_va_year['value'] = round(zhvi_va_year['value'],2)\n",
    "\n",
    "# add a 'dollar year' column for use in the function. For this dataset, dollars are reported in same year\n",
    "zhvi_va_year['dollar-yr'] = zhvi_va_year['yr'] \n",
    "\n",
    "\n",
    "zhvi_va_year.head()"
   ]
  },
  {
   "cell_type": "code",
   "execution_count": 7,
   "metadata": {
    "tags": []
   },
   "outputs": [
    {
     "name": "stdout",
     "output_type": "stream",
     "text": [
      "1.68\n"
     ]
    },
    {
     "data": {
      "text/html": [
       "<div>\n",
       "<style scoped>\n",
       "    .dataframe tbody tr th:only-of-type {\n",
       "        vertical-align: middle;\n",
       "    }\n",
       "\n",
       "    .dataframe tbody tr th {\n",
       "        vertical-align: top;\n",
       "    }\n",
       "\n",
       "    .dataframe thead th {\n",
       "        text-align: right;\n",
       "    }\n",
       "</style>\n",
       "<table border=\"1\" class=\"dataframe\">\n",
       "  <thead>\n",
       "    <tr style=\"text-align: right;\">\n",
       "      <th></th>\n",
       "      <th>year</th>\n",
       "      <th>amount</th>\n",
       "      <th>inflation rate</th>\n",
       "      <th>cumulative</th>\n",
       "      <th>2019_factor</th>\n",
       "    </tr>\n",
       "  </thead>\n",
       "  <tbody>\n",
       "    <tr>\n",
       "      <th>0</th>\n",
       "      <td>1995</td>\n",
       "      <td>1.00</td>\n",
       "      <td>0.0000</td>\n",
       "      <td>0.0000</td>\n",
       "      <td>0.595238</td>\n",
       "    </tr>\n",
       "    <tr>\n",
       "      <th>1</th>\n",
       "      <td>1996</td>\n",
       "      <td>1.03</td>\n",
       "      <td>0.0295</td>\n",
       "      <td>0.0295</td>\n",
       "      <td>0.613095</td>\n",
       "    </tr>\n",
       "    <tr>\n",
       "      <th>2</th>\n",
       "      <td>1997</td>\n",
       "      <td>1.05</td>\n",
       "      <td>0.0229</td>\n",
       "      <td>0.0531</td>\n",
       "      <td>0.625000</td>\n",
       "    </tr>\n",
       "    <tr>\n",
       "      <th>3</th>\n",
       "      <td>1998</td>\n",
       "      <td>1.07</td>\n",
       "      <td>0.0156</td>\n",
       "      <td>0.0696</td>\n",
       "      <td>0.636905</td>\n",
       "    </tr>\n",
       "    <tr>\n",
       "      <th>4</th>\n",
       "      <td>1999</td>\n",
       "      <td>1.09</td>\n",
       "      <td>0.0221</td>\n",
       "      <td>0.0932</td>\n",
       "      <td>0.648810</td>\n",
       "    </tr>\n",
       "  </tbody>\n",
       "</table>\n",
       "</div>"
      ],
      "text/plain": [
       "   year  amount  inflation rate  cumulative  2019_factor\n",
       "0  1995    1.00          0.0000      0.0000     0.595238\n",
       "1  1996    1.03          0.0295      0.0295     0.613095\n",
       "2  1997    1.05          0.0229      0.0531     0.625000\n",
       "3  1998    1.07          0.0156      0.0696     0.636905\n",
       "4  1999    1.09          0.0221      0.0932     0.648810"
      ]
     },
     "execution_count": 7,
     "metadata": {},
     "output_type": "execute_result"
    }
   ],
   "source": [
    "# Work with the inflation data to use in an adjustment function\n",
    "\n",
    "# Column'amount' is a cumulative price index with 1995 as year 0. \n",
    "# Calculate a factor for each state that converts 'amount' to 2019 dollars by dividing by 1.68 (the 2019 'amount'value)\n",
    "\n",
    "# Select the conversion factor from the data frame using .loc\n",
    "d2019 = inf_data.loc[inf_data['year'] == 2019,'amount'].item()\n",
    "print(d2019)\n",
    "\n",
    "# Apply the factor to all rows\n",
    "inf_data['2019_factor']=inf_data['amount']/d2019\n",
    "inf_data.head()"
   ]
  },
  {
   "cell_type": "code",
   "execution_count": 8,
   "metadata": {
    "scrolled": true
   },
   "outputs": [
    {
     "data": {
      "text/plain": [
       "0.5952380952380952"
      ]
     },
     "execution_count": 8,
     "metadata": {},
     "output_type": "execute_result"
    }
   ],
   "source": [
    "# Store the factors in a dictionary for easy use in a function\n",
    "inf_dict_2019 = dict(zip(inf_data['year'], inf_data['2019_factor']))\n",
    "inf_dict_2019[1995] # Testing calling a single value"
   ]
  },
  {
   "cell_type": "code",
   "execution_count": 9,
   "metadata": {},
   "outputs": [],
   "source": [
    "# Create a function that adjusts a series of data based on 2019_factor. The function accepts a dataframe and a dictionary of \n",
    "# inflation factor, which must have a column labeled 'dollar-yr' and a column labeled 'value'. \n",
    "\n",
    "# Function to convert a column labeled 'value', from the passed dataframe to 2019 dollars \n",
    "def inflation_adjust_to2019(df, price_dict): \n",
    "    #Divide each dollar value by the appropriate year index, called from the inflacion dict\n",
    "    df['inf-adjusted'] = round(df['value']/df['dollar-yr'].map(price_dict))\n",
    "    \n",
    "    return df"
   ]
  },
  {
   "cell_type": "code",
   "execution_count": 10,
   "metadata": {},
   "outputs": [
    {
     "data": {
      "text/html": [
       "<div>\n",
       "<style scoped>\n",
       "    .dataframe tbody tr th:only-of-type {\n",
       "        vertical-align: middle;\n",
       "    }\n",
       "\n",
       "    .dataframe tbody tr th {\n",
       "        vertical-align: top;\n",
       "    }\n",
       "\n",
       "    .dataframe thead th {\n",
       "        text-align: right;\n",
       "    }\n",
       "</style>\n",
       "<table border=\"1\" class=\"dataframe\">\n",
       "  <thead>\n",
       "    <tr style=\"text-align: right;\">\n",
       "      <th></th>\n",
       "      <th>yr</th>\n",
       "      <th>state</th>\n",
       "      <th>dollar-yr</th>\n",
       "      <th>value</th>\n",
       "    </tr>\n",
       "  </thead>\n",
       "  <tbody>\n",
       "    <tr>\n",
       "      <th>1066</th>\n",
       "      <td>2015</td>\n",
       "      <td>Virginia</td>\n",
       "      <td>2016</td>\n",
       "      <td>484962.333333</td>\n",
       "    </tr>\n",
       "    <tr>\n",
       "      <th>1117</th>\n",
       "      <td>2016</td>\n",
       "      <td>Virginia</td>\n",
       "      <td>2016</td>\n",
       "      <td>494349.000000</td>\n",
       "    </tr>\n",
       "    <tr>\n",
       "      <th>1168</th>\n",
       "      <td>2017</td>\n",
       "      <td>Virginia</td>\n",
       "      <td>2018</td>\n",
       "      <td>510424.750000</td>\n",
       "    </tr>\n",
       "    <tr>\n",
       "      <th>1219</th>\n",
       "      <td>2018</td>\n",
       "      <td>Virginia</td>\n",
       "      <td>2018</td>\n",
       "      <td>534448.750000</td>\n",
       "    </tr>\n",
       "    <tr>\n",
       "      <th>1270</th>\n",
       "      <td>2019</td>\n",
       "      <td>Virginia</td>\n",
       "      <td>2019</td>\n",
       "      <td>554211.250000</td>\n",
       "    </tr>\n",
       "  </tbody>\n",
       "</table>\n",
       "</div>"
      ],
      "text/plain": [
       "        yr     state  dollar-yr          value\n",
       "1066  2015  Virginia       2016  484962.333333\n",
       "1117  2016  Virginia       2016  494349.000000\n",
       "1168  2017  Virginia       2018  510424.750000\n",
       "1219  2018  Virginia       2018  534448.750000\n",
       "1270  2019  Virginia       2019  554211.250000"
      ]
     },
     "execution_count": 10,
     "metadata": {},
     "output_type": "execute_result"
    }
   ],
   "source": [
    "# Create a Virginia GDP dataframe to pass through the function\n",
    "va_gdp = gdp_data[gdp_data['state']=='Virginia']\n",
    "\n",
    "# Rename the column so it works with the function\n",
    "va_gdp_toFunc = va_gdp.rename(columns={'GDP':'value', 'current dollars':'dollar-yr'})\n",
    "\n",
    "# Drop unnecessary columns\n",
    "va_gdp_toFunc = va_gdp_toFunc.drop(columns=['GDP_area', 'Unnamed: 0'])\n",
    "\n",
    "va_gdp_toFunc.tail()"
   ]
  },
  {
   "cell_type": "code",
   "execution_count": 11,
   "metadata": {},
   "outputs": [
    {
     "data": {
      "text/html": [
       "<div>\n",
       "<style scoped>\n",
       "    .dataframe tbody tr th:only-of-type {\n",
       "        vertical-align: middle;\n",
       "    }\n",
       "\n",
       "    .dataframe tbody tr th {\n",
       "        vertical-align: top;\n",
       "    }\n",
       "\n",
       "    .dataframe thead th {\n",
       "        text-align: right;\n",
       "    }\n",
       "</style>\n",
       "<table border=\"1\" class=\"dataframe\">\n",
       "  <thead>\n",
       "    <tr style=\"text-align: right;\">\n",
       "      <th></th>\n",
       "      <th>yr</th>\n",
       "      <th>state</th>\n",
       "      <th>gdp-dollar-yr</th>\n",
       "      <th>GDP</th>\n",
       "      <th>GDP-2019-Dollars</th>\n",
       "    </tr>\n",
       "  </thead>\n",
       "  <tbody>\n",
       "    <tr>\n",
       "      <th>0</th>\n",
       "      <td>1995</td>\n",
       "      <td>Virginia</td>\n",
       "      <td>2001</td>\n",
       "      <td>188963.0</td>\n",
       "      <td>273671.0</td>\n",
       "    </tr>\n",
       "    <tr>\n",
       "      <th>1</th>\n",
       "      <td>1996</td>\n",
       "      <td>Virginia</td>\n",
       "      <td>2001</td>\n",
       "      <td>199953.0</td>\n",
       "      <td>289587.0</td>\n",
       "    </tr>\n",
       "    <tr>\n",
       "      <th>2</th>\n",
       "      <td>1997</td>\n",
       "      <td>Virginia</td>\n",
       "      <td>2001</td>\n",
       "      <td>212105.0</td>\n",
       "      <td>307187.0</td>\n",
       "    </tr>\n",
       "    <tr>\n",
       "      <th>3</th>\n",
       "      <td>1998</td>\n",
       "      <td>Virginia</td>\n",
       "      <td>2001</td>\n",
       "      <td>228049.0</td>\n",
       "      <td>330278.0</td>\n",
       "    </tr>\n",
       "    <tr>\n",
       "      <th>4</th>\n",
       "      <td>1999</td>\n",
       "      <td>Virginia</td>\n",
       "      <td>2001</td>\n",
       "      <td>241503.0</td>\n",
       "      <td>349763.0</td>\n",
       "    </tr>\n",
       "  </tbody>\n",
       "</table>\n",
       "</div>"
      ],
      "text/plain": [
       "     yr     state  gdp-dollar-yr       GDP  GDP-2019-Dollars\n",
       "0  1995  Virginia           2001  188963.0          273671.0\n",
       "1  1996  Virginia           2001  199953.0          289587.0\n",
       "2  1997  Virginia           2001  212105.0          307187.0\n",
       "3  1998  Virginia           2001  228049.0          330278.0\n",
       "4  1999  Virginia           2001  241503.0          349763.0"
      ]
     },
     "execution_count": 11,
     "metadata": {},
     "output_type": "execute_result"
    }
   ],
   "source": [
    "# Run the inflation adjustment function on the Virginia GDP dataframe and assign to a dataframe\n",
    "adjusted_va_gdp = inflation_adjust_to2019(va_gdp_toFunc,inf_dict_2019)\n",
    "\n",
    "# Rename columns to avoid redundant names, reset index\n",
    "adjusted_va_gdp = adjusted_va_gdp.reset_index(drop = True).rename(columns = {'value':'GDP', 'inf-adjusted':'GDP-2019-Dollars', 'dollar-yr':'gdp-dollar-yr'})\n",
    "adjusted_va_gdp.head()"
   ]
  },
  {
   "cell_type": "code",
   "execution_count": 12,
   "metadata": {},
   "outputs": [
    {
     "data": {
      "text/html": [
       "<div>\n",
       "<style scoped>\n",
       "    .dataframe tbody tr th:only-of-type {\n",
       "        vertical-align: middle;\n",
       "    }\n",
       "\n",
       "    .dataframe tbody tr th {\n",
       "        vertical-align: top;\n",
       "    }\n",
       "\n",
       "    .dataframe thead th {\n",
       "        text-align: right;\n",
       "    }\n",
       "</style>\n",
       "<table border=\"1\" class=\"dataframe\">\n",
       "  <thead>\n",
       "    <tr style=\"text-align: right;\">\n",
       "      <th></th>\n",
       "      <th>yr</th>\n",
       "      <th>RegionID</th>\n",
       "      <th>ZHVI</th>\n",
       "      <th>zhvi-dollar-yr</th>\n",
       "      <th>ZHVI-2019-Dollars</th>\n",
       "    </tr>\n",
       "  </thead>\n",
       "  <tbody>\n",
       "    <tr>\n",
       "      <th>20</th>\n",
       "      <td>2016</td>\n",
       "      <td>56.0</td>\n",
       "      <td>254193.67</td>\n",
       "      <td>2016</td>\n",
       "      <td>272003.0</td>\n",
       "    </tr>\n",
       "    <tr>\n",
       "      <th>21</th>\n",
       "      <td>2017</td>\n",
       "      <td>56.0</td>\n",
       "      <td>263480.50</td>\n",
       "      <td>2017</td>\n",
       "      <td>274936.0</td>\n",
       "    </tr>\n",
       "    <tr>\n",
       "      <th>22</th>\n",
       "      <td>2018</td>\n",
       "      <td>56.0</td>\n",
       "      <td>272584.25</td>\n",
       "      <td>2018</td>\n",
       "      <td>277540.0</td>\n",
       "    </tr>\n",
       "    <tr>\n",
       "      <th>23</th>\n",
       "      <td>2019</td>\n",
       "      <td>56.0</td>\n",
       "      <td>282955.25</td>\n",
       "      <td>2019</td>\n",
       "      <td>282955.0</td>\n",
       "    </tr>\n",
       "    <tr>\n",
       "      <th>24</th>\n",
       "      <td>2020</td>\n",
       "      <td>56.0</td>\n",
       "      <td>292155.12</td>\n",
       "      <td>2020</td>\n",
       "      <td>287030.0</td>\n",
       "    </tr>\n",
       "  </tbody>\n",
       "</table>\n",
       "</div>"
      ],
      "text/plain": [
       "      yr  RegionID       ZHVI  zhvi-dollar-yr  ZHVI-2019-Dollars\n",
       "20  2016      56.0  254193.67            2016           272003.0\n",
       "21  2017      56.0  263480.50            2017           274936.0\n",
       "22  2018      56.0  272584.25            2018           277540.0\n",
       "23  2019      56.0  282955.25            2019           282955.0\n",
       "24  2020      56.0  292155.12            2020           287030.0"
      ]
     },
     "execution_count": 12,
     "metadata": {},
     "output_type": "execute_result"
    }
   ],
   "source": [
    "# Run the inflation adjustment function on the Zillow values and assign to a dataframe\n",
    "adjusted_zhvi = inflation_adjust_to2019(zhvi_va_year,inf_dict_2019)\n",
    "\n",
    "# Rename columns to avoid redundant names\n",
    "adjusted_zhvi = adjusted_zhvi.reset_index(drop = True).rename(columns = {'value':'ZHVI', 'inf-adjusted':'ZHVI-2019-Dollars', 'dollar-yr':'zhvi-dollar-yr'})\\\n",
    ".drop(columns = 'period')\n",
    "adjusted_zhvi.tail()"
   ]
  },
  {
   "cell_type": "code",
   "execution_count": 13,
   "metadata": {},
   "outputs": [
    {
     "data": {
      "text/plain": [
       "yr                     int64\n",
       "state                 object\n",
       "gdp-dollar-yr          int64\n",
       "GDP                  float64\n",
       "GDP-2019-Dollars     float64\n",
       "RegionID             float64\n",
       "ZHVI                 float64\n",
       "zhvi-dollar-yr         int64\n",
       "ZHVI-2019-Dollars    float64\n",
       "dtype: object"
      ]
     },
     "execution_count": 13,
     "metadata": {},
     "output_type": "execute_result"
    }
   ],
   "source": [
    "#Complete an inner join on 'year' with the GDP data (left) and housing data (right).\n",
    "gdp_zhvi_data=adjusted_va_gdp.merge(adjusted_zhvi, on='yr', left_index=True)\n",
    "\n",
    "gdp_zhvi_data.dtypes"
   ]
  },
  {
   "cell_type": "code",
   "execution_count": 14,
   "metadata": {},
   "outputs": [
    {
     "data": {
      "image/png": "[encoded data removed]",
      "text/plain": [
       "<Figure size 864x576 with 2 Axes>"
      ]
     },
     "metadata": {
      "needs_background": "light"
     },
     "output_type": "display_data"
    }
   ],
   "source": [
    "# Create a visualization of GDP and ZHVI\n",
    "\n",
    "# Only a single plot - using this as a best practice for later reflection \n",
    "fig, ax = plt.subplots()  # Create a figure and an axes.\n",
    "\n",
    "# Setup colors by year\n",
    "color_years = gdp_zhvi_data['yr']\n",
    "\n",
    "# Call the variables for plotting, including assigning years to color\n",
    "ax.scatter(gdp_zhvi_data['GDP-2019-Dollars'],gdp_zhvi_data['ZHVI-2019-Dollars'], c=color_years, s = 400, cmap = 'cividis') \n",
    "\n",
    "# Label the graph\n",
    "ax.set_xlabel('GDP (2019 $)', fontsize = 14)  # Add an x-label to the axes.\n",
    "ax.set_ylabel('Annual ZHVI (2019 $)',fontsize = 14)  # Add a y-label to the axes.\n",
    "ax.set_title(\"Virginia Annual GDP vs Zillow Home Value Index\",fontsize = 20)  # Add a title to the axes.\n",
    "\n",
    "# Aesthetic mods\n",
    "ax.grid(True) # Add a grid\n",
    "fig.set_size_inches(12, 8) # Set fixed size\n",
    "\n",
    "# Setup a colorbar to see the gradient\n",
    "# call the color map to use ('cividis') via matplotlib\n",
    "cmap = mpl.cm.cividis\n",
    "# Set the scale to match the data\n",
    "norm = mpl.colors.Normalize(vmin=color_years.min(), vmax=color_years.max())\n",
    "cb = plt.colorbar(mpl.cm.ScalarMappable(norm=norm, cmap=cmap),\n",
    "             orientation='vertical', label='Year')\n",
    "\n",
    "# Add a dashed line that shows the progression of time \n",
    "ax.plot(gdp_zhvi_data['GDP-2019-Dollars'],gdp_zhvi_data['ZHVI-2019-Dollars'], label='linear', linestyle = 'dashed', color = 'steelblue')\n",
    "# Change the font size of the label\n",
    "cb.set_label(label='Year', fontsize = 14)\n",
    "\n",
    "# automatically adjusts subplot params so that the subplot(s) fits in to the figure area\n",
    "plt.tight_layout()\n",
    "\n",
    "plt.show()\n",
    "\n",
    "fig.savefig('zhvi_gdp_observation.png')"
   ]
  },
  {
   "cell_type": "code",
   "execution_count": 15,
   "metadata": {},
   "outputs": [
    {
     "data": {
      "image/png": "[encoded data removed]",
      "text/plain": [
       "<Figure size 864x576 with 1 Axes>"
      ]
     },
     "metadata": {
      "needs_background": "light"
     },
     "output_type": "display_data"
    }
   ],
   "source": [
    "# Simple polyfit regression to plot confidence intervals. Excluded coloring the years - focus is on goodness of fit of\n",
    "# the predictor (GDP) and response (ZHVI)\n",
    "\n",
    "# I used the Matplotlib documentation found here: \n",
    "# https://matplotlib.org/3.1.3/gallery/lines_bars_and_markers/fill_between_demo.html#sphx-glr-gallery-lines-bars-and-markers-fill-between-demo-py\n",
    "va_gdp = gdp_zhvi_data['GDP-2019-Dollars']\n",
    "va_zhvi = gdp_zhvi_data['ZHVI-2019-Dollars']\n",
    "\n",
    "\n",
    "# Obtain m (slope) and b(intercept) of linear regression line\n",
    "m, b = np.polyfit(va_gdp, va_zhvi, deg=1)\n",
    "\n",
    "# Set the estimated equation for \n",
    "va_zhvi_est = m * va_gdp + b\n",
    "\n",
    "# Calculate the error terms - NEED TO CHECK THIS CALCULATION... APPROACH MAY BE OFF\n",
    "va_zhvi_err = va_gdp.std() * np.sqrt(1/len(va_gdp) +\n",
    "                          (va_gdp - va_gdp.mean())**2 / np.sum((va_gdp - va_gdp.mean())**2))\n",
    "\n",
    "# Setup a confidence interval plot\n",
    "figCI, axCI = plt.subplots()\n",
    "axCI.plot(va_gdp, va_zhvi_est, '-', color = 'darkgrey', label = 'Predicted Values')\n",
    "# Set confidence interval bars\n",
    "axCI.fill_between(va_gdp, va_zhvi_est - va_zhvi_err, va_zhvi_est + va_zhvi_err, color = 'lightsteelblue', alpha=0.1, label = 'Confidence Interval')\n",
    "axCI.plot(va_gdp, va_zhvi, 'o', color='midnightblue', markersize = 10, label = 'Actual Values')\n",
    "\n",
    "# Label the graph\n",
    "axCI.set_xlabel('GDP (2019 $)', fontsize = 14)  # Add an x-label to the axes.\n",
    "axCI.set_ylabel('Annual ZHVI (2019 $)',fontsize = 14)  # Add a y-label to the axes.\n",
    "axCI.set_title(\"Virginia Annual GDP vs Zillow Home Value Index\",fontsize = 20)  # Add a title to the axes.\n",
    "axCI.grid(True) # Add a grid\n",
    "figCI.set_size_inches(12, 8) # Set fixed size\n",
    "plt.legend(fontsize = 12)\n",
    "\n",
    "plt.show()\n",
    "\n",
    "figCI.savefig('regression.png')"
   ]
  },
  {
   "cell_type": "code",
   "execution_count": 16,
   "metadata": {},
   "outputs": [
    {
     "data": {
      "image/png": "[encoded data removed]",
      "text/plain": [
       "<Figure size 576x432 with 1 Axes>"
      ]
     },
     "metadata": {
      "needs_background": "light"
     },
     "output_type": "display_data"
    }
   ],
   "source": [
    "# Create a visualization of ZHVI per year \n",
    "\n",
    "# Only a single plot - using this as a best practice for later reflection \n",
    "fig, ax = plt.subplots()  # Create a figure and an axes.\n",
    "\n",
    "# Call the variables for plotting, including assigning years to color\n",
    "ax.scatter(gdp_zhvi_data['yr'],gdp_zhvi_data['ZHVI-2019-Dollars'], s = 200) \n",
    "\n",
    "# Label the graph\n",
    "ax.set_xlabel('Year', fontsize = 14)  # Add an x-label to the axes.\n",
    "ax.set_ylabel('Annual ZHVI (2019 $)',fontsize = 14)  # Add a y-label to the axes.\n",
    "ax.set_title(\"Virginia ZHVI vs Year\",fontsize = 20)  # Add a title to the axes.\n",
    "\n",
    "# Aesthetic mods\n",
    "ax.grid(True) # Add a grid\n",
    "fig.set_size_inches(8, 6) # Set fixed size\n",
    "\n",
    "# automatically adjusts subplot params so that the subplot(s) fits in to the figure area\n",
    "plt.tight_layout()\n",
    "\n",
    "plt.show()\n",
    "\n",
    "fig.savefig('zhvi_yr.png')"
   ]
  },
  {
   "cell_type": "code",
   "execution_count": 17,
   "metadata": {},
   "outputs": [
    {
     "data": {
      "image/png": "[encoded data removed]",
      "text/plain": [
       "<Figure size 576x432 with 1 Axes>"
      ]
     },
     "metadata": {
      "needs_background": "light"
     },
     "output_type": "display_data"
    }
   ],
   "source": [
    "# Create a visualization of ZHVI per year \n",
    "\n",
    "# Only a single plot - using this as a best practice for later reflection \n",
    "fig, ax = plt.subplots()  # Create a figure and an axes.\n",
    "\n",
    "# Call the variables for plotting, including assigning years to color\n",
    "ax.scatter(gdp_zhvi_data['yr'],gdp_zhvi_data['GDP-2019-Dollars'], s = 200, color = 'g') \n",
    "\n",
    "# Label the graph\n",
    "ax.set_xlabel('Year', fontsize = 14)  # Add an x-label to the axes.\n",
    "ax.set_ylabel('Virginia GPD ($000 2019',fontsize = 14)  # Add a y-label to the axes.\n",
    "ax.set_title(\"Virginia GDP vs Year\",fontsize = 20)  # Add a title to the axes.\n",
    "\n",
    "# Aesthetic mods\n",
    "ax.grid(True) # Add a grid\n",
    "fig.set_size_inches(8, 6) # Set fixed size\n",
    "\n",
    "# automatically adjusts subplot params so that the subplot(s) fits in to the figure area\n",
    "plt.tight_layout()\n",
    "\n",
    "plt.show()\n",
    "\n",
    "fig.savefig('gdp_yr.png')"
   ]
  },
  {
   "cell_type": "code",
   "execution_count": null,
   "metadata": {},
   "outputs": [],
   "source": []
  }
 ],
 "metadata": {
  "kernelspec": {
   "display_name": "Python 3",
   "language": "python",
   "name": "python3"
  },
  "language_info": {
   "codemirror_mode": {
    "name": "ipython",
    "version": 3
   },
   "file_extension": ".py",
   "mimetype": "text/x-python",
   "name": "python",
   "nbconvert_exporter": "python",
   "pygments_lexer": "ipython3",
   "version": "3.7.6"
  }
 },
 "nbformat": 4,
 "nbformat_minor": 4
}
