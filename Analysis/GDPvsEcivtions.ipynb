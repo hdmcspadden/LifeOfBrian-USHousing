{
 "metadata": {
  "language_info": {
   "codemirror_mode": {
    "name": "ipython",
    "version": 3
   },
   "file_extension": ".py",
   "mimetype": "text/x-python",
   "name": "python",
   "nbconvert_exporter": "python",
   "pygments_lexer": "ipython3",
   "version": "3.8.3-final"
  },
  "orig_nbformat": 2,
  "kernelspec": {
   "name": "python3",
   "display_name": "Python 3",
   "metadata": {
    "interpreter": {
     "hash": "31f2aee4e71d21fbe5cf8b01ff0e069b9275f58929596ceb00d14d90e3e16cd6"
    }
   }
  }
 },
 "nbformat": 4,
 "nbformat_minor": 2,
 "cells": [
  {
   "cell_type": "code",
   "execution_count": 13,
   "metadata": {},
   "outputs": [],
   "source": [
    "import pandas as pd\n",
    "import numpy as np\n",
    "import matplotlib.pyplot as plt\n",
    "import matplotlib as mpl\n",
    "\n",
    "###\n",
    "import matplotlib.pyplot as plt\n",
    "\n",
    "# Import inflation function from GDP Housing Analysis\n",
    "from common_functions import inflation_adjust_to2019"
   ]
  },
  {
   "cell_type": "code",
   "execution_count": 7,
   "metadata": {},
   "outputs": [
    {
     "output_type": "execute_result",
     "data": {
      "text/plain": "    year  amount  inflation rate  cumulative\n0   1995    1.00          0.0000      0.0000\n1   1996    1.03          0.0295      0.0295\n2   1997    1.05          0.0229      0.0531\n3   1998    1.07          0.0156      0.0696\n4   1999    1.09          0.0221      0.0932\n5   2000    1.13          0.0336      0.1299\n6   2001    1.16          0.0285      0.1621\n7   2002    1.18          0.0158      0.1804\n8   2003    1.21          0.0228      0.2073\n9   2004    1.24          0.0266      0.2395\n10  2005    1.28          0.0339      0.2815\n11  2006    1.32          0.0323      0.3228\n12  2007    1.36          0.0285      0.3605\n13  2008    1.41          0.0384      0.4127\n14  2009    1.41         -0.0036      0.4077\n15  2010    1.43          0.0164      0.4308\n16  2011    1.48          0.0316      0.4760\n17  2012    1.51          0.0207      0.5065\n18  2013    1.53          0.0146      0.5286\n19  2014    1.55          0.0162      0.5534\n20  2015    1.56          0.0012      0.5552\n21  2016    1.57          0.0126      0.5748\n22  2017    1.61          0.0213      0.6084\n23  2018    1.65          0.0249      0.6485\n24  2019    1.68          0.0176      0.6775\n25  2020    1.71          0.0181      0.7079",
      "text/html": "<div>\n<style scoped>\n    .dataframe tbody tr th:only-of-type {\n        vertical-align: middle;\n    }\n\n    .dataframe tbody tr th {\n        vertical-align: top;\n    }\n\n    .dataframe thead th {\n        text-align: right;\n    }\n</style>\n<table border=\"1\" class=\"dataframe\">\n  <thead>\n    <tr style=\"text-align: right;\">\n      <th></th>\n      <th>year</th>\n      <th>amount</th>\n      <th>inflation rate</th>\n      <th>cumulative</th>\n    </tr>\n  </thead>\n  <tbody>\n    <tr>\n      <th>0</th>\n      <td>1995</td>\n      <td>1.00</td>\n      <td>0.0000</td>\n      <td>0.0000</td>\n    </tr>\n    <tr>\n      <th>1</th>\n      <td>1996</td>\n      <td>1.03</td>\n      <td>0.0295</td>\n      <td>0.0295</td>\n    </tr>\n    <tr>\n      <th>2</th>\n      <td>1997</td>\n      <td>1.05</td>\n      <td>0.0229</td>\n      <td>0.0531</td>\n    </tr>\n    <tr>\n      <th>3</th>\n      <td>1998</td>\n      <td>1.07</td>\n      <td>0.0156</td>\n      <td>0.0696</td>\n    </tr>\n    <tr>\n      <th>4</th>\n      <td>1999</td>\n      <td>1.09</td>\n      <td>0.0221</td>\n      <td>0.0932</td>\n    </tr>\n    <tr>\n      <th>5</th>\n      <td>2000</td>\n      <td>1.13</td>\n      <td>0.0336</td>\n      <td>0.1299</td>\n    </tr>\n    <tr>\n      <th>6</th>\n      <td>2001</td>\n      <td>1.16</td>\n      <td>0.0285</td>\n      <td>0.1621</td>\n    </tr>\n    <tr>\n      <th>7</th>\n      <td>2002</td>\n      <td>1.18</td>\n      <td>0.0158</td>\n      <td>0.1804</td>\n    </tr>\n    <tr>\n      <th>8</th>\n      <td>2003</td>\n      <td>1.21</td>\n      <td>0.0228</td>\n      <td>0.2073</td>\n    </tr>\n    <tr>\n      <th>9</th>\n      <td>2004</td>\n      <td>1.24</td>\n      <td>0.0266</td>\n      <td>0.2395</td>\n    </tr>\n    <tr>\n      <th>10</th>\n      <td>2005</td>\n      <td>1.28</td>\n      <td>0.0339</td>\n      <td>0.2815</td>\n    </tr>\n    <tr>\n      <th>11</th>\n      <td>2006</td>\n      <td>1.32</td>\n      <td>0.0323</td>\n      <td>0.3228</td>\n    </tr>\n    <tr>\n      <th>12</th>\n      <td>2007</td>\n      <td>1.36</td>\n      <td>0.0285</td>\n      <td>0.3605</td>\n    </tr>\n    <tr>\n      <th>13</th>\n      <td>2008</td>\n      <td>1.41</td>\n      <td>0.0384</td>\n      <td>0.4127</td>\n    </tr>\n    <tr>\n      <th>14</th>\n      <td>2009</td>\n      <td>1.41</td>\n      <td>-0.0036</td>\n      <td>0.4077</td>\n    </tr>\n    <tr>\n      <th>15</th>\n      <td>2010</td>\n      <td>1.43</td>\n      <td>0.0164</td>\n      <td>0.4308</td>\n    </tr>\n    <tr>\n      <th>16</th>\n      <td>2011</td>\n      <td>1.48</td>\n      <td>0.0316</td>\n      <td>0.4760</td>\n    </tr>\n    <tr>\n      <th>17</th>\n      <td>2012</td>\n      <td>1.51</td>\n      <td>0.0207</td>\n      <td>0.5065</td>\n    </tr>\n    <tr>\n      <th>18</th>\n      <td>2013</td>\n      <td>1.53</td>\n      <td>0.0146</td>\n      <td>0.5286</td>\n    </tr>\n    <tr>\n      <th>19</th>\n      <td>2014</td>\n      <td>1.55</td>\n      <td>0.0162</td>\n      <td>0.5534</td>\n    </tr>\n    <tr>\n      <th>20</th>\n      <td>2015</td>\n      <td>1.56</td>\n      <td>0.0012</td>\n      <td>0.5552</td>\n    </tr>\n    <tr>\n      <th>21</th>\n      <td>2016</td>\n      <td>1.57</td>\n      <td>0.0126</td>\n      <td>0.5748</td>\n    </tr>\n    <tr>\n      <th>22</th>\n      <td>2017</td>\n      <td>1.61</td>\n      <td>0.0213</td>\n      <td>0.6084</td>\n    </tr>\n    <tr>\n      <th>23</th>\n      <td>2018</td>\n      <td>1.65</td>\n      <td>0.0249</td>\n      <td>0.6485</td>\n    </tr>\n    <tr>\n      <th>24</th>\n      <td>2019</td>\n      <td>1.68</td>\n      <td>0.0176</td>\n      <td>0.6775</td>\n    </tr>\n    <tr>\n      <th>25</th>\n      <td>2020</td>\n      <td>1.71</td>\n      <td>0.0181</td>\n      <td>0.7079</td>\n    </tr>\n  </tbody>\n</table>\n</div>"
     },
     "metadata": {},
     "execution_count": 7
    }
   ],
   "source": [
    "# get inflation data\n",
    "inf_data = pd.read_csv(\"../dataset/1995inflation.csv\")\n",
    "inf_data"
   ]
  },
  {
   "cell_type": "code",
   "execution_count": 8,
   "metadata": {},
   "outputs": [
    {
     "output_type": "execute_result",
     "data": {
      "text/plain": "     Unnamed: 0  year          state  current dollars      GDP        GDP_area\n0             0  1995         Alaska             2001   24,791        Far West\n1             1  1995        Alabama             2001   95,514       Southeast\n2             2  1995       Arkansas             2001   53,809       Southeast\n3             3  1995        Arizona             2001  104,586       Southwest\n4             4  1995     California             2001  925,931        Far West\n..          ...   ...            ...              ...      ...             ...\n913         913  2013        Vermont             2014   28,838     New England\n914         914  2013     Washington             2014  407,160        Far West\n915         915  2013      Wisconsin             2014  284,728     Great Lakes\n916         916  2013  West Virginia             2014   70,595       Southeast\n917         917  2013        Wyoming             2014   41,782  Rocky Mountain\n\n[918 rows x 6 columns]",
      "text/html": "<div>\n<style scoped>\n    .dataframe tbody tr th:only-of-type {\n        vertical-align: middle;\n    }\n\n    .dataframe tbody tr th {\n        vertical-align: top;\n    }\n\n    .dataframe thead th {\n        text-align: right;\n    }\n</style>\n<table border=\"1\" class=\"dataframe\">\n  <thead>\n    <tr style=\"text-align: right;\">\n      <th></th>\n      <th>Unnamed: 0</th>\n      <th>year</th>\n      <th>state</th>\n      <th>current dollars</th>\n      <th>GDP</th>\n      <th>GDP_area</th>\n    </tr>\n  </thead>\n  <tbody>\n    <tr>\n      <th>0</th>\n      <td>0</td>\n      <td>1995</td>\n      <td>Alaska</td>\n      <td>2001</td>\n      <td>24,791</td>\n      <td>Far West</td>\n    </tr>\n    <tr>\n      <th>1</th>\n      <td>1</td>\n      <td>1995</td>\n      <td>Alabama</td>\n      <td>2001</td>\n      <td>95,514</td>\n      <td>Southeast</td>\n    </tr>\n    <tr>\n      <th>2</th>\n      <td>2</td>\n      <td>1995</td>\n      <td>Arkansas</td>\n      <td>2001</td>\n      <td>53,809</td>\n      <td>Southeast</td>\n    </tr>\n    <tr>\n      <th>3</th>\n      <td>3</td>\n      <td>1995</td>\n      <td>Arizona</td>\n      <td>2001</td>\n      <td>104,586</td>\n      <td>Southwest</td>\n    </tr>\n    <tr>\n      <th>4</th>\n      <td>4</td>\n      <td>1995</td>\n      <td>California</td>\n      <td>2001</td>\n      <td>925,931</td>\n      <td>Far West</td>\n    </tr>\n    <tr>\n      <th>...</th>\n      <td>...</td>\n      <td>...</td>\n      <td>...</td>\n      <td>...</td>\n      <td>...</td>\n      <td>...</td>\n    </tr>\n    <tr>\n      <th>913</th>\n      <td>913</td>\n      <td>2013</td>\n      <td>Vermont</td>\n      <td>2014</td>\n      <td>28,838</td>\n      <td>New England</td>\n    </tr>\n    <tr>\n      <th>914</th>\n      <td>914</td>\n      <td>2013</td>\n      <td>Washington</td>\n      <td>2014</td>\n      <td>407,160</td>\n      <td>Far West</td>\n    </tr>\n    <tr>\n      <th>915</th>\n      <td>915</td>\n      <td>2013</td>\n      <td>Wisconsin</td>\n      <td>2014</td>\n      <td>284,728</td>\n      <td>Great Lakes</td>\n    </tr>\n    <tr>\n      <th>916</th>\n      <td>916</td>\n      <td>2013</td>\n      <td>West Virginia</td>\n      <td>2014</td>\n      <td>70,595</td>\n      <td>Southeast</td>\n    </tr>\n    <tr>\n      <th>917</th>\n      <td>917</td>\n      <td>2013</td>\n      <td>Wyoming</td>\n      <td>2014</td>\n      <td>41,782</td>\n      <td>Rocky Mountain</td>\n    </tr>\n  </tbody>\n</table>\n<p>918 rows × 6 columns</p>\n</div>"
     },
     "metadata": {},
     "execution_count": 8
    }
   ],
   "source": [
    "# get GDP data\n",
    "gdp_data = pd.read_csv(\"../DataSetDiscovery/yearlyGDPbyState.csv\")\n",
    "gdp_data"
   ]
  },
  {
   "cell_type": "code",
   "execution_count": 9,
   "metadata": {},
   "outputs": [
    {
     "output_type": "execute_result",
     "data": {
      "text/plain": "         GEOID  year      name parent-location  population  poverty-rate  \\\n0      5100148  2000  Abingdon        Virginia      7780.0         10.06   \n1      5100148  2001  Abingdon        Virginia      7780.0         10.06   \n2      5100148  2002  Abingdon        Virginia      7780.0         10.06   \n3      5100148  2003  Abingdon        Virginia      7780.0         10.06   \n4      5100148  2004  Abingdon        Virginia      7780.0         10.06   \n...        ...   ...       ...             ...         ...           ...   \n10118  5188240  2012  Yorktown        Virginia       130.0          0.00   \n10119  5188240  2013  Yorktown        Virginia       130.0          0.00   \n10120  5188240  2014  Yorktown        Virginia       130.0          0.00   \n10121  5188240  2015  Yorktown        Virginia       130.0          0.00   \n10122  5188240  2016  Yorktown        Virginia       130.0          0.00   \n\n       renter-occupied-households  pct-renter-occupied  median-gross-rent  \\\n0                         1398.75                41.94              440.0   \n1                         1438.06                41.94              440.0   \n2                         1474.88                41.94              440.0   \n3                         1514.18                41.94              440.0   \n4                         1552.00                41.94              440.0   \n...                           ...                  ...                ...   \n10118                       46.20                51.06             1000.0   \n10119                       46.90                51.06             1000.0   \n10120                       47.60                51.06             1000.0   \n10121                       49.00                51.06             1000.0   \n10122                       49.70                51.06             1000.0   \n\n       median-household-income  ...  pct-nh-pi  pct-multiple  pct-other  \\\n0                      30976.0  ...       0.01          0.58       0.05   \n1                      30976.0  ...       0.01          0.58       0.05   \n2                      30976.0  ...       0.01          0.58       0.05   \n3                      30976.0  ...       0.01          0.58       0.05   \n4                      30976.0  ...       0.01          0.58       0.05   \n...                        ...  ...        ...           ...        ...   \n10118                  62750.0  ...       0.00         11.54       0.00   \n10119                  62750.0  ...       0.00         11.54       0.00   \n10120                  62750.0  ...       0.00         11.54       0.00   \n10121                  62750.0  ...       0.00         11.54       0.00   \n10122                  62750.0  ...       0.00         11.54       0.00   \n\n       eviction-filings  evictions  eviction-rate  eviction-filing-rate  \\\n0                 29.86      28.86           2.06                  2.13   \n1                 38.50      33.80           2.35                  2.68   \n2                 61.25      47.14           3.20                  4.15   \n3                 53.00      31.00           2.05                  3.50   \n4                 84.20      57.86           3.73                  5.43   \n...                 ...        ...            ...                   ...   \n10118              0.70       0.70           1.52                  1.52   \n10119              0.70       0.00           0.00                  1.49   \n10120              2.80       0.00           0.00                  5.88   \n10121              2.80       0.00           0.00                  5.71   \n10122              2.80       0.70           1.41                  5.63   \n\n       low-flag  imputed  subbed  \n0             0        0       0  \n1             0        0       0  \n2             0        0       0  \n3             0        0       0  \n4             0        0       0  \n...         ...      ...     ...  \n10118         0        0       0  \n10119         0        0       0  \n10120         1        0       0  \n10121         1        0       0  \n10122         1        0       0  \n\n[10123 rows x 27 columns]",
      "text/html": "<div>\n<style scoped>\n    .dataframe tbody tr th:only-of-type {\n        vertical-align: middle;\n    }\n\n    .dataframe tbody tr th {\n        vertical-align: top;\n    }\n\n    .dataframe thead th {\n        text-align: right;\n    }\n</style>\n<table border=\"1\" class=\"dataframe\">\n  <thead>\n    <tr style=\"text-align: right;\">\n      <th></th>\n      <th>GEOID</th>\n      <th>year</th>\n      <th>name</th>\n      <th>parent-location</th>\n      <th>population</th>\n      <th>poverty-rate</th>\n      <th>renter-occupied-households</th>\n      <th>pct-renter-occupied</th>\n      <th>median-gross-rent</th>\n      <th>median-household-income</th>\n      <th>...</th>\n      <th>pct-nh-pi</th>\n      <th>pct-multiple</th>\n      <th>pct-other</th>\n      <th>eviction-filings</th>\n      <th>evictions</th>\n      <th>eviction-rate</th>\n      <th>eviction-filing-rate</th>\n      <th>low-flag</th>\n      <th>imputed</th>\n      <th>subbed</th>\n    </tr>\n  </thead>\n  <tbody>\n    <tr>\n      <th>0</th>\n      <td>5100148</td>\n      <td>2000</td>\n      <td>Abingdon</td>\n      <td>Virginia</td>\n      <td>7780.0</td>\n      <td>10.06</td>\n      <td>1398.75</td>\n      <td>41.94</td>\n      <td>440.0</td>\n      <td>30976.0</td>\n      <td>...</td>\n      <td>0.01</td>\n      <td>0.58</td>\n      <td>0.05</td>\n      <td>29.86</td>\n      <td>28.86</td>\n      <td>2.06</td>\n      <td>2.13</td>\n      <td>0</td>\n      <td>0</td>\n      <td>0</td>\n    </tr>\n    <tr>\n      <th>1</th>\n      <td>5100148</td>\n      <td>2001</td>\n      <td>Abingdon</td>\n      <td>Virginia</td>\n      <td>7780.0</td>\n      <td>10.06</td>\n      <td>1438.06</td>\n      <td>41.94</td>\n      <td>440.0</td>\n      <td>30976.0</td>\n      <td>...</td>\n      <td>0.01</td>\n      <td>0.58</td>\n      <td>0.05</td>\n      <td>38.50</td>\n      <td>33.80</td>\n      <td>2.35</td>\n      <td>2.68</td>\n      <td>0</td>\n      <td>0</td>\n      <td>0</td>\n    </tr>\n    <tr>\n      <th>2</th>\n      <td>5100148</td>\n      <td>2002</td>\n      <td>Abingdon</td>\n      <td>Virginia</td>\n      <td>7780.0</td>\n      <td>10.06</td>\n      <td>1474.88</td>\n      <td>41.94</td>\n      <td>440.0</td>\n      <td>30976.0</td>\n      <td>...</td>\n      <td>0.01</td>\n      <td>0.58</td>\n      <td>0.05</td>\n      <td>61.25</td>\n      <td>47.14</td>\n      <td>3.20</td>\n      <td>4.15</td>\n      <td>0</td>\n      <td>0</td>\n      <td>0</td>\n    </tr>\n    <tr>\n      <th>3</th>\n      <td>5100148</td>\n      <td>2003</td>\n      <td>Abingdon</td>\n      <td>Virginia</td>\n      <td>7780.0</td>\n      <td>10.06</td>\n      <td>1514.18</td>\n      <td>41.94</td>\n      <td>440.0</td>\n      <td>30976.0</td>\n      <td>...</td>\n      <td>0.01</td>\n      <td>0.58</td>\n      <td>0.05</td>\n      <td>53.00</td>\n      <td>31.00</td>\n      <td>2.05</td>\n      <td>3.50</td>\n      <td>0</td>\n      <td>0</td>\n      <td>0</td>\n    </tr>\n    <tr>\n      <th>4</th>\n      <td>5100148</td>\n      <td>2004</td>\n      <td>Abingdon</td>\n      <td>Virginia</td>\n      <td>7780.0</td>\n      <td>10.06</td>\n      <td>1552.00</td>\n      <td>41.94</td>\n      <td>440.0</td>\n      <td>30976.0</td>\n      <td>...</td>\n      <td>0.01</td>\n      <td>0.58</td>\n      <td>0.05</td>\n      <td>84.20</td>\n      <td>57.86</td>\n      <td>3.73</td>\n      <td>5.43</td>\n      <td>0</td>\n      <td>0</td>\n      <td>0</td>\n    </tr>\n    <tr>\n      <th>...</th>\n      <td>...</td>\n      <td>...</td>\n      <td>...</td>\n      <td>...</td>\n      <td>...</td>\n      <td>...</td>\n      <td>...</td>\n      <td>...</td>\n      <td>...</td>\n      <td>...</td>\n      <td>...</td>\n      <td>...</td>\n      <td>...</td>\n      <td>...</td>\n      <td>...</td>\n      <td>...</td>\n      <td>...</td>\n      <td>...</td>\n      <td>...</td>\n      <td>...</td>\n      <td>...</td>\n    </tr>\n    <tr>\n      <th>10118</th>\n      <td>5188240</td>\n      <td>2012</td>\n      <td>Yorktown</td>\n      <td>Virginia</td>\n      <td>130.0</td>\n      <td>0.00</td>\n      <td>46.20</td>\n      <td>51.06</td>\n      <td>1000.0</td>\n      <td>62750.0</td>\n      <td>...</td>\n      <td>0.00</td>\n      <td>11.54</td>\n      <td>0.00</td>\n      <td>0.70</td>\n      <td>0.70</td>\n      <td>1.52</td>\n      <td>1.52</td>\n      <td>0</td>\n      <td>0</td>\n      <td>0</td>\n    </tr>\n    <tr>\n      <th>10119</th>\n      <td>5188240</td>\n      <td>2013</td>\n      <td>Yorktown</td>\n      <td>Virginia</td>\n      <td>130.0</td>\n      <td>0.00</td>\n      <td>46.90</td>\n      <td>51.06</td>\n      <td>1000.0</td>\n      <td>62750.0</td>\n      <td>...</td>\n      <td>0.00</td>\n      <td>11.54</td>\n      <td>0.00</td>\n      <td>0.70</td>\n      <td>0.00</td>\n      <td>0.00</td>\n      <td>1.49</td>\n      <td>0</td>\n      <td>0</td>\n      <td>0</td>\n    </tr>\n    <tr>\n      <th>10120</th>\n      <td>5188240</td>\n      <td>2014</td>\n      <td>Yorktown</td>\n      <td>Virginia</td>\n      <td>130.0</td>\n      <td>0.00</td>\n      <td>47.60</td>\n      <td>51.06</td>\n      <td>1000.0</td>\n      <td>62750.0</td>\n      <td>...</td>\n      <td>0.00</td>\n      <td>11.54</td>\n      <td>0.00</td>\n      <td>2.80</td>\n      <td>0.00</td>\n      <td>0.00</td>\n      <td>5.88</td>\n      <td>1</td>\n      <td>0</td>\n      <td>0</td>\n    </tr>\n    <tr>\n      <th>10121</th>\n      <td>5188240</td>\n      <td>2015</td>\n      <td>Yorktown</td>\n      <td>Virginia</td>\n      <td>130.0</td>\n      <td>0.00</td>\n      <td>49.00</td>\n      <td>51.06</td>\n      <td>1000.0</td>\n      <td>62750.0</td>\n      <td>...</td>\n      <td>0.00</td>\n      <td>11.54</td>\n      <td>0.00</td>\n      <td>2.80</td>\n      <td>0.00</td>\n      <td>0.00</td>\n      <td>5.71</td>\n      <td>1</td>\n      <td>0</td>\n      <td>0</td>\n    </tr>\n    <tr>\n      <th>10122</th>\n      <td>5188240</td>\n      <td>2016</td>\n      <td>Yorktown</td>\n      <td>Virginia</td>\n      <td>130.0</td>\n      <td>0.00</td>\n      <td>49.70</td>\n      <td>51.06</td>\n      <td>1000.0</td>\n      <td>62750.0</td>\n      <td>...</td>\n      <td>0.00</td>\n      <td>11.54</td>\n      <td>0.00</td>\n      <td>2.80</td>\n      <td>0.70</td>\n      <td>1.41</td>\n      <td>5.63</td>\n      <td>1</td>\n      <td>0</td>\n      <td>0</td>\n    </tr>\n  </tbody>\n</table>\n<p>10123 rows × 27 columns</p>\n</div>"
     },
     "metadata": {},
     "execution_count": 9
    }
   ],
   "source": [
    "# get evictions data\n",
    "evc_data = pd.read_csv(r'../DataSet/va_eviction_cities.csv',header=0,encoding = \"ISO-8859-1\")\n",
    "evc_data"
   ]
  },
  {
   "cell_type": "code",
   "execution_count": null,
   "metadata": {},
   "outputs": [],
   "source": []
  }
 ]
}