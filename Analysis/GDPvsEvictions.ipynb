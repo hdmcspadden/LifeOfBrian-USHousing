{
 "metadata": {
  "language_info": {
   "codemirror_mode": {
    "name": "ipython",
    "version": 3
   },
   "file_extension": ".py",
   "mimetype": "text/x-python",
   "name": "python",
   "nbconvert_exporter": "python",
   "pygments_lexer": "ipython3",
   "version": "3.8.3-final"
  },
  "orig_nbformat": 2,
  "kernelspec": {
   "name": "python3",
   "display_name": "Python 3"
  }
 },
 "nbformat": 4,
 "nbformat_minor": 2,
 "cells": [
  {
   "cell_type": "code",
   "execution_count": 62,
   "metadata": {},
   "outputs": [],
   "source": [
    "import pandas as pd\n",
    "import numpy as np\n",
    "import matplotlib.pyplot as plt\n",
    "import matplotlib as mpl\n",
    "\n",
    "# Import inflation function from GDP Housing Analysis\n",
    "import common_functions"
   ]
  },
  {
   "cell_type": "code",
   "execution_count": 63,
   "metadata": {},
   "outputs": [
    {
     "output_type": "execute_result",
     "data": {
      "text/plain": [
       "year                int64\n",
       "amount            float64\n",
       "inflation rate    float64\n",
       "cumulative        float64\n",
       "dtype: object"
      ]
     },
     "metadata": {},
     "execution_count": 63
    }
   ],
   "source": [
    "# get inflation data\n",
    "inf_data = pd.read_csv(\"../dataset/1995inflation.csv\")\n",
    "inf_data.dtypes"
   ]
  },
  {
   "cell_type": "code",
   "execution_count": 64,
   "metadata": {},
   "outputs": [
    {
     "output_type": "execute_result",
     "data": {
      "text/plain": [
       "      Unnamed: 0  year          state  current dollars        GDP  \\\n",
       "0              1  1995        Alabama             2001   95514.00   \n",
       "1              0  1995         Alaska             2001   24791.00   \n",
       "2              3  1995        Arizona             2001  104586.00   \n",
       "3              2  1995       Arkansas             2001   53809.00   \n",
       "4              4  1995     California             2001  925931.00   \n",
       "...          ...   ...            ...              ...        ...   \n",
       "1270        1269  2019       Virginia             2019  554211.25   \n",
       "1271        1271  2019     Washington             2019  599607.50   \n",
       "1272        1273  2019  West Virginia             2019   78189.50   \n",
       "1273        1272  2019      Wisconsin             2019  347306.00   \n",
       "1274        1274  2019        Wyoming             2019   39646.25   \n",
       "\n",
       "            GDP_area  \n",
       "0          Southeast  \n",
       "1           Far West  \n",
       "2          Southwest  \n",
       "3          Southeast  \n",
       "4           Far West  \n",
       "...              ...  \n",
       "1270       Southeast  \n",
       "1271        Far West  \n",
       "1272       Southeast  \n",
       "1273     Great Lakes  \n",
       "1274  Rocky Mountain  \n",
       "\n",
       "[1275 rows x 6 columns]"
      ],
      "text/html": "<div>\n<style scoped>\n    .dataframe tbody tr th:only-of-type {\n        vertical-align: middle;\n    }\n\n    .dataframe tbody tr th {\n        vertical-align: top;\n    }\n\n    .dataframe thead th {\n        text-align: right;\n    }\n</style>\n<table border=\"1\" class=\"dataframe\">\n  <thead>\n    <tr style=\"text-align: right;\">\n      <th></th>\n      <th>Unnamed: 0</th>\n      <th>year</th>\n      <th>state</th>\n      <th>current dollars</th>\n      <th>GDP</th>\n      <th>GDP_area</th>\n    </tr>\n  </thead>\n  <tbody>\n    <tr>\n      <th>0</th>\n      <td>1</td>\n      <td>1995</td>\n      <td>Alabama</td>\n      <td>2001</td>\n      <td>95514.00</td>\n      <td>Southeast</td>\n    </tr>\n    <tr>\n      <th>1</th>\n      <td>0</td>\n      <td>1995</td>\n      <td>Alaska</td>\n      <td>2001</td>\n      <td>24791.00</td>\n      <td>Far West</td>\n    </tr>\n    <tr>\n      <th>2</th>\n      <td>3</td>\n      <td>1995</td>\n      <td>Arizona</td>\n      <td>2001</td>\n      <td>104586.00</td>\n      <td>Southwest</td>\n    </tr>\n    <tr>\n      <th>3</th>\n      <td>2</td>\n      <td>1995</td>\n      <td>Arkansas</td>\n      <td>2001</td>\n      <td>53809.00</td>\n      <td>Southeast</td>\n    </tr>\n    <tr>\n      <th>4</th>\n      <td>4</td>\n      <td>1995</td>\n      <td>California</td>\n      <td>2001</td>\n      <td>925931.00</td>\n      <td>Far West</td>\n    </tr>\n    <tr>\n      <th>...</th>\n      <td>...</td>\n      <td>...</td>\n      <td>...</td>\n      <td>...</td>\n      <td>...</td>\n      <td>...</td>\n    </tr>\n    <tr>\n      <th>1270</th>\n      <td>1269</td>\n      <td>2019</td>\n      <td>Virginia</td>\n      <td>2019</td>\n      <td>554211.25</td>\n      <td>Southeast</td>\n    </tr>\n    <tr>\n      <th>1271</th>\n      <td>1271</td>\n      <td>2019</td>\n      <td>Washington</td>\n      <td>2019</td>\n      <td>599607.50</td>\n      <td>Far West</td>\n    </tr>\n    <tr>\n      <th>1272</th>\n      <td>1273</td>\n      <td>2019</td>\n      <td>West Virginia</td>\n      <td>2019</td>\n      <td>78189.50</td>\n      <td>Southeast</td>\n    </tr>\n    <tr>\n      <th>1273</th>\n      <td>1272</td>\n      <td>2019</td>\n      <td>Wisconsin</td>\n      <td>2019</td>\n      <td>347306.00</td>\n      <td>Great Lakes</td>\n    </tr>\n    <tr>\n      <th>1274</th>\n      <td>1274</td>\n      <td>2019</td>\n      <td>Wyoming</td>\n      <td>2019</td>\n      <td>39646.25</td>\n      <td>Rocky Mountain</td>\n    </tr>\n  </tbody>\n</table>\n<p>1275 rows × 6 columns</p>\n</div>"
     },
     "metadata": {},
     "execution_count": 64
    }
   ],
   "source": [
    "# get GDP data\n",
    "gdp_data = pd.read_csv(\"../DataSet/yearlyGDPbyState.csv\")\n",
    "\n",
    "gdp_data"
   ]
  },
  {
   "cell_type": "code",
   "execution_count": 65,
   "metadata": {},
   "outputs": [
    {
     "output_type": "execute_result",
     "data": {
      "text/plain": [
       "      Unnamed: 0  year     state  current dollars            GDP   GDP_area  \\\n",
       "301          300  2000  Virginia             2001  260837.000000  Southeast   \n",
       "352          351  2001  Virginia             2004  277214.000000  Southeast   \n",
       "403          402  2002  Virginia             2004  288840.000000  Southeast   \n",
       "454          453  2003  Virginia             2004  304116.000000  Southeast   \n",
       "505          504  2004  Virginia             2007  324870.000000  Southeast   \n",
       "556          555  2005  Virginia             2007  350288.000000  Southeast   \n",
       "607          606  2006  Virginia             2007  368604.000000  Southeast   \n",
       "658          657  2007  Virginia             2010  389319.000000  Southeast   \n",
       "709          708  2008  Virginia             2010  402853.000000  Southeast   \n",
       "760          759  2009  Virginia             2010  409732.000000  Southeast   \n",
       "811          810  2010  Virginia             2013  421325.000000  Southeast   \n",
       "862          861  2011  Virginia             2013  430103.000000  Southeast   \n",
       "913          912  2012  Virginia             2013  445090.000000  Southeast   \n",
       "964          963  2013  Virginia             2014  454984.000000  Southeast   \n",
       "1015        1014  2014  Virginia             2014  463613.000000  Southeast   \n",
       "1066        1065  2015  Virginia             2016  484962.333333  Southeast   \n",
       "1117        1116  2016  Virginia             2016  494349.000000  Southeast   \n",
       "\n",
       "      inf-adjusted  \n",
       "301       377764.0  \n",
       "352       375580.0  \n",
       "403       391332.0  \n",
       "454       412028.0  \n",
       "505       401310.0  \n",
       "556       432709.0  \n",
       "607       455334.0  \n",
       "658       457382.0  \n",
       "709       473282.0  \n",
       "760       481363.0  \n",
       "811       462631.0  \n",
       "862       472270.0  \n",
       "913       488726.0  \n",
       "964       493144.0  \n",
       "1015      502497.0  \n",
       "1066      518941.0  \n",
       "1117      528985.0  "
      ],
      "text/html": "<div>\n<style scoped>\n    .dataframe tbody tr th:only-of-type {\n        vertical-align: middle;\n    }\n\n    .dataframe tbody tr th {\n        vertical-align: top;\n    }\n\n    .dataframe thead th {\n        text-align: right;\n    }\n</style>\n<table border=\"1\" class=\"dataframe\">\n  <thead>\n    <tr style=\"text-align: right;\">\n      <th></th>\n      <th>Unnamed: 0</th>\n      <th>year</th>\n      <th>state</th>\n      <th>current dollars</th>\n      <th>GDP</th>\n      <th>GDP_area</th>\n      <th>inf-adjusted</th>\n    </tr>\n  </thead>\n  <tbody>\n    <tr>\n      <th>301</th>\n      <td>300</td>\n      <td>2000</td>\n      <td>Virginia</td>\n      <td>2001</td>\n      <td>260837.000000</td>\n      <td>Southeast</td>\n      <td>377764.0</td>\n    </tr>\n    <tr>\n      <th>352</th>\n      <td>351</td>\n      <td>2001</td>\n      <td>Virginia</td>\n      <td>2004</td>\n      <td>277214.000000</td>\n      <td>Southeast</td>\n      <td>375580.0</td>\n    </tr>\n    <tr>\n      <th>403</th>\n      <td>402</td>\n      <td>2002</td>\n      <td>Virginia</td>\n      <td>2004</td>\n      <td>288840.000000</td>\n      <td>Southeast</td>\n      <td>391332.0</td>\n    </tr>\n    <tr>\n      <th>454</th>\n      <td>453</td>\n      <td>2003</td>\n      <td>Virginia</td>\n      <td>2004</td>\n      <td>304116.000000</td>\n      <td>Southeast</td>\n      <td>412028.0</td>\n    </tr>\n    <tr>\n      <th>505</th>\n      <td>504</td>\n      <td>2004</td>\n      <td>Virginia</td>\n      <td>2007</td>\n      <td>324870.000000</td>\n      <td>Southeast</td>\n      <td>401310.0</td>\n    </tr>\n    <tr>\n      <th>556</th>\n      <td>555</td>\n      <td>2005</td>\n      <td>Virginia</td>\n      <td>2007</td>\n      <td>350288.000000</td>\n      <td>Southeast</td>\n      <td>432709.0</td>\n    </tr>\n    <tr>\n      <th>607</th>\n      <td>606</td>\n      <td>2006</td>\n      <td>Virginia</td>\n      <td>2007</td>\n      <td>368604.000000</td>\n      <td>Southeast</td>\n      <td>455334.0</td>\n    </tr>\n    <tr>\n      <th>658</th>\n      <td>657</td>\n      <td>2007</td>\n      <td>Virginia</td>\n      <td>2010</td>\n      <td>389319.000000</td>\n      <td>Southeast</td>\n      <td>457382.0</td>\n    </tr>\n    <tr>\n      <th>709</th>\n      <td>708</td>\n      <td>2008</td>\n      <td>Virginia</td>\n      <td>2010</td>\n      <td>402853.000000</td>\n      <td>Southeast</td>\n      <td>473282.0</td>\n    </tr>\n    <tr>\n      <th>760</th>\n      <td>759</td>\n      <td>2009</td>\n      <td>Virginia</td>\n      <td>2010</td>\n      <td>409732.000000</td>\n      <td>Southeast</td>\n      <td>481363.0</td>\n    </tr>\n    <tr>\n      <th>811</th>\n      <td>810</td>\n      <td>2010</td>\n      <td>Virginia</td>\n      <td>2013</td>\n      <td>421325.000000</td>\n      <td>Southeast</td>\n      <td>462631.0</td>\n    </tr>\n    <tr>\n      <th>862</th>\n      <td>861</td>\n      <td>2011</td>\n      <td>Virginia</td>\n      <td>2013</td>\n      <td>430103.000000</td>\n      <td>Southeast</td>\n      <td>472270.0</td>\n    </tr>\n    <tr>\n      <th>913</th>\n      <td>912</td>\n      <td>2012</td>\n      <td>Virginia</td>\n      <td>2013</td>\n      <td>445090.000000</td>\n      <td>Southeast</td>\n      <td>488726.0</td>\n    </tr>\n    <tr>\n      <th>964</th>\n      <td>963</td>\n      <td>2013</td>\n      <td>Virginia</td>\n      <td>2014</td>\n      <td>454984.000000</td>\n      <td>Southeast</td>\n      <td>493144.0</td>\n    </tr>\n    <tr>\n      <th>1015</th>\n      <td>1014</td>\n      <td>2014</td>\n      <td>Virginia</td>\n      <td>2014</td>\n      <td>463613.000000</td>\n      <td>Southeast</td>\n      <td>502497.0</td>\n    </tr>\n    <tr>\n      <th>1066</th>\n      <td>1065</td>\n      <td>2015</td>\n      <td>Virginia</td>\n      <td>2016</td>\n      <td>484962.333333</td>\n      <td>Southeast</td>\n      <td>518941.0</td>\n    </tr>\n    <tr>\n      <th>1117</th>\n      <td>1116</td>\n      <td>2016</td>\n      <td>Virginia</td>\n      <td>2016</td>\n      <td>494349.000000</td>\n      <td>Southeast</td>\n      <td>528985.0</td>\n    </tr>\n  </tbody>\n</table>\n</div>"
     },
     "metadata": {},
     "execution_count": 65
    }
   ],
   "source": [
    "# filter data for just virginia\n",
    "gdp_data = gdp_data[gdp_data['state']==\"Virginia\"]\n",
    "\n",
    "# limit to between 2000 and 2016\n",
    "gdp_data = gdp_data[gdp_data['year']>=2000]\n",
    "gdp_data = gdp_data[gdp_data['year']<=2016]\n",
    "\n",
    "# add inflation adjusted column\n",
    "common_functions.inflation_adjust(gdp_data)\n",
    "\n",
    "gdp_data"
   ]
  },
  {
   "cell_type": "code",
   "execution_count": 66,
   "metadata": {},
   "outputs": [
    {
     "output_type": "execute_result",
     "data": {
      "text/plain": [
       "         GEOID  year      name parent-location  population  poverty-rate  \\\n",
       "0      5100148  2000  Abingdon        Virginia      7780.0         10.06   \n",
       "1      5100148  2001  Abingdon        Virginia      7780.0         10.06   \n",
       "2      5100148  2002  Abingdon        Virginia      7780.0         10.06   \n",
       "3      5100148  2003  Abingdon        Virginia      7780.0         10.06   \n",
       "4      5100148  2004  Abingdon        Virginia      7780.0         10.06   \n",
       "...        ...   ...       ...             ...         ...           ...   \n",
       "10118  5188240  2012  Yorktown        Virginia       130.0          0.00   \n",
       "10119  5188240  2013  Yorktown        Virginia       130.0          0.00   \n",
       "10120  5188240  2014  Yorktown        Virginia       130.0          0.00   \n",
       "10121  5188240  2015  Yorktown        Virginia       130.0          0.00   \n",
       "10122  5188240  2016  Yorktown        Virginia       130.0          0.00   \n",
       "\n",
       "       renter-occupied-households  pct-renter-occupied  median-gross-rent  \\\n",
       "0                         1398.75                41.94              440.0   \n",
       "1                         1438.06                41.94              440.0   \n",
       "2                         1474.88                41.94              440.0   \n",
       "3                         1514.18                41.94              440.0   \n",
       "4                         1552.00                41.94              440.0   \n",
       "...                           ...                  ...                ...   \n",
       "10118                       46.20                51.06             1000.0   \n",
       "10119                       46.90                51.06             1000.0   \n",
       "10120                       47.60                51.06             1000.0   \n",
       "10121                       49.00                51.06             1000.0   \n",
       "10122                       49.70                51.06             1000.0   \n",
       "\n",
       "       median-household-income  ...  pct-nh-pi  pct-multiple  pct-other  \\\n",
       "0                      30976.0  ...       0.01          0.58       0.05   \n",
       "1                      30976.0  ...       0.01          0.58       0.05   \n",
       "2                      30976.0  ...       0.01          0.58       0.05   \n",
       "3                      30976.0  ...       0.01          0.58       0.05   \n",
       "4                      30976.0  ...       0.01          0.58       0.05   \n",
       "...                        ...  ...        ...           ...        ...   \n",
       "10118                  62750.0  ...       0.00         11.54       0.00   \n",
       "10119                  62750.0  ...       0.00         11.54       0.00   \n",
       "10120                  62750.0  ...       0.00         11.54       0.00   \n",
       "10121                  62750.0  ...       0.00         11.54       0.00   \n",
       "10122                  62750.0  ...       0.00         11.54       0.00   \n",
       "\n",
       "       eviction-filings  evictions  eviction-rate  eviction-filing-rate  \\\n",
       "0                 29.86      28.86           2.06                  2.13   \n",
       "1                 38.50      33.80           2.35                  2.68   \n",
       "2                 61.25      47.14           3.20                  4.15   \n",
       "3                 53.00      31.00           2.05                  3.50   \n",
       "4                 84.20      57.86           3.73                  5.43   \n",
       "...                 ...        ...            ...                   ...   \n",
       "10118              0.70       0.70           1.52                  1.52   \n",
       "10119              0.70       0.00           0.00                  1.49   \n",
       "10120              2.80       0.00           0.00                  5.88   \n",
       "10121              2.80       0.00           0.00                  5.71   \n",
       "10122              2.80       0.70           1.41                  5.63   \n",
       "\n",
       "       low-flag  imputed  subbed  \n",
       "0             0        0       0  \n",
       "1             0        0       0  \n",
       "2             0        0       0  \n",
       "3             0        0       0  \n",
       "4             0        0       0  \n",
       "...         ...      ...     ...  \n",
       "10118         0        0       0  \n",
       "10119         0        0       0  \n",
       "10120         1        0       0  \n",
       "10121         1        0       0  \n",
       "10122         1        0       0  \n",
       "\n",
       "[10123 rows x 27 columns]"
      ],
      "text/html": "<div>\n<style scoped>\n    .dataframe tbody tr th:only-of-type {\n        vertical-align: middle;\n    }\n\n    .dataframe tbody tr th {\n        vertical-align: top;\n    }\n\n    .dataframe thead th {\n        text-align: right;\n    }\n</style>\n<table border=\"1\" class=\"dataframe\">\n  <thead>\n    <tr style=\"text-align: right;\">\n      <th></th>\n      <th>GEOID</th>\n      <th>year</th>\n      <th>name</th>\n      <th>parent-location</th>\n      <th>population</th>\n      <th>poverty-rate</th>\n      <th>renter-occupied-households</th>\n      <th>pct-renter-occupied</th>\n      <th>median-gross-rent</th>\n      <th>median-household-income</th>\n      <th>...</th>\n      <th>pct-nh-pi</th>\n      <th>pct-multiple</th>\n      <th>pct-other</th>\n      <th>eviction-filings</th>\n      <th>evictions</th>\n      <th>eviction-rate</th>\n      <th>eviction-filing-rate</th>\n      <th>low-flag</th>\n      <th>imputed</th>\n      <th>subbed</th>\n    </tr>\n  </thead>\n  <tbody>\n    <tr>\n      <th>0</th>\n      <td>5100148</td>\n      <td>2000</td>\n      <td>Abingdon</td>\n      <td>Virginia</td>\n      <td>7780.0</td>\n      <td>10.06</td>\n      <td>1398.75</td>\n      <td>41.94</td>\n      <td>440.0</td>\n      <td>30976.0</td>\n      <td>...</td>\n      <td>0.01</td>\n      <td>0.58</td>\n      <td>0.05</td>\n      <td>29.86</td>\n      <td>28.86</td>\n      <td>2.06</td>\n      <td>2.13</td>\n      <td>0</td>\n      <td>0</td>\n      <td>0</td>\n    </tr>\n    <tr>\n      <th>1</th>\n      <td>5100148</td>\n      <td>2001</td>\n      <td>Abingdon</td>\n      <td>Virginia</td>\n      <td>7780.0</td>\n      <td>10.06</td>\n      <td>1438.06</td>\n      <td>41.94</td>\n      <td>440.0</td>\n      <td>30976.0</td>\n      <td>...</td>\n      <td>0.01</td>\n      <td>0.58</td>\n      <td>0.05</td>\n      <td>38.50</td>\n      <td>33.80</td>\n      <td>2.35</td>\n      <td>2.68</td>\n      <td>0</td>\n      <td>0</td>\n      <td>0</td>\n    </tr>\n    <tr>\n      <th>2</th>\n      <td>5100148</td>\n      <td>2002</td>\n      <td>Abingdon</td>\n      <td>Virginia</td>\n      <td>7780.0</td>\n      <td>10.06</td>\n      <td>1474.88</td>\n      <td>41.94</td>\n      <td>440.0</td>\n      <td>30976.0</td>\n      <td>...</td>\n      <td>0.01</td>\n      <td>0.58</td>\n      <td>0.05</td>\n      <td>61.25</td>\n      <td>47.14</td>\n      <td>3.20</td>\n      <td>4.15</td>\n      <td>0</td>\n      <td>0</td>\n      <td>0</td>\n    </tr>\n    <tr>\n      <th>3</th>\n      <td>5100148</td>\n      <td>2003</td>\n      <td>Abingdon</td>\n      <td>Virginia</td>\n      <td>7780.0</td>\n      <td>10.06</td>\n      <td>1514.18</td>\n      <td>41.94</td>\n      <td>440.0</td>\n      <td>30976.0</td>\n      <td>...</td>\n      <td>0.01</td>\n      <td>0.58</td>\n      <td>0.05</td>\n      <td>53.00</td>\n      <td>31.00</td>\n      <td>2.05</td>\n      <td>3.50</td>\n      <td>0</td>\n      <td>0</td>\n      <td>0</td>\n    </tr>\n    <tr>\n      <th>4</th>\n      <td>5100148</td>\n      <td>2004</td>\n      <td>Abingdon</td>\n      <td>Virginia</td>\n      <td>7780.0</td>\n      <td>10.06</td>\n      <td>1552.00</td>\n      <td>41.94</td>\n      <td>440.0</td>\n      <td>30976.0</td>\n      <td>...</td>\n      <td>0.01</td>\n      <td>0.58</td>\n      <td>0.05</td>\n      <td>84.20</td>\n      <td>57.86</td>\n      <td>3.73</td>\n      <td>5.43</td>\n      <td>0</td>\n      <td>0</td>\n      <td>0</td>\n    </tr>\n    <tr>\n      <th>...</th>\n      <td>...</td>\n      <td>...</td>\n      <td>...</td>\n      <td>...</td>\n      <td>...</td>\n      <td>...</td>\n      <td>...</td>\n      <td>...</td>\n      <td>...</td>\n      <td>...</td>\n      <td>...</td>\n      <td>...</td>\n      <td>...</td>\n      <td>...</td>\n      <td>...</td>\n      <td>...</td>\n      <td>...</td>\n      <td>...</td>\n      <td>...</td>\n      <td>...</td>\n      <td>...</td>\n    </tr>\n    <tr>\n      <th>10118</th>\n      <td>5188240</td>\n      <td>2012</td>\n      <td>Yorktown</td>\n      <td>Virginia</td>\n      <td>130.0</td>\n      <td>0.00</td>\n      <td>46.20</td>\n      <td>51.06</td>\n      <td>1000.0</td>\n      <td>62750.0</td>\n      <td>...</td>\n      <td>0.00</td>\n      <td>11.54</td>\n      <td>0.00</td>\n      <td>0.70</td>\n      <td>0.70</td>\n      <td>1.52</td>\n      <td>1.52</td>\n      <td>0</td>\n      <td>0</td>\n      <td>0</td>\n    </tr>\n    <tr>\n      <th>10119</th>\n      <td>5188240</td>\n      <td>2013</td>\n      <td>Yorktown</td>\n      <td>Virginia</td>\n      <td>130.0</td>\n      <td>0.00</td>\n      <td>46.90</td>\n      <td>51.06</td>\n      <td>1000.0</td>\n      <td>62750.0</td>\n      <td>...</td>\n      <td>0.00</td>\n      <td>11.54</td>\n      <td>0.00</td>\n      <td>0.70</td>\n      <td>0.00</td>\n      <td>0.00</td>\n      <td>1.49</td>\n      <td>0</td>\n      <td>0</td>\n      <td>0</td>\n    </tr>\n    <tr>\n      <th>10120</th>\n      <td>5188240</td>\n      <td>2014</td>\n      <td>Yorktown</td>\n      <td>Virginia</td>\n      <td>130.0</td>\n      <td>0.00</td>\n      <td>47.60</td>\n      <td>51.06</td>\n      <td>1000.0</td>\n      <td>62750.0</td>\n      <td>...</td>\n      <td>0.00</td>\n      <td>11.54</td>\n      <td>0.00</td>\n      <td>2.80</td>\n      <td>0.00</td>\n      <td>0.00</td>\n      <td>5.88</td>\n      <td>1</td>\n      <td>0</td>\n      <td>0</td>\n    </tr>\n    <tr>\n      <th>10121</th>\n      <td>5188240</td>\n      <td>2015</td>\n      <td>Yorktown</td>\n      <td>Virginia</td>\n      <td>130.0</td>\n      <td>0.00</td>\n      <td>49.00</td>\n      <td>51.06</td>\n      <td>1000.0</td>\n      <td>62750.0</td>\n      <td>...</td>\n      <td>0.00</td>\n      <td>11.54</td>\n      <td>0.00</td>\n      <td>2.80</td>\n      <td>0.00</td>\n      <td>0.00</td>\n      <td>5.71</td>\n      <td>1</td>\n      <td>0</td>\n      <td>0</td>\n    </tr>\n    <tr>\n      <th>10122</th>\n      <td>5188240</td>\n      <td>2016</td>\n      <td>Yorktown</td>\n      <td>Virginia</td>\n      <td>130.0</td>\n      <td>0.00</td>\n      <td>49.70</td>\n      <td>51.06</td>\n      <td>1000.0</td>\n      <td>62750.0</td>\n      <td>...</td>\n      <td>0.00</td>\n      <td>11.54</td>\n      <td>0.00</td>\n      <td>2.80</td>\n      <td>0.70</td>\n      <td>1.41</td>\n      <td>5.63</td>\n      <td>1</td>\n      <td>0</td>\n      <td>0</td>\n    </tr>\n  </tbody>\n</table>\n<p>10123 rows × 27 columns</p>\n</div>"
     },
     "metadata": {},
     "execution_count": 66
    }
   ],
   "source": [
    "# get evictions data\n",
    "evc_data = pd.read_csv(r'../DataSet/va_eviction_cities.csv',header=0,encoding = \"ISO-8859-1\")\n",
    "# preview data\n",
    "evc_data"
   ]
  },
  {
   "cell_type": "code",
   "execution_count": 67,
   "metadata": {},
   "outputs": [
    {
     "output_type": "execute_result",
     "data": {
      "text/plain": [
       "        population  poverty-rate  renter-occupied-households  \\\n",
       "year                                                           \n",
       "2000  11772.024259     11.870000                 1113.026717   \n",
       "2001  11772.024259     11.870000                 1204.411079   \n",
       "2002  11772.024259     11.870000                 1167.352432   \n",
       "2003  11772.024259     11.870000                 1220.029386   \n",
       "2004  11772.024259     11.870000                 1233.541124   \n",
       "2005  12428.849057      9.824340                 1250.299864   \n",
       "2006  12428.849057      9.824340                 1265.145945   \n",
       "2007  12428.849057      9.824340                  887.566833   \n",
       "2008  12428.849057      9.824340                  899.944960   \n",
       "2009  12428.849057      9.824340                  926.120142   \n",
       "2010   9193.274112      9.632521                  994.265964   \n",
       "2011   9530.084317     10.807083                 1196.246761   \n",
       "2012   9530.084317     10.807083                 1202.627408   \n",
       "2013   9530.084317     10.807083                 1214.518702   \n",
       "2014   9530.084317     10.807083                 1252.083257   \n",
       "2015   9530.084317     10.807083                 1374.799317   \n",
       "2016   9530.084317     10.807083                 1395.449054   \n",
       "\n",
       "      pct-renter-occupied  median-gross-rent  median-household-income  \\\n",
       "year                                                                    \n",
       "2000            32.258652         560.733154             40801.199461   \n",
       "2001            32.258652         560.733154             40801.199461   \n",
       "2002            32.258652         560.733154             40801.199461   \n",
       "2003            32.258652         560.733154             40801.199461   \n",
       "2004            32.258652         560.733154             40801.199461   \n",
       "2005            33.472776         800.338028             50835.905660   \n",
       "2006            33.472776         800.338028             50835.905660   \n",
       "2007            33.472776         800.338028             50835.905660   \n",
       "2008            33.472776         800.338028             50835.905660   \n",
       "2009            33.472776         800.338028             50835.905660   \n",
       "2010            31.347868         981.105578             58499.319728   \n",
       "2011            32.518432        1056.968288             61867.679348   \n",
       "2012            32.518432        1056.968288             61867.679348   \n",
       "2013            32.518432        1056.968288             61867.679348   \n",
       "2014            32.518432        1056.968288             61867.679348   \n",
       "2015            32.518432        1056.968288             61867.679348   \n",
       "2016            32.518432        1056.968288             61867.679348   \n",
       "\n",
       "      median-property-value  rent-burden  pct-white  pct-af-am  ...  \\\n",
       "year                                                            ...   \n",
       "2000          110936.657682    23.999461  77.970135  14.954663  ...   \n",
       "2001          110936.657682    23.999461  77.970135  14.954663  ...   \n",
       "2002          110936.657682    23.999461  77.970135  14.954663  ...   \n",
       "2003          110936.657682    23.999461  77.970135  14.954663  ...   \n",
       "2004          110936.657682    23.999461  77.970135  14.954663  ...   \n",
       "2005          209925.002717    29.342776  74.381536  15.850000  ...   \n",
       "2006          209925.002717    29.342776  74.381536  15.850000  ...   \n",
       "2007          209925.002717    29.342776  74.381536  15.850000  ...   \n",
       "2008          209925.002717    29.342776  74.381536  15.850000  ...   \n",
       "2009          209925.002717    29.342776  74.381536  15.850000  ...   \n",
       "2010          222321.010417    30.974059  71.645533  16.285110  ...   \n",
       "2011          228528.703704    30.557173  71.632243  15.752968  ...   \n",
       "2012          228528.703704    30.557173  71.632243  15.752968  ...   \n",
       "2013          228528.703704    30.557173  71.632243  15.752968  ...   \n",
       "2014          228528.703704    30.557173  71.632243  15.752968  ...   \n",
       "2015          228528.703704    30.557173  71.632243  15.752968  ...   \n",
       "2016          228528.703704    30.557173  71.632243  15.752968  ...   \n",
       "\n",
       "      pct-am-ind  pct-asian  pct-nh-pi  pct-multiple  pct-other  \\\n",
       "year                                                              \n",
       "2000    0.211321   1.996819   0.028059      1.178113   0.120458   \n",
       "2001    0.211321   1.996819   0.028059      1.178113   0.120458   \n",
       "2002    0.211321   1.996819   0.028059      1.178113   0.120458   \n",
       "2003    0.211321   1.996819   0.028059      1.178113   0.120458   \n",
       "2004    0.211321   1.996819   0.028059      1.178113   0.120458   \n",
       "2005    0.212372   2.537601   0.047332      1.329973   0.182183   \n",
       "2006    0.212372   2.537601   0.047332      1.329973   0.182183   \n",
       "2007    0.212372   2.537601   0.047332      1.329973   0.182183   \n",
       "2008    0.212372   2.537601   0.047332      1.329973   0.182183   \n",
       "2009    0.212372   2.537601   0.047332      1.329973   0.182183   \n",
       "2010    0.243435   3.640457   0.057022      1.823181   0.152234   \n",
       "2011    0.164081   3.729157   0.035531      2.075093   0.144334   \n",
       "2012    0.164081   3.729157   0.035531      2.075093   0.144334   \n",
       "2013    0.164081   3.729157   0.035531      2.075093   0.144334   \n",
       "2014    0.164081   3.729157   0.035531      2.075093   0.144334   \n",
       "2015    0.164081   3.729157   0.035531      2.075093   0.144334   \n",
       "2016    0.164081   3.729157   0.035531      2.075093   0.144334   \n",
       "\n",
       "      eviction-rate  eviction-filing-rate  low-flag  imputed  subbed  \n",
       "year                                                                  \n",
       "2000       3.385601              4.377060  0.026891      0.0     0.0  \n",
       "2001       3.669979              4.950373  0.045378      0.0     0.0  \n",
       "2002       3.589514              6.551304  0.005042      0.0     0.0  \n",
       "2003       3.528072              6.294249  0.114286      0.0     0.0  \n",
       "2004       3.841005              8.018075  0.000000      0.0     0.0  \n",
       "2005       3.488620              8.009455  0.000000      0.0     0.0  \n",
       "2006       3.603220              8.424566  0.011765      0.0     0.0  \n",
       "2007       3.779382              5.395299  0.047059      0.0     0.0  \n",
       "2008       4.344841              5.281394  0.063866      0.0     0.0  \n",
       "2009       3.619837              4.982114  0.047059      0.0     0.0  \n",
       "2010       4.154831              6.788390  0.588832      0.0     0.0  \n",
       "2011       4.004319              9.861009  0.572864      0.0     0.0  \n",
       "2012       6.067198             11.799422  0.571189      0.0     0.0  \n",
       "2013       5.931332             10.979533  0.440536      0.0     0.0  \n",
       "2014       5.555757             11.731127  0.428811      0.0     0.0  \n",
       "2015       5.316007              9.790455  0.393635      0.0     0.0  \n",
       "2016       3.480490              9.467285  0.182580      0.0     0.0  \n",
       "\n",
       "[17 rows x 21 columns]"
      ],
      "text/html": "<div>\n<style scoped>\n    .dataframe tbody tr th:only-of-type {\n        vertical-align: middle;\n    }\n\n    .dataframe tbody tr th {\n        vertical-align: top;\n    }\n\n    .dataframe thead th {\n        text-align: right;\n    }\n</style>\n<table border=\"1\" class=\"dataframe\">\n  <thead>\n    <tr style=\"text-align: right;\">\n      <th></th>\n      <th>population</th>\n      <th>poverty-rate</th>\n      <th>renter-occupied-households</th>\n      <th>pct-renter-occupied</th>\n      <th>median-gross-rent</th>\n      <th>median-household-income</th>\n      <th>median-property-value</th>\n      <th>rent-burden</th>\n      <th>pct-white</th>\n      <th>pct-af-am</th>\n      <th>...</th>\n      <th>pct-am-ind</th>\n      <th>pct-asian</th>\n      <th>pct-nh-pi</th>\n      <th>pct-multiple</th>\n      <th>pct-other</th>\n      <th>eviction-rate</th>\n      <th>eviction-filing-rate</th>\n      <th>low-flag</th>\n      <th>imputed</th>\n      <th>subbed</th>\n    </tr>\n    <tr>\n      <th>year</th>\n      <th></th>\n      <th></th>\n      <th></th>\n      <th></th>\n      <th></th>\n      <th></th>\n      <th></th>\n      <th></th>\n      <th></th>\n      <th></th>\n      <th></th>\n      <th></th>\n      <th></th>\n      <th></th>\n      <th></th>\n      <th></th>\n      <th></th>\n      <th></th>\n      <th></th>\n      <th></th>\n      <th></th>\n    </tr>\n  </thead>\n  <tbody>\n    <tr>\n      <th>2000</th>\n      <td>11772.024259</td>\n      <td>11.870000</td>\n      <td>1113.026717</td>\n      <td>32.258652</td>\n      <td>560.733154</td>\n      <td>40801.199461</td>\n      <td>110936.657682</td>\n      <td>23.999461</td>\n      <td>77.970135</td>\n      <td>14.954663</td>\n      <td>...</td>\n      <td>0.211321</td>\n      <td>1.996819</td>\n      <td>0.028059</td>\n      <td>1.178113</td>\n      <td>0.120458</td>\n      <td>3.385601</td>\n      <td>4.377060</td>\n      <td>0.026891</td>\n      <td>0.0</td>\n      <td>0.0</td>\n    </tr>\n    <tr>\n      <th>2001</th>\n      <td>11772.024259</td>\n      <td>11.870000</td>\n      <td>1204.411079</td>\n      <td>32.258652</td>\n      <td>560.733154</td>\n      <td>40801.199461</td>\n      <td>110936.657682</td>\n      <td>23.999461</td>\n      <td>77.970135</td>\n      <td>14.954663</td>\n      <td>...</td>\n      <td>0.211321</td>\n      <td>1.996819</td>\n      <td>0.028059</td>\n      <td>1.178113</td>\n      <td>0.120458</td>\n      <td>3.669979</td>\n      <td>4.950373</td>\n      <td>0.045378</td>\n      <td>0.0</td>\n      <td>0.0</td>\n    </tr>\n    <tr>\n      <th>2002</th>\n      <td>11772.024259</td>\n      <td>11.870000</td>\n      <td>1167.352432</td>\n      <td>32.258652</td>\n      <td>560.733154</td>\n      <td>40801.199461</td>\n      <td>110936.657682</td>\n      <td>23.999461</td>\n      <td>77.970135</td>\n      <td>14.954663</td>\n      <td>...</td>\n      <td>0.211321</td>\n      <td>1.996819</td>\n      <td>0.028059</td>\n      <td>1.178113</td>\n      <td>0.120458</td>\n      <td>3.589514</td>\n      <td>6.551304</td>\n      <td>0.005042</td>\n      <td>0.0</td>\n      <td>0.0</td>\n    </tr>\n    <tr>\n      <th>2003</th>\n      <td>11772.024259</td>\n      <td>11.870000</td>\n      <td>1220.029386</td>\n      <td>32.258652</td>\n      <td>560.733154</td>\n      <td>40801.199461</td>\n      <td>110936.657682</td>\n      <td>23.999461</td>\n      <td>77.970135</td>\n      <td>14.954663</td>\n      <td>...</td>\n      <td>0.211321</td>\n      <td>1.996819</td>\n      <td>0.028059</td>\n      <td>1.178113</td>\n      <td>0.120458</td>\n      <td>3.528072</td>\n      <td>6.294249</td>\n      <td>0.114286</td>\n      <td>0.0</td>\n      <td>0.0</td>\n    </tr>\n    <tr>\n      <th>2004</th>\n      <td>11772.024259</td>\n      <td>11.870000</td>\n      <td>1233.541124</td>\n      <td>32.258652</td>\n      <td>560.733154</td>\n      <td>40801.199461</td>\n      <td>110936.657682</td>\n      <td>23.999461</td>\n      <td>77.970135</td>\n      <td>14.954663</td>\n      <td>...</td>\n      <td>0.211321</td>\n      <td>1.996819</td>\n      <td>0.028059</td>\n      <td>1.178113</td>\n      <td>0.120458</td>\n      <td>3.841005</td>\n      <td>8.018075</td>\n      <td>0.000000</td>\n      <td>0.0</td>\n      <td>0.0</td>\n    </tr>\n    <tr>\n      <th>2005</th>\n      <td>12428.849057</td>\n      <td>9.824340</td>\n      <td>1250.299864</td>\n      <td>33.472776</td>\n      <td>800.338028</td>\n      <td>50835.905660</td>\n      <td>209925.002717</td>\n      <td>29.342776</td>\n      <td>74.381536</td>\n      <td>15.850000</td>\n      <td>...</td>\n      <td>0.212372</td>\n      <td>2.537601</td>\n      <td>0.047332</td>\n      <td>1.329973</td>\n      <td>0.182183</td>\n      <td>3.488620</td>\n      <td>8.009455</td>\n      <td>0.000000</td>\n      <td>0.0</td>\n      <td>0.0</td>\n    </tr>\n    <tr>\n      <th>2006</th>\n      <td>12428.849057</td>\n      <td>9.824340</td>\n      <td>1265.145945</td>\n      <td>33.472776</td>\n      <td>800.338028</td>\n      <td>50835.905660</td>\n      <td>209925.002717</td>\n      <td>29.342776</td>\n      <td>74.381536</td>\n      <td>15.850000</td>\n      <td>...</td>\n      <td>0.212372</td>\n      <td>2.537601</td>\n      <td>0.047332</td>\n      <td>1.329973</td>\n      <td>0.182183</td>\n      <td>3.603220</td>\n      <td>8.424566</td>\n      <td>0.011765</td>\n      <td>0.0</td>\n      <td>0.0</td>\n    </tr>\n    <tr>\n      <th>2007</th>\n      <td>12428.849057</td>\n      <td>9.824340</td>\n      <td>887.566833</td>\n      <td>33.472776</td>\n      <td>800.338028</td>\n      <td>50835.905660</td>\n      <td>209925.002717</td>\n      <td>29.342776</td>\n      <td>74.381536</td>\n      <td>15.850000</td>\n      <td>...</td>\n      <td>0.212372</td>\n      <td>2.537601</td>\n      <td>0.047332</td>\n      <td>1.329973</td>\n      <td>0.182183</td>\n      <td>3.779382</td>\n      <td>5.395299</td>\n      <td>0.047059</td>\n      <td>0.0</td>\n      <td>0.0</td>\n    </tr>\n    <tr>\n      <th>2008</th>\n      <td>12428.849057</td>\n      <td>9.824340</td>\n      <td>899.944960</td>\n      <td>33.472776</td>\n      <td>800.338028</td>\n      <td>50835.905660</td>\n      <td>209925.002717</td>\n      <td>29.342776</td>\n      <td>74.381536</td>\n      <td>15.850000</td>\n      <td>...</td>\n      <td>0.212372</td>\n      <td>2.537601</td>\n      <td>0.047332</td>\n      <td>1.329973</td>\n      <td>0.182183</td>\n      <td>4.344841</td>\n      <td>5.281394</td>\n      <td>0.063866</td>\n      <td>0.0</td>\n      <td>0.0</td>\n    </tr>\n    <tr>\n      <th>2009</th>\n      <td>12428.849057</td>\n      <td>9.824340</td>\n      <td>926.120142</td>\n      <td>33.472776</td>\n      <td>800.338028</td>\n      <td>50835.905660</td>\n      <td>209925.002717</td>\n      <td>29.342776</td>\n      <td>74.381536</td>\n      <td>15.850000</td>\n      <td>...</td>\n      <td>0.212372</td>\n      <td>2.537601</td>\n      <td>0.047332</td>\n      <td>1.329973</td>\n      <td>0.182183</td>\n      <td>3.619837</td>\n      <td>4.982114</td>\n      <td>0.047059</td>\n      <td>0.0</td>\n      <td>0.0</td>\n    </tr>\n    <tr>\n      <th>2010</th>\n      <td>9193.274112</td>\n      <td>9.632521</td>\n      <td>994.265964</td>\n      <td>31.347868</td>\n      <td>981.105578</td>\n      <td>58499.319728</td>\n      <td>222321.010417</td>\n      <td>30.974059</td>\n      <td>71.645533</td>\n      <td>16.285110</td>\n      <td>...</td>\n      <td>0.243435</td>\n      <td>3.640457</td>\n      <td>0.057022</td>\n      <td>1.823181</td>\n      <td>0.152234</td>\n      <td>4.154831</td>\n      <td>6.788390</td>\n      <td>0.588832</td>\n      <td>0.0</td>\n      <td>0.0</td>\n    </tr>\n    <tr>\n      <th>2011</th>\n      <td>9530.084317</td>\n      <td>10.807083</td>\n      <td>1196.246761</td>\n      <td>32.518432</td>\n      <td>1056.968288</td>\n      <td>61867.679348</td>\n      <td>228528.703704</td>\n      <td>30.557173</td>\n      <td>71.632243</td>\n      <td>15.752968</td>\n      <td>...</td>\n      <td>0.164081</td>\n      <td>3.729157</td>\n      <td>0.035531</td>\n      <td>2.075093</td>\n      <td>0.144334</td>\n      <td>4.004319</td>\n      <td>9.861009</td>\n      <td>0.572864</td>\n      <td>0.0</td>\n      <td>0.0</td>\n    </tr>\n    <tr>\n      <th>2012</th>\n      <td>9530.084317</td>\n      <td>10.807083</td>\n      <td>1202.627408</td>\n      <td>32.518432</td>\n      <td>1056.968288</td>\n      <td>61867.679348</td>\n      <td>228528.703704</td>\n      <td>30.557173</td>\n      <td>71.632243</td>\n      <td>15.752968</td>\n      <td>...</td>\n      <td>0.164081</td>\n      <td>3.729157</td>\n      <td>0.035531</td>\n      <td>2.075093</td>\n      <td>0.144334</td>\n      <td>6.067198</td>\n      <td>11.799422</td>\n      <td>0.571189</td>\n      <td>0.0</td>\n      <td>0.0</td>\n    </tr>\n    <tr>\n      <th>2013</th>\n      <td>9530.084317</td>\n      <td>10.807083</td>\n      <td>1214.518702</td>\n      <td>32.518432</td>\n      <td>1056.968288</td>\n      <td>61867.679348</td>\n      <td>228528.703704</td>\n      <td>30.557173</td>\n      <td>71.632243</td>\n      <td>15.752968</td>\n      <td>...</td>\n      <td>0.164081</td>\n      <td>3.729157</td>\n      <td>0.035531</td>\n      <td>2.075093</td>\n      <td>0.144334</td>\n      <td>5.931332</td>\n      <td>10.979533</td>\n      <td>0.440536</td>\n      <td>0.0</td>\n      <td>0.0</td>\n    </tr>\n    <tr>\n      <th>2014</th>\n      <td>9530.084317</td>\n      <td>10.807083</td>\n      <td>1252.083257</td>\n      <td>32.518432</td>\n      <td>1056.968288</td>\n      <td>61867.679348</td>\n      <td>228528.703704</td>\n      <td>30.557173</td>\n      <td>71.632243</td>\n      <td>15.752968</td>\n      <td>...</td>\n      <td>0.164081</td>\n      <td>3.729157</td>\n      <td>0.035531</td>\n      <td>2.075093</td>\n      <td>0.144334</td>\n      <td>5.555757</td>\n      <td>11.731127</td>\n      <td>0.428811</td>\n      <td>0.0</td>\n      <td>0.0</td>\n    </tr>\n    <tr>\n      <th>2015</th>\n      <td>9530.084317</td>\n      <td>10.807083</td>\n      <td>1374.799317</td>\n      <td>32.518432</td>\n      <td>1056.968288</td>\n      <td>61867.679348</td>\n      <td>228528.703704</td>\n      <td>30.557173</td>\n      <td>71.632243</td>\n      <td>15.752968</td>\n      <td>...</td>\n      <td>0.164081</td>\n      <td>3.729157</td>\n      <td>0.035531</td>\n      <td>2.075093</td>\n      <td>0.144334</td>\n      <td>5.316007</td>\n      <td>9.790455</td>\n      <td>0.393635</td>\n      <td>0.0</td>\n      <td>0.0</td>\n    </tr>\n    <tr>\n      <th>2016</th>\n      <td>9530.084317</td>\n      <td>10.807083</td>\n      <td>1395.449054</td>\n      <td>32.518432</td>\n      <td>1056.968288</td>\n      <td>61867.679348</td>\n      <td>228528.703704</td>\n      <td>30.557173</td>\n      <td>71.632243</td>\n      <td>15.752968</td>\n      <td>...</td>\n      <td>0.164081</td>\n      <td>3.729157</td>\n      <td>0.035531</td>\n      <td>2.075093</td>\n      <td>0.144334</td>\n      <td>3.480490</td>\n      <td>9.467285</td>\n      <td>0.182580</td>\n      <td>0.0</td>\n      <td>0.0</td>\n    </tr>\n  </tbody>\n</table>\n<p>17 rows × 21 columns</p>\n</div>"
     },
     "metadata": {},
     "execution_count": 67
    }
   ],
   "source": [
    "# create a second data set averaging accross all of virginia\n",
    "evc_mean = evc_data.groupby(['year']).mean()\n",
    "# drop GEOID and other field that don't make sense as an average\n",
    "evc_mean = evc_mean.drop(['GEOID','evictions','eviction-filings'], axis=1)\n",
    "evc_mean"
   ]
  },
  {
   "cell_type": "code",
   "execution_count": 54,
   "metadata": {},
   "outputs": [
    {
     "output_type": "execute_result",
     "data": {
      "text/plain": [
       "           GEOID  population  poverty-rate  renter-occupied-households  \\\n",
       "year                                                                     \n",
       "2000  3060320666   4367421.0       4403.77                   518670.45   \n",
       "2001  3060320666   4367421.0       4403.77                   580526.14   \n",
       "2002  3060320666   4367421.0       4403.77                   600019.15   \n",
       "2003  3060320666   4367421.0       4403.77                   714937.22   \n",
       "2004  3060320666   4367421.0       4403.77                   724088.64   \n",
       "2005  3060320666   4611103.0       3644.83                   733926.02   \n",
       "2006  3060320666   4611103.0       3644.83                   742640.67   \n",
       "2007  3060320666   4611103.0       3644.83                   445558.55   \n",
       "2008  3060320666   4611103.0       3644.83                   451772.37   \n",
       "2009  3060320666   4611103.0       3644.83                   455651.11   \n",
       "2010  3039768738   5433225.0       5692.82                   500115.78   \n",
       "2011  3070782740   5651340.0       6408.60                   675879.42   \n",
       "2012  3070782740   5651340.0       6408.60                   686700.25   \n",
       "2013  3070782740   5651340.0       6408.60                   701991.81   \n",
       "2014  3070782740   5651340.0       6408.60                   711183.29   \n",
       "2015  3070782740   5651340.0       6408.60                   785010.41   \n",
       "2016  3070782740   5651340.0       6408.60                   796801.41   \n",
       "\n",
       "      pct-renter-occupied  median-gross-rent  median-household-income  \\\n",
       "year                                                                    \n",
       "2000             11967.96           208032.0               15137245.0   \n",
       "2001             11967.96           208032.0               15137245.0   \n",
       "2002             11967.96           208032.0               15137245.0   \n",
       "2003             11967.96           208032.0               15137245.0   \n",
       "2004             11967.96           208032.0               15137245.0   \n",
       "2005             12418.40           284120.0               18860121.0   \n",
       "2006             12418.40           284120.0               18860121.0   \n",
       "2007             12418.40           284120.0               18860121.0   \n",
       "2008             12418.40           284120.0               18860121.0   \n",
       "2009             12418.40           284120.0               18860121.0   \n",
       "2010             18526.59           492515.0               34397600.0   \n",
       "2011             19283.43           499946.0               34150959.0   \n",
       "2012             19283.43           499946.0               34150959.0   \n",
       "2013             19283.43           499946.0               34150959.0   \n",
       "2014             19283.43           499946.0               34150959.0   \n",
       "2015             19283.43           499946.0               34150959.0   \n",
       "2016             19283.43           499946.0               34150959.0   \n",
       "\n",
       "      median-property-value  rent-burden  pct-white  ...  pct-nh-pi  \\\n",
       "year                                                 ...              \n",
       "2000             41157500.0       8903.8   28926.92  ...      10.41   \n",
       "2001             41157500.0       8903.8   28926.92  ...      10.41   \n",
       "2002             41157500.0       8903.8   28926.92  ...      10.41   \n",
       "2003             41157500.0       8903.8   28926.92  ...      10.41   \n",
       "2004             41157500.0       8903.8   28926.92  ...      10.41   \n",
       "2005             77252401.0      10358.0   27595.55  ...      17.56   \n",
       "2006             77252401.0      10358.0   27595.55  ...      17.56   \n",
       "2007             77252401.0      10358.0   27595.55  ...      17.56   \n",
       "2008             77252401.0      10358.0   27595.55  ...      17.56   \n",
       "2009             77252401.0      10358.0   27595.55  ...      17.56   \n",
       "2010            128056902.0      15641.9   42342.51  ...      33.70   \n",
       "2011            123405500.0      14698.0   42477.92  ...      21.07   \n",
       "2012            123405500.0      14698.0   42477.92  ...      21.07   \n",
       "2013            123405500.0      14698.0   42477.92  ...      21.07   \n",
       "2014            123405500.0      14698.0   42477.92  ...      21.07   \n",
       "2015            123405500.0      14698.0   42477.92  ...      21.07   \n",
       "2016            123405500.0      14698.0   42477.92  ...      21.07   \n",
       "\n",
       "      pct-multiple  pct-other  eviction-filings  evictions  eviction-rate  \\\n",
       "year                                                                        \n",
       "2000        437.08      44.69          69268.97   35576.57        1577.69   \n",
       "2001        437.08      44.69          73799.37   38907.10        1768.93   \n",
       "2002        437.08      44.69         107198.46   42529.75        1845.01   \n",
       "2003        437.08      44.69         109694.00   44935.20        2067.45   \n",
       "2004        437.08      44.69         133841.38   47555.56        2254.67   \n",
       "2005        493.42      67.59         136024.47   43936.76        2047.82   \n",
       "2006        493.42      67.59         137974.30   43075.76        2115.09   \n",
       "2007        493.42      67.59          54867.08   30253.92        1897.25   \n",
       "2008        493.42      67.59          52620.30   33946.20        2181.11   \n",
       "2009        493.42      67.59          51015.08   30992.49        1780.96   \n",
       "2010       1077.50      89.97          78294.48   37290.02        2089.88   \n",
       "2011       1230.53      85.59         127033.85   42301.73        2262.44   \n",
       "2012       1230.53      85.59         121160.38   40482.74        3464.37   \n",
       "2013       1230.53      85.59         132006.81   42476.69        3428.31   \n",
       "2014       1230.53      85.59         127293.23   42895.18        3155.67   \n",
       "2015       1230.53      85.59         123030.28   42096.09        3035.44   \n",
       "2016       1230.53      85.59         125659.69   44276.48        1987.36   \n",
       "\n",
       "      eviction-filing-rate  low-flag  imputed  subbed  \n",
       "year                                                   \n",
       "2000               2039.71        16        0       0  \n",
       "2001               2386.08        27        0       0  \n",
       "2002               3367.37         3        0       0  \n",
       "2003               3688.43        68        0       0  \n",
       "2004               4706.61         0        0       0  \n",
       "2005               4701.55         0        0       0  \n",
       "2006               4945.22         7        0       0  \n",
       "2007               2708.44        28        0       0  \n",
       "2008               2651.26        38        0       0  \n",
       "2009               2451.20        28        0       0  \n",
       "2010               3414.56       348        0       0  \n",
       "2011               5571.47       342        0       0  \n",
       "2012               6737.47       341        0       0  \n",
       "2013               6346.17       263        0       0  \n",
       "2014               6663.28       256        0       0  \n",
       "2015               5590.35       235        0       0  \n",
       "2016               5405.82       109        0       0  \n",
       "\n",
       "[17 rows x 24 columns]"
      ],
      "text/html": "<div>\n<style scoped>\n    .dataframe tbody tr th:only-of-type {\n        vertical-align: middle;\n    }\n\n    .dataframe tbody tr th {\n        vertical-align: top;\n    }\n\n    .dataframe thead th {\n        text-align: right;\n    }\n</style>\n<table border=\"1\" class=\"dataframe\">\n  <thead>\n    <tr style=\"text-align: right;\">\n      <th></th>\n      <th>GEOID</th>\n      <th>population</th>\n      <th>poverty-rate</th>\n      <th>renter-occupied-households</th>\n      <th>pct-renter-occupied</th>\n      <th>median-gross-rent</th>\n      <th>median-household-income</th>\n      <th>median-property-value</th>\n      <th>rent-burden</th>\n      <th>pct-white</th>\n      <th>...</th>\n      <th>pct-nh-pi</th>\n      <th>pct-multiple</th>\n      <th>pct-other</th>\n      <th>eviction-filings</th>\n      <th>evictions</th>\n      <th>eviction-rate</th>\n      <th>eviction-filing-rate</th>\n      <th>low-flag</th>\n      <th>imputed</th>\n      <th>subbed</th>\n    </tr>\n    <tr>\n      <th>year</th>\n      <th></th>\n      <th></th>\n      <th></th>\n      <th></th>\n      <th></th>\n      <th></th>\n      <th></th>\n      <th></th>\n      <th></th>\n      <th></th>\n      <th></th>\n      <th></th>\n      <th></th>\n      <th></th>\n      <th></th>\n      <th></th>\n      <th></th>\n      <th></th>\n      <th></th>\n      <th></th>\n      <th></th>\n    </tr>\n  </thead>\n  <tbody>\n    <tr>\n      <th>2000</th>\n      <td>3060320666</td>\n      <td>4367421.0</td>\n      <td>4403.77</td>\n      <td>518670.45</td>\n      <td>11967.96</td>\n      <td>208032.0</td>\n      <td>15137245.0</td>\n      <td>41157500.0</td>\n      <td>8903.8</td>\n      <td>28926.92</td>\n      <td>...</td>\n      <td>10.41</td>\n      <td>437.08</td>\n      <td>44.69</td>\n      <td>69268.97</td>\n      <td>35576.57</td>\n      <td>1577.69</td>\n      <td>2039.71</td>\n      <td>16</td>\n      <td>0</td>\n      <td>0</td>\n    </tr>\n    <tr>\n      <th>2001</th>\n      <td>3060320666</td>\n      <td>4367421.0</td>\n      <td>4403.77</td>\n      <td>580526.14</td>\n      <td>11967.96</td>\n      <td>208032.0</td>\n      <td>15137245.0</td>\n      <td>41157500.0</td>\n      <td>8903.8</td>\n      <td>28926.92</td>\n      <td>...</td>\n      <td>10.41</td>\n      <td>437.08</td>\n      <td>44.69</td>\n      <td>73799.37</td>\n      <td>38907.10</td>\n      <td>1768.93</td>\n      <td>2386.08</td>\n      <td>27</td>\n      <td>0</td>\n      <td>0</td>\n    </tr>\n    <tr>\n      <th>2002</th>\n      <td>3060320666</td>\n      <td>4367421.0</td>\n      <td>4403.77</td>\n      <td>600019.15</td>\n      <td>11967.96</td>\n      <td>208032.0</td>\n      <td>15137245.0</td>\n      <td>41157500.0</td>\n      <td>8903.8</td>\n      <td>28926.92</td>\n      <td>...</td>\n      <td>10.41</td>\n      <td>437.08</td>\n      <td>44.69</td>\n      <td>107198.46</td>\n      <td>42529.75</td>\n      <td>1845.01</td>\n      <td>3367.37</td>\n      <td>3</td>\n      <td>0</td>\n      <td>0</td>\n    </tr>\n    <tr>\n      <th>2003</th>\n      <td>3060320666</td>\n      <td>4367421.0</td>\n      <td>4403.77</td>\n      <td>714937.22</td>\n      <td>11967.96</td>\n      <td>208032.0</td>\n      <td>15137245.0</td>\n      <td>41157500.0</td>\n      <td>8903.8</td>\n      <td>28926.92</td>\n      <td>...</td>\n      <td>10.41</td>\n      <td>437.08</td>\n      <td>44.69</td>\n      <td>109694.00</td>\n      <td>44935.20</td>\n      <td>2067.45</td>\n      <td>3688.43</td>\n      <td>68</td>\n      <td>0</td>\n      <td>0</td>\n    </tr>\n    <tr>\n      <th>2004</th>\n      <td>3060320666</td>\n      <td>4367421.0</td>\n      <td>4403.77</td>\n      <td>724088.64</td>\n      <td>11967.96</td>\n      <td>208032.0</td>\n      <td>15137245.0</td>\n      <td>41157500.0</td>\n      <td>8903.8</td>\n      <td>28926.92</td>\n      <td>...</td>\n      <td>10.41</td>\n      <td>437.08</td>\n      <td>44.69</td>\n      <td>133841.38</td>\n      <td>47555.56</td>\n      <td>2254.67</td>\n      <td>4706.61</td>\n      <td>0</td>\n      <td>0</td>\n      <td>0</td>\n    </tr>\n    <tr>\n      <th>2005</th>\n      <td>3060320666</td>\n      <td>4611103.0</td>\n      <td>3644.83</td>\n      <td>733926.02</td>\n      <td>12418.40</td>\n      <td>284120.0</td>\n      <td>18860121.0</td>\n      <td>77252401.0</td>\n      <td>10358.0</td>\n      <td>27595.55</td>\n      <td>...</td>\n      <td>17.56</td>\n      <td>493.42</td>\n      <td>67.59</td>\n      <td>136024.47</td>\n      <td>43936.76</td>\n      <td>2047.82</td>\n      <td>4701.55</td>\n      <td>0</td>\n      <td>0</td>\n      <td>0</td>\n    </tr>\n    <tr>\n      <th>2006</th>\n      <td>3060320666</td>\n      <td>4611103.0</td>\n      <td>3644.83</td>\n      <td>742640.67</td>\n      <td>12418.40</td>\n      <td>284120.0</td>\n      <td>18860121.0</td>\n      <td>77252401.0</td>\n      <td>10358.0</td>\n      <td>27595.55</td>\n      <td>...</td>\n      <td>17.56</td>\n      <td>493.42</td>\n      <td>67.59</td>\n      <td>137974.30</td>\n      <td>43075.76</td>\n      <td>2115.09</td>\n      <td>4945.22</td>\n      <td>7</td>\n      <td>0</td>\n      <td>0</td>\n    </tr>\n    <tr>\n      <th>2007</th>\n      <td>3060320666</td>\n      <td>4611103.0</td>\n      <td>3644.83</td>\n      <td>445558.55</td>\n      <td>12418.40</td>\n      <td>284120.0</td>\n      <td>18860121.0</td>\n      <td>77252401.0</td>\n      <td>10358.0</td>\n      <td>27595.55</td>\n      <td>...</td>\n      <td>17.56</td>\n      <td>493.42</td>\n      <td>67.59</td>\n      <td>54867.08</td>\n      <td>30253.92</td>\n      <td>1897.25</td>\n      <td>2708.44</td>\n      <td>28</td>\n      <td>0</td>\n      <td>0</td>\n    </tr>\n    <tr>\n      <th>2008</th>\n      <td>3060320666</td>\n      <td>4611103.0</td>\n      <td>3644.83</td>\n      <td>451772.37</td>\n      <td>12418.40</td>\n      <td>284120.0</td>\n      <td>18860121.0</td>\n      <td>77252401.0</td>\n      <td>10358.0</td>\n      <td>27595.55</td>\n      <td>...</td>\n      <td>17.56</td>\n      <td>493.42</td>\n      <td>67.59</td>\n      <td>52620.30</td>\n      <td>33946.20</td>\n      <td>2181.11</td>\n      <td>2651.26</td>\n      <td>38</td>\n      <td>0</td>\n      <td>0</td>\n    </tr>\n    <tr>\n      <th>2009</th>\n      <td>3060320666</td>\n      <td>4611103.0</td>\n      <td>3644.83</td>\n      <td>455651.11</td>\n      <td>12418.40</td>\n      <td>284120.0</td>\n      <td>18860121.0</td>\n      <td>77252401.0</td>\n      <td>10358.0</td>\n      <td>27595.55</td>\n      <td>...</td>\n      <td>17.56</td>\n      <td>493.42</td>\n      <td>67.59</td>\n      <td>51015.08</td>\n      <td>30992.49</td>\n      <td>1780.96</td>\n      <td>2451.20</td>\n      <td>28</td>\n      <td>0</td>\n      <td>0</td>\n    </tr>\n    <tr>\n      <th>2010</th>\n      <td>3039768738</td>\n      <td>5433225.0</td>\n      <td>5692.82</td>\n      <td>500115.78</td>\n      <td>18526.59</td>\n      <td>492515.0</td>\n      <td>34397600.0</td>\n      <td>128056902.0</td>\n      <td>15641.9</td>\n      <td>42342.51</td>\n      <td>...</td>\n      <td>33.70</td>\n      <td>1077.50</td>\n      <td>89.97</td>\n      <td>78294.48</td>\n      <td>37290.02</td>\n      <td>2089.88</td>\n      <td>3414.56</td>\n      <td>348</td>\n      <td>0</td>\n      <td>0</td>\n    </tr>\n    <tr>\n      <th>2011</th>\n      <td>3070782740</td>\n      <td>5651340.0</td>\n      <td>6408.60</td>\n      <td>675879.42</td>\n      <td>19283.43</td>\n      <td>499946.0</td>\n      <td>34150959.0</td>\n      <td>123405500.0</td>\n      <td>14698.0</td>\n      <td>42477.92</td>\n      <td>...</td>\n      <td>21.07</td>\n      <td>1230.53</td>\n      <td>85.59</td>\n      <td>127033.85</td>\n      <td>42301.73</td>\n      <td>2262.44</td>\n      <td>5571.47</td>\n      <td>342</td>\n      <td>0</td>\n      <td>0</td>\n    </tr>\n    <tr>\n      <th>2012</th>\n      <td>3070782740</td>\n      <td>5651340.0</td>\n      <td>6408.60</td>\n      <td>686700.25</td>\n      <td>19283.43</td>\n      <td>499946.0</td>\n      <td>34150959.0</td>\n      <td>123405500.0</td>\n      <td>14698.0</td>\n      <td>42477.92</td>\n      <td>...</td>\n      <td>21.07</td>\n      <td>1230.53</td>\n      <td>85.59</td>\n      <td>121160.38</td>\n      <td>40482.74</td>\n      <td>3464.37</td>\n      <td>6737.47</td>\n      <td>341</td>\n      <td>0</td>\n      <td>0</td>\n    </tr>\n    <tr>\n      <th>2013</th>\n      <td>3070782740</td>\n      <td>5651340.0</td>\n      <td>6408.60</td>\n      <td>701991.81</td>\n      <td>19283.43</td>\n      <td>499946.0</td>\n      <td>34150959.0</td>\n      <td>123405500.0</td>\n      <td>14698.0</td>\n      <td>42477.92</td>\n      <td>...</td>\n      <td>21.07</td>\n      <td>1230.53</td>\n      <td>85.59</td>\n      <td>132006.81</td>\n      <td>42476.69</td>\n      <td>3428.31</td>\n      <td>6346.17</td>\n      <td>263</td>\n      <td>0</td>\n      <td>0</td>\n    </tr>\n    <tr>\n      <th>2014</th>\n      <td>3070782740</td>\n      <td>5651340.0</td>\n      <td>6408.60</td>\n      <td>711183.29</td>\n      <td>19283.43</td>\n      <td>499946.0</td>\n      <td>34150959.0</td>\n      <td>123405500.0</td>\n      <td>14698.0</td>\n      <td>42477.92</td>\n      <td>...</td>\n      <td>21.07</td>\n      <td>1230.53</td>\n      <td>85.59</td>\n      <td>127293.23</td>\n      <td>42895.18</td>\n      <td>3155.67</td>\n      <td>6663.28</td>\n      <td>256</td>\n      <td>0</td>\n      <td>0</td>\n    </tr>\n    <tr>\n      <th>2015</th>\n      <td>3070782740</td>\n      <td>5651340.0</td>\n      <td>6408.60</td>\n      <td>785010.41</td>\n      <td>19283.43</td>\n      <td>499946.0</td>\n      <td>34150959.0</td>\n      <td>123405500.0</td>\n      <td>14698.0</td>\n      <td>42477.92</td>\n      <td>...</td>\n      <td>21.07</td>\n      <td>1230.53</td>\n      <td>85.59</td>\n      <td>123030.28</td>\n      <td>42096.09</td>\n      <td>3035.44</td>\n      <td>5590.35</td>\n      <td>235</td>\n      <td>0</td>\n      <td>0</td>\n    </tr>\n    <tr>\n      <th>2016</th>\n      <td>3070782740</td>\n      <td>5651340.0</td>\n      <td>6408.60</td>\n      <td>796801.41</td>\n      <td>19283.43</td>\n      <td>499946.0</td>\n      <td>34150959.0</td>\n      <td>123405500.0</td>\n      <td>14698.0</td>\n      <td>42477.92</td>\n      <td>...</td>\n      <td>21.07</td>\n      <td>1230.53</td>\n      <td>85.59</td>\n      <td>125659.69</td>\n      <td>44276.48</td>\n      <td>1987.36</td>\n      <td>5405.82</td>\n      <td>109</td>\n      <td>0</td>\n      <td>0</td>\n    </tr>\n  </tbody>\n</table>\n<p>17 rows × 24 columns</p>\n</div>"
     },
     "metadata": {},
     "execution_count": 54
    }
   ],
   "source": [
    "# create a third data set summing all of Virginia\n",
    "evc_sum = evc_data.groupby(['year']).sum()\n",
    "# note: this does not match the entire population of virginia.  Persumably there are some communities missing.\n",
    "# note: Eviction filings and evictions are presented in fractions is this because they are in thousands or because they are estimates?\n",
    "evc_sum"
   ]
  },
  {
   "cell_type": "code",
   "execution_count": 55,
   "metadata": {},
   "outputs": [
    {
     "output_type": "execute_result",
     "data": {
      "text/plain": [
       "GEOID                                                               52067671838\n",
       "year                                                                   20327042\n",
       "name                          AbingdonAbingdonAbingdonAbingdonAbingdonAbingd...\n",
       "parent-location               VirginiaVirginiaVirginiaVirginiaVirginiaVirgin...\n",
       "population                                                          8.42339e+07\n",
       "poverty-rate                                                            84387.4\n",
       "renter-occupied-households                                          1.08255e+07\n",
       "pct-renter-occupied                                                      256159\n",
       "median-gross-rent                                                   5.95295e+06\n",
       "median-household-income                                              4.0929e+08\n",
       "median-property-value                                               1.46054e+09\n",
       "rent-burden                                                              200139\n",
       "pct-white                                                                579822\n",
       "pct-af-am                                                                122816\n",
       "pct-hispanic                                                            43336.8\n",
       "pct-am-ind                                                              1513.62\n",
       "pct-asian                                                               23831.2\n",
       "pct-nh-pi                                                                299.97\n",
       "pct-multiple                                                            13113.2\n",
       "pct-other                                                               1164.91\n",
       "eviction-filings                                                    1.76078e+06\n",
       "evictions                                                                683528\n",
       "eviction-rate                                                           38959.4\n",
       "eviction-filing-rate                                                      73375\n",
       "low-flag                                                                   2109\n",
       "imputed                                                                       0\n",
       "subbed                                                                        0\n",
       "dtype: object"
      ]
     },
     "metadata": {},
     "execution_count": 55
    }
   ],
   "source": [
    "# sum both sets of data to ensure data was summed correctly (Is there a better way??)\n",
    "evc_data.sum(axis=0)"
   ]
  },
  {
   "cell_type": "code",
   "execution_count": 56,
   "metadata": {},
   "outputs": [
    {
     "output_type": "execute_result",
     "data": {
      "text/plain": [
       "GEOID                         5.206767e+10\n",
       "population                    8.423388e+07\n",
       "poverty-rate                  8.438742e+04\n",
       "renter-occupied-households    1.082547e+07\n",
       "pct-renter-occupied           2.561590e+05\n",
       "median-gross-rent             5.952951e+06\n",
       "median-household-income       4.092902e+08\n",
       "median-property-value         1.460539e+09\n",
       "rent-burden                   2.001389e+05\n",
       "pct-white                     5.798224e+05\n",
       "pct-af-am                     1.228162e+05\n",
       "pct-hispanic                  4.333683e+04\n",
       "pct-am-ind                    1.513620e+03\n",
       "pct-asian                     2.383120e+04\n",
       "pct-nh-pi                     2.999700e+02\n",
       "pct-multiple                  1.311318e+04\n",
       "pct-other                     1.164910e+03\n",
       "eviction-filings              1.760782e+06\n",
       "evictions                     6.835282e+05\n",
       "eviction-rate                 3.895945e+04\n",
       "eviction-filing-rate          7.337499e+04\n",
       "low-flag                      2.109000e+03\n",
       "imputed                       0.000000e+00\n",
       "subbed                        0.000000e+00\n",
       "dtype: float64"
      ]
     },
     "metadata": {},
     "execution_count": 56
    }
   ],
   "source": [
    "evc_sum.sum(axis=0)"
   ]
  },
  {
   "cell_type": "code",
   "execution_count": 57,
   "metadata": {},
   "outputs": [
    {
     "output_type": "execute_result",
     "data": {
      "text/plain": [
       "        population  poverty-rate  renter-occupied-households  \\\n",
       "year                                                           \n",
       "2000  11772.024259     11.870000                   518670.45   \n",
       "2001  11772.024259     11.870000                   580526.14   \n",
       "2002  11772.024259     11.870000                   600019.15   \n",
       "2003  11772.024259     11.870000                   714937.22   \n",
       "2004  11772.024259     11.870000                   724088.64   \n",
       "2005  12428.849057      9.824340                   733926.02   \n",
       "2006  12428.849057      9.824340                   742640.67   \n",
       "2007  12428.849057      9.824340                   445558.55   \n",
       "2008  12428.849057      9.824340                   451772.37   \n",
       "2009  12428.849057      9.824340                   455651.11   \n",
       "2010   9193.274112      9.632521                   500115.78   \n",
       "2011   9530.084317     10.807083                   675879.42   \n",
       "2012   9530.084317     10.807083                   686700.25   \n",
       "2013   9530.084317     10.807083                   701991.81   \n",
       "2014   9530.084317     10.807083                   711183.29   \n",
       "2015   9530.084317     10.807083                   785010.41   \n",
       "2016   9530.084317     10.807083                   796801.41   \n",
       "\n",
       "      pct-renter-occupied  median-gross-rent  median-household-income  \\\n",
       "year                                                                    \n",
       "2000            32.258652         560.733154             40801.199461   \n",
       "2001            32.258652         560.733154             40801.199461   \n",
       "2002            32.258652         560.733154             40801.199461   \n",
       "2003            32.258652         560.733154             40801.199461   \n",
       "2004            32.258652         560.733154             40801.199461   \n",
       "2005            33.472776         800.338028             50835.905660   \n",
       "2006            33.472776         800.338028             50835.905660   \n",
       "2007            33.472776         800.338028             50835.905660   \n",
       "2008            33.472776         800.338028             50835.905660   \n",
       "2009            33.472776         800.338028             50835.905660   \n",
       "2010            31.347868         981.105578             58499.319728   \n",
       "2011            32.518432        1056.968288             61867.679348   \n",
       "2012            32.518432        1056.968288             61867.679348   \n",
       "2013            32.518432        1056.968288             61867.679348   \n",
       "2014            32.518432        1056.968288             61867.679348   \n",
       "2015            32.518432        1056.968288             61867.679348   \n",
       "2016            32.518432        1056.968288             61867.679348   \n",
       "\n",
       "      median-property-value  rent-burden  pct-white  pct-af-am  ...  \\\n",
       "year                                                            ...   \n",
       "2000          110936.657682    23.999461  77.970135  14.954663  ...   \n",
       "2001          110936.657682    23.999461  77.970135  14.954663  ...   \n",
       "2002          110936.657682    23.999461  77.970135  14.954663  ...   \n",
       "2003          110936.657682    23.999461  77.970135  14.954663  ...   \n",
       "2004          110936.657682    23.999461  77.970135  14.954663  ...   \n",
       "2005          209925.002717    29.342776  74.381536  15.850000  ...   \n",
       "2006          209925.002717    29.342776  74.381536  15.850000  ...   \n",
       "2007          209925.002717    29.342776  74.381536  15.850000  ...   \n",
       "2008          209925.002717    29.342776  74.381536  15.850000  ...   \n",
       "2009          209925.002717    29.342776  74.381536  15.850000  ...   \n",
       "2010          222321.010417    30.974059  71.645533  16.285110  ...   \n",
       "2011          228528.703704    30.557173  71.632243  15.752968  ...   \n",
       "2012          228528.703704    30.557173  71.632243  15.752968  ...   \n",
       "2013          228528.703704    30.557173  71.632243  15.752968  ...   \n",
       "2014          228528.703704    30.557173  71.632243  15.752968  ...   \n",
       "2015          228528.703704    30.557173  71.632243  15.752968  ...   \n",
       "2016          228528.703704    30.557173  71.632243  15.752968  ...   \n",
       "\n",
       "      pct-nh-pi  pct-multiple  pct-other  eviction-rate  eviction-filing-rate  \\\n",
       "year                                                                            \n",
       "2000   0.028059      1.178113   0.120458       3.385601              4.377060   \n",
       "2001   0.028059      1.178113   0.120458       3.669979              4.950373   \n",
       "2002   0.028059      1.178113   0.120458       3.589514              6.551304   \n",
       "2003   0.028059      1.178113   0.120458       3.528072              6.294249   \n",
       "2004   0.028059      1.178113   0.120458       3.841005              8.018075   \n",
       "2005   0.047332      1.329973   0.182183       3.488620              8.009455   \n",
       "2006   0.047332      1.329973   0.182183       3.603220              8.424566   \n",
       "2007   0.047332      1.329973   0.182183       3.779382              5.395299   \n",
       "2008   0.047332      1.329973   0.182183       4.344841              5.281394   \n",
       "2009   0.047332      1.329973   0.182183       3.619837              4.982114   \n",
       "2010   0.057022      1.823181   0.152234       4.154831              6.788390   \n",
       "2011   0.035531      2.075093   0.144334       4.004319              9.861009   \n",
       "2012   0.035531      2.075093   0.144334       6.067198             11.799422   \n",
       "2013   0.035531      2.075093   0.144334       5.931332             10.979533   \n",
       "2014   0.035531      2.075093   0.144334       5.555757             11.731127   \n",
       "2015   0.035531      2.075093   0.144334       5.316007              9.790455   \n",
       "2016   0.035531      2.075093   0.144334       3.480490              9.467285   \n",
       "\n",
       "      low-flag  imputed  subbed  total population  evictions  \n",
       "year                                                          \n",
       "2000  0.026891      0.0     0.0         4367421.0   35576.57  \n",
       "2001  0.045378      0.0     0.0         4367421.0   38907.10  \n",
       "2002  0.005042      0.0     0.0         4367421.0   42529.75  \n",
       "2003  0.114286      0.0     0.0         4367421.0   44935.20  \n",
       "2004  0.000000      0.0     0.0         4367421.0   47555.56  \n",
       "2005  0.000000      0.0     0.0         4611103.0   43936.76  \n",
       "2006  0.011765      0.0     0.0         4611103.0   43075.76  \n",
       "2007  0.047059      0.0     0.0         4611103.0   30253.92  \n",
       "2008  0.063866      0.0     0.0         4611103.0   33946.20  \n",
       "2009  0.047059      0.0     0.0         4611103.0   30992.49  \n",
       "2010  0.588832      0.0     0.0         5433225.0   37290.02  \n",
       "2011  0.572864      0.0     0.0         5651340.0   42301.73  \n",
       "2012  0.571189      0.0     0.0         5651340.0   40482.74  \n",
       "2013  0.440536      0.0     0.0         5651340.0   42476.69  \n",
       "2014  0.428811      0.0     0.0         5651340.0   42895.18  \n",
       "2015  0.393635      0.0     0.0         5651340.0   42096.09  \n",
       "2016  0.182580      0.0     0.0         5651340.0   44276.48  \n",
       "\n",
       "[17 rows x 23 columns]"
      ],
      "text/html": "<div>\n<style scoped>\n    .dataframe tbody tr th:only-of-type {\n        vertical-align: middle;\n    }\n\n    .dataframe tbody tr th {\n        vertical-align: top;\n    }\n\n    .dataframe thead th {\n        text-align: right;\n    }\n</style>\n<table border=\"1\" class=\"dataframe\">\n  <thead>\n    <tr style=\"text-align: right;\">\n      <th></th>\n      <th>population</th>\n      <th>poverty-rate</th>\n      <th>renter-occupied-households</th>\n      <th>pct-renter-occupied</th>\n      <th>median-gross-rent</th>\n      <th>median-household-income</th>\n      <th>median-property-value</th>\n      <th>rent-burden</th>\n      <th>pct-white</th>\n      <th>pct-af-am</th>\n      <th>...</th>\n      <th>pct-nh-pi</th>\n      <th>pct-multiple</th>\n      <th>pct-other</th>\n      <th>eviction-rate</th>\n      <th>eviction-filing-rate</th>\n      <th>low-flag</th>\n      <th>imputed</th>\n      <th>subbed</th>\n      <th>total population</th>\n      <th>evictions</th>\n    </tr>\n    <tr>\n      <th>year</th>\n      <th></th>\n      <th></th>\n      <th></th>\n      <th></th>\n      <th></th>\n      <th></th>\n      <th></th>\n      <th></th>\n      <th></th>\n      <th></th>\n      <th></th>\n      <th></th>\n      <th></th>\n      <th></th>\n      <th></th>\n      <th></th>\n      <th></th>\n      <th></th>\n      <th></th>\n      <th></th>\n      <th></th>\n    </tr>\n  </thead>\n  <tbody>\n    <tr>\n      <th>2000</th>\n      <td>11772.024259</td>\n      <td>11.870000</td>\n      <td>518670.45</td>\n      <td>32.258652</td>\n      <td>560.733154</td>\n      <td>40801.199461</td>\n      <td>110936.657682</td>\n      <td>23.999461</td>\n      <td>77.970135</td>\n      <td>14.954663</td>\n      <td>...</td>\n      <td>0.028059</td>\n      <td>1.178113</td>\n      <td>0.120458</td>\n      <td>3.385601</td>\n      <td>4.377060</td>\n      <td>0.026891</td>\n      <td>0.0</td>\n      <td>0.0</td>\n      <td>4367421.0</td>\n      <td>35576.57</td>\n    </tr>\n    <tr>\n      <th>2001</th>\n      <td>11772.024259</td>\n      <td>11.870000</td>\n      <td>580526.14</td>\n      <td>32.258652</td>\n      <td>560.733154</td>\n      <td>40801.199461</td>\n      <td>110936.657682</td>\n      <td>23.999461</td>\n      <td>77.970135</td>\n      <td>14.954663</td>\n      <td>...</td>\n      <td>0.028059</td>\n      <td>1.178113</td>\n      <td>0.120458</td>\n      <td>3.669979</td>\n      <td>4.950373</td>\n      <td>0.045378</td>\n      <td>0.0</td>\n      <td>0.0</td>\n      <td>4367421.0</td>\n      <td>38907.10</td>\n    </tr>\n    <tr>\n      <th>2002</th>\n      <td>11772.024259</td>\n      <td>11.870000</td>\n      <td>600019.15</td>\n      <td>32.258652</td>\n      <td>560.733154</td>\n      <td>40801.199461</td>\n      <td>110936.657682</td>\n      <td>23.999461</td>\n      <td>77.970135</td>\n      <td>14.954663</td>\n      <td>...</td>\n      <td>0.028059</td>\n      <td>1.178113</td>\n      <td>0.120458</td>\n      <td>3.589514</td>\n      <td>6.551304</td>\n      <td>0.005042</td>\n      <td>0.0</td>\n      <td>0.0</td>\n      <td>4367421.0</td>\n      <td>42529.75</td>\n    </tr>\n    <tr>\n      <th>2003</th>\n      <td>11772.024259</td>\n      <td>11.870000</td>\n      <td>714937.22</td>\n      <td>32.258652</td>\n      <td>560.733154</td>\n      <td>40801.199461</td>\n      <td>110936.657682</td>\n      <td>23.999461</td>\n      <td>77.970135</td>\n      <td>14.954663</td>\n      <td>...</td>\n      <td>0.028059</td>\n      <td>1.178113</td>\n      <td>0.120458</td>\n      <td>3.528072</td>\n      <td>6.294249</td>\n      <td>0.114286</td>\n      <td>0.0</td>\n      <td>0.0</td>\n      <td>4367421.0</td>\n      <td>44935.20</td>\n    </tr>\n    <tr>\n      <th>2004</th>\n      <td>11772.024259</td>\n      <td>11.870000</td>\n      <td>724088.64</td>\n      <td>32.258652</td>\n      <td>560.733154</td>\n      <td>40801.199461</td>\n      <td>110936.657682</td>\n      <td>23.999461</td>\n      <td>77.970135</td>\n      <td>14.954663</td>\n      <td>...</td>\n      <td>0.028059</td>\n      <td>1.178113</td>\n      <td>0.120458</td>\n      <td>3.841005</td>\n      <td>8.018075</td>\n      <td>0.000000</td>\n      <td>0.0</td>\n      <td>0.0</td>\n      <td>4367421.0</td>\n      <td>47555.56</td>\n    </tr>\n    <tr>\n      <th>2005</th>\n      <td>12428.849057</td>\n      <td>9.824340</td>\n      <td>733926.02</td>\n      <td>33.472776</td>\n      <td>800.338028</td>\n      <td>50835.905660</td>\n      <td>209925.002717</td>\n      <td>29.342776</td>\n      <td>74.381536</td>\n      <td>15.850000</td>\n      <td>...</td>\n      <td>0.047332</td>\n      <td>1.329973</td>\n      <td>0.182183</td>\n      <td>3.488620</td>\n      <td>8.009455</td>\n      <td>0.000000</td>\n      <td>0.0</td>\n      <td>0.0</td>\n      <td>4611103.0</td>\n      <td>43936.76</td>\n    </tr>\n    <tr>\n      <th>2006</th>\n      <td>12428.849057</td>\n      <td>9.824340</td>\n      <td>742640.67</td>\n      <td>33.472776</td>\n      <td>800.338028</td>\n      <td>50835.905660</td>\n      <td>209925.002717</td>\n      <td>29.342776</td>\n      <td>74.381536</td>\n      <td>15.850000</td>\n      <td>...</td>\n      <td>0.047332</td>\n      <td>1.329973</td>\n      <td>0.182183</td>\n      <td>3.603220</td>\n      <td>8.424566</td>\n      <td>0.011765</td>\n      <td>0.0</td>\n      <td>0.0</td>\n      <td>4611103.0</td>\n      <td>43075.76</td>\n    </tr>\n    <tr>\n      <th>2007</th>\n      <td>12428.849057</td>\n      <td>9.824340</td>\n      <td>445558.55</td>\n      <td>33.472776</td>\n      <td>800.338028</td>\n      <td>50835.905660</td>\n      <td>209925.002717</td>\n      <td>29.342776</td>\n      <td>74.381536</td>\n      <td>15.850000</td>\n      <td>...</td>\n      <td>0.047332</td>\n      <td>1.329973</td>\n      <td>0.182183</td>\n      <td>3.779382</td>\n      <td>5.395299</td>\n      <td>0.047059</td>\n      <td>0.0</td>\n      <td>0.0</td>\n      <td>4611103.0</td>\n      <td>30253.92</td>\n    </tr>\n    <tr>\n      <th>2008</th>\n      <td>12428.849057</td>\n      <td>9.824340</td>\n      <td>451772.37</td>\n      <td>33.472776</td>\n      <td>800.338028</td>\n      <td>50835.905660</td>\n      <td>209925.002717</td>\n      <td>29.342776</td>\n      <td>74.381536</td>\n      <td>15.850000</td>\n      <td>...</td>\n      <td>0.047332</td>\n      <td>1.329973</td>\n      <td>0.182183</td>\n      <td>4.344841</td>\n      <td>5.281394</td>\n      <td>0.063866</td>\n      <td>0.0</td>\n      <td>0.0</td>\n      <td>4611103.0</td>\n      <td>33946.20</td>\n    </tr>\n    <tr>\n      <th>2009</th>\n      <td>12428.849057</td>\n      <td>9.824340</td>\n      <td>455651.11</td>\n      <td>33.472776</td>\n      <td>800.338028</td>\n      <td>50835.905660</td>\n      <td>209925.002717</td>\n      <td>29.342776</td>\n      <td>74.381536</td>\n      <td>15.850000</td>\n      <td>...</td>\n      <td>0.047332</td>\n      <td>1.329973</td>\n      <td>0.182183</td>\n      <td>3.619837</td>\n      <td>4.982114</td>\n      <td>0.047059</td>\n      <td>0.0</td>\n      <td>0.0</td>\n      <td>4611103.0</td>\n      <td>30992.49</td>\n    </tr>\n    <tr>\n      <th>2010</th>\n      <td>9193.274112</td>\n      <td>9.632521</td>\n      <td>500115.78</td>\n      <td>31.347868</td>\n      <td>981.105578</td>\n      <td>58499.319728</td>\n      <td>222321.010417</td>\n      <td>30.974059</td>\n      <td>71.645533</td>\n      <td>16.285110</td>\n      <td>...</td>\n      <td>0.057022</td>\n      <td>1.823181</td>\n      <td>0.152234</td>\n      <td>4.154831</td>\n      <td>6.788390</td>\n      <td>0.588832</td>\n      <td>0.0</td>\n      <td>0.0</td>\n      <td>5433225.0</td>\n      <td>37290.02</td>\n    </tr>\n    <tr>\n      <th>2011</th>\n      <td>9530.084317</td>\n      <td>10.807083</td>\n      <td>675879.42</td>\n      <td>32.518432</td>\n      <td>1056.968288</td>\n      <td>61867.679348</td>\n      <td>228528.703704</td>\n      <td>30.557173</td>\n      <td>71.632243</td>\n      <td>15.752968</td>\n      <td>...</td>\n      <td>0.035531</td>\n      <td>2.075093</td>\n      <td>0.144334</td>\n      <td>4.004319</td>\n      <td>9.861009</td>\n      <td>0.572864</td>\n      <td>0.0</td>\n      <td>0.0</td>\n      <td>5651340.0</td>\n      <td>42301.73</td>\n    </tr>\n    <tr>\n      <th>2012</th>\n      <td>9530.084317</td>\n      <td>10.807083</td>\n      <td>686700.25</td>\n      <td>32.518432</td>\n      <td>1056.968288</td>\n      <td>61867.679348</td>\n      <td>228528.703704</td>\n      <td>30.557173</td>\n      <td>71.632243</td>\n      <td>15.752968</td>\n      <td>...</td>\n      <td>0.035531</td>\n      <td>2.075093</td>\n      <td>0.144334</td>\n      <td>6.067198</td>\n      <td>11.799422</td>\n      <td>0.571189</td>\n      <td>0.0</td>\n      <td>0.0</td>\n      <td>5651340.0</td>\n      <td>40482.74</td>\n    </tr>\n    <tr>\n      <th>2013</th>\n      <td>9530.084317</td>\n      <td>10.807083</td>\n      <td>701991.81</td>\n      <td>32.518432</td>\n      <td>1056.968288</td>\n      <td>61867.679348</td>\n      <td>228528.703704</td>\n      <td>30.557173</td>\n      <td>71.632243</td>\n      <td>15.752968</td>\n      <td>...</td>\n      <td>0.035531</td>\n      <td>2.075093</td>\n      <td>0.144334</td>\n      <td>5.931332</td>\n      <td>10.979533</td>\n      <td>0.440536</td>\n      <td>0.0</td>\n      <td>0.0</td>\n      <td>5651340.0</td>\n      <td>42476.69</td>\n    </tr>\n    <tr>\n      <th>2014</th>\n      <td>9530.084317</td>\n      <td>10.807083</td>\n      <td>711183.29</td>\n      <td>32.518432</td>\n      <td>1056.968288</td>\n      <td>61867.679348</td>\n      <td>228528.703704</td>\n      <td>30.557173</td>\n      <td>71.632243</td>\n      <td>15.752968</td>\n      <td>...</td>\n      <td>0.035531</td>\n      <td>2.075093</td>\n      <td>0.144334</td>\n      <td>5.555757</td>\n      <td>11.731127</td>\n      <td>0.428811</td>\n      <td>0.0</td>\n      <td>0.0</td>\n      <td>5651340.0</td>\n      <td>42895.18</td>\n    </tr>\n    <tr>\n      <th>2015</th>\n      <td>9530.084317</td>\n      <td>10.807083</td>\n      <td>785010.41</td>\n      <td>32.518432</td>\n      <td>1056.968288</td>\n      <td>61867.679348</td>\n      <td>228528.703704</td>\n      <td>30.557173</td>\n      <td>71.632243</td>\n      <td>15.752968</td>\n      <td>...</td>\n      <td>0.035531</td>\n      <td>2.075093</td>\n      <td>0.144334</td>\n      <td>5.316007</td>\n      <td>9.790455</td>\n      <td>0.393635</td>\n      <td>0.0</td>\n      <td>0.0</td>\n      <td>5651340.0</td>\n      <td>42096.09</td>\n    </tr>\n    <tr>\n      <th>2016</th>\n      <td>9530.084317</td>\n      <td>10.807083</td>\n      <td>796801.41</td>\n      <td>32.518432</td>\n      <td>1056.968288</td>\n      <td>61867.679348</td>\n      <td>228528.703704</td>\n      <td>30.557173</td>\n      <td>71.632243</td>\n      <td>15.752968</td>\n      <td>...</td>\n      <td>0.035531</td>\n      <td>2.075093</td>\n      <td>0.144334</td>\n      <td>3.480490</td>\n      <td>9.467285</td>\n      <td>0.182580</td>\n      <td>0.0</td>\n      <td>0.0</td>\n      <td>5651340.0</td>\n      <td>44276.48</td>\n    </tr>\n  </tbody>\n</table>\n<p>17 rows × 23 columns</p>\n</div>"
     },
     "metadata": {},
     "execution_count": 57
    }
   ],
   "source": [
    "# add relevant columns from evc_sum to evc_mean createing evc_va\n",
    "evc_va = evc_mean\n",
    "evc_va.rename(columns={'population': 'mean-population', 'renter-occupied-households': 'mean-renter-occupied-households'})\n",
    "evc_va['total population'] = evc_sum['population']\n",
    "evc_va['renter-occupied-households'] = evc_sum['renter-occupied-households']\n",
    "evc_va['evictions'] = evc_sum['evictions']\n",
    "\n",
    "evc_va"
   ]
  },
  {
   "cell_type": "code",
   "execution_count": 58,
   "metadata": {},
   "outputs": [
    {
     "output_type": "execute_result",
     "data": {
      "text/plain": [
       "301     2000\n",
       "352     2001\n",
       "403     2002\n",
       "454     2003\n",
       "505     2004\n",
       "556     2005\n",
       "607     2006\n",
       "658     2007\n",
       "709     2008\n",
       "760     2009\n",
       "811     2010\n",
       "862     2011\n",
       "913     2012\n",
       "964     2013\n",
       "1015    2014\n",
       "1066    2015\n",
       "1117    2016\n",
       "Name: year, dtype: int64"
      ]
     },
     "metadata": {},
     "execution_count": 58
    }
   ],
   "source": [
    "gdp_data.year"
   ]
  },
  {
   "cell_type": "code",
   "execution_count": 59,
   "metadata": {},
   "outputs": [
    {
     "output_type": "execute_result",
     "data": {
      "text/plain": [
       "Int64Index([2000, 2001, 2002, 2003, 2004, 2005, 2006, 2007, 2008, 2009, 2010,\n",
       "            2011, 2012, 2013, 2014, 2015, 2016],\n",
       "           dtype='int64', name='year')"
      ]
     },
     "metadata": {},
     "execution_count": 59
    }
   ],
   "source": [
    "evc_va['evictions'].index"
   ]
  },
  {
   "cell_type": "code",
   "execution_count": 60,
   "metadata": {},
   "outputs": [
    {
     "output_type": "execute_result",
     "data": {
      "text/plain": [
       "<matplotlib.collections.PathCollection at 0x7ff9fbb63d90>"
      ]
     },
     "metadata": {},
     "execution_count": 60
    },
    {
     "output_type": "display_data",
     "data": {
      "text/plain": "<Figure size 432x288 with 1 Axes>",
      "image/svg+xml": "<?xml version=\"1.0\" encoding=\"utf-8\" standalone=\"no\"?>\n<!DOCTYPE svg PUBLIC \"-//W3C//DTD SVG 1.1//EN\"\n  \"http://www.w3.org/Graphics/SVG/1.1/DTD/svg11.dtd\">\n<!-- Created with matplotlib (https://matplotlib.org/) -->\n<svg height=\"251.399844pt\" version=\"1.1\" viewBox=\"0 0 399.783681 251.399844\" width=\"399.783681pt\" xmlns=\"http://www.w3.org/2000/svg\" xmlns:xlink=\"http://www.w3.org/1999/xlink\">\n <metadata>\n  <rdf:RDF xmlns:cc=\"http://creativecommons.org/ns#\" xmlns:dc=\"http://purl.org/dc/elements/1.1/\" xmlns:rdf=\"http://www.w3.org/1999/02/22-rdf-syntax-ns#\">\n   <cc:Work>\n    <dc:type rdf:resource=\"http://purl.org/dc/dcmitype/StillImage\"/>\n    <dc:date>2020-11-03T19:27:55.740349</dc:date>\n    <dc:format>image/svg+xml</dc:format>\n    <dc:creator>\n     <cc:Agent>\n      <dc:title>Matplotlib v3.3.1, https://matplotlib.org/</dc:title>\n     </cc:Agent>\n    </dc:creator>\n   </cc:Work>\n  </rdf:RDF>\n </metadata>\n <defs>\n  <style type=\"text/css\">*{stroke-linecap:butt;stroke-linejoin:round;}</style>\n </defs>\n <g id=\"figure_1\">\n  <g id=\"patch_1\">\n   <path d=\"M 0 251.399844 \nL 399.783681 251.399844 \nL 399.783681 0 \nL 0 0 \nz\n\" style=\"fill:#ffffff;\"/>\n  </g>\n  <g id=\"axes_1\">\n   <g id=\"patch_2\">\n    <path d=\"M 47.285156 224.64 \nL 382.085156 224.64 \nL 382.085156 7.2 \nL 47.285156 7.2 \nz\n\" style=\"fill:#eaeaf2;\"/>\n   </g>\n   <g id=\"matplotlib.axis_1\">\n    <g id=\"xtick_1\">\n     <g id=\"line2d_1\">\n      <path clip-path=\"url(#p1e47a60036)\" d=\"M 48.378202 224.64 \nL 48.378202 7.2 \n\" style=\"fill:none;stroke:#ffffff;stroke-linecap:round;\"/>\n     </g>\n     <g id=\"text_1\">\n      <!-- 250000 -->\n      <g style=\"fill:#262626;\" transform=\"translate(30.027108 242.013594)scale(0.11 -0.11)\">\n       <defs>\n        <path d=\"M 50.34375 8.453125 \nL 50.34375 0 \nL 3.03125 0 \nQ 2.9375 3.171875 4.046875 6.109375 \nQ 5.859375 10.9375 9.828125 15.625 \nQ 13.8125 20.3125 21.34375 26.46875 \nQ 33.015625 36.03125 37.109375 41.625 \nQ 41.21875 47.21875 41.21875 52.203125 \nQ 41.21875 57.421875 37.46875 61 \nQ 33.734375 64.59375 27.734375 64.59375 \nQ 21.390625 64.59375 17.578125 60.78125 \nQ 13.765625 56.984375 13.71875 50.25 \nL 4.6875 51.171875 \nQ 5.609375 61.28125 11.65625 66.578125 \nQ 17.71875 71.875 27.9375 71.875 \nQ 38.234375 71.875 44.234375 66.15625 \nQ 50.25 60.453125 50.25 52 \nQ 50.25 47.703125 48.484375 43.546875 \nQ 46.734375 39.40625 42.65625 34.8125 \nQ 38.578125 30.21875 29.109375 22.21875 \nQ 21.1875 15.578125 18.9375 13.203125 \nQ 16.703125 10.84375 15.234375 8.453125 \nz\n\" id=\"ArialMT-50\"/>\n        <path d=\"M 4.15625 18.75 \nL 13.375 19.53125 \nQ 14.40625 12.796875 18.140625 9.390625 \nQ 21.875 6 27.15625 6 \nQ 33.5 6 37.890625 10.78125 \nQ 42.28125 15.578125 42.28125 23.484375 \nQ 42.28125 31 38.0625 35.34375 \nQ 33.84375 39.703125 27 39.703125 \nQ 22.75 39.703125 19.328125 37.765625 \nQ 15.921875 35.84375 13.96875 32.765625 \nL 5.71875 33.84375 \nL 12.640625 70.609375 \nL 48.25 70.609375 \nL 48.25 62.203125 \nL 19.671875 62.203125 \nL 15.828125 42.96875 \nQ 22.265625 47.46875 29.34375 47.46875 \nQ 38.71875 47.46875 45.15625 40.96875 \nQ 51.609375 34.46875 51.609375 24.265625 \nQ 51.609375 14.546875 45.953125 7.46875 \nQ 39.0625 -1.21875 27.15625 -1.21875 \nQ 17.390625 -1.21875 11.203125 4.25 \nQ 5.03125 9.71875 4.15625 18.75 \nz\n\" id=\"ArialMT-53\"/>\n        <path d=\"M 4.15625 35.296875 \nQ 4.15625 48 6.765625 55.734375 \nQ 9.375 63.484375 14.515625 67.671875 \nQ 19.671875 71.875 27.484375 71.875 \nQ 33.25 71.875 37.59375 69.546875 \nQ 41.9375 67.234375 44.765625 62.859375 \nQ 47.609375 58.5 49.21875 52.21875 \nQ 50.828125 45.953125 50.828125 35.296875 \nQ 50.828125 22.703125 48.234375 14.96875 \nQ 45.65625 7.234375 40.5 3 \nQ 35.359375 -1.21875 27.484375 -1.21875 \nQ 17.140625 -1.21875 11.234375 6.203125 \nQ 4.15625 15.140625 4.15625 35.296875 \nz\nM 13.1875 35.296875 \nQ 13.1875 17.671875 17.3125 11.828125 \nQ 21.4375 6 27.484375 6 \nQ 33.546875 6 37.671875 11.859375 \nQ 41.796875 17.71875 41.796875 35.296875 \nQ 41.796875 52.984375 37.671875 58.78125 \nQ 33.546875 64.59375 27.390625 64.59375 \nQ 21.34375 64.59375 17.71875 59.46875 \nQ 13.1875 52.9375 13.1875 35.296875 \nz\n\" id=\"ArialMT-48\"/>\n       </defs>\n       <use xlink:href=\"#ArialMT-50\"/>\n       <use x=\"55.615234\" xlink:href=\"#ArialMT-53\"/>\n       <use x=\"111.230469\" xlink:href=\"#ArialMT-48\"/>\n       <use x=\"166.845703\" xlink:href=\"#ArialMT-48\"/>\n       <use x=\"222.460938\" xlink:href=\"#ArialMT-48\"/>\n       <use x=\"278.076172\" xlink:href=\"#ArialMT-48\"/>\n      </g>\n     </g>\n    </g>\n    <g id=\"xtick_2\">\n     <g id=\"line2d_2\">\n      <path clip-path=\"url(#p1e47a60036)\" d=\"M 113.549079 224.64 \nL 113.549079 7.2 \n\" style=\"fill:none;stroke:#ffffff;stroke-linecap:round;\"/>\n     </g>\n     <g id=\"text_2\">\n      <!-- 300000 -->\n      <g style=\"fill:#262626;\" transform=\"translate(95.197985 242.013594)scale(0.11 -0.11)\">\n       <defs>\n        <path d=\"M 4.203125 18.890625 \nL 12.984375 20.0625 \nQ 14.5 12.59375 18.140625 9.296875 \nQ 21.78125 6 27 6 \nQ 33.203125 6 37.46875 10.296875 \nQ 41.75 14.59375 41.75 20.953125 \nQ 41.75 27 37.796875 30.921875 \nQ 33.84375 34.859375 27.734375 34.859375 \nQ 25.25 34.859375 21.53125 33.890625 \nL 22.515625 41.609375 \nQ 23.390625 41.5 23.921875 41.5 \nQ 29.546875 41.5 34.03125 44.421875 \nQ 38.53125 47.359375 38.53125 53.46875 \nQ 38.53125 58.296875 35.25 61.46875 \nQ 31.984375 64.65625 26.8125 64.65625 \nQ 21.6875 64.65625 18.265625 61.421875 \nQ 14.84375 58.203125 13.875 51.765625 \nL 5.078125 53.328125 \nQ 6.6875 62.15625 12.390625 67.015625 \nQ 18.109375 71.875 26.609375 71.875 \nQ 32.46875 71.875 37.390625 69.359375 \nQ 42.328125 66.84375 44.9375 62.5 \nQ 47.5625 58.15625 47.5625 53.265625 \nQ 47.5625 48.640625 45.0625 44.828125 \nQ 42.578125 41.015625 37.703125 38.765625 \nQ 44.046875 37.3125 47.5625 32.6875 \nQ 51.078125 28.078125 51.078125 21.140625 \nQ 51.078125 11.765625 44.234375 5.25 \nQ 37.40625 -1.265625 26.953125 -1.265625 \nQ 17.53125 -1.265625 11.296875 4.34375 \nQ 5.078125 9.96875 4.203125 18.890625 \nz\n\" id=\"ArialMT-51\"/>\n       </defs>\n       <use xlink:href=\"#ArialMT-51\"/>\n       <use x=\"55.615234\" xlink:href=\"#ArialMT-48\"/>\n       <use x=\"111.230469\" xlink:href=\"#ArialMT-48\"/>\n       <use x=\"166.845703\" xlink:href=\"#ArialMT-48\"/>\n       <use x=\"222.460938\" xlink:href=\"#ArialMT-48\"/>\n       <use x=\"278.076172\" xlink:href=\"#ArialMT-48\"/>\n      </g>\n     </g>\n    </g>\n    <g id=\"xtick_3\">\n     <g id=\"line2d_3\">\n      <path clip-path=\"url(#p1e47a60036)\" d=\"M 178.719956 224.64 \nL 178.719956 7.2 \n\" style=\"fill:none;stroke:#ffffff;stroke-linecap:round;\"/>\n     </g>\n     <g id=\"text_3\">\n      <!-- 350000 -->\n      <g style=\"fill:#262626;\" transform=\"translate(160.368862 242.013594)scale(0.11 -0.11)\">\n       <use xlink:href=\"#ArialMT-51\"/>\n       <use x=\"55.615234\" xlink:href=\"#ArialMT-53\"/>\n       <use x=\"111.230469\" xlink:href=\"#ArialMT-48\"/>\n       <use x=\"166.845703\" xlink:href=\"#ArialMT-48\"/>\n       <use x=\"222.460938\" xlink:href=\"#ArialMT-48\"/>\n       <use x=\"278.076172\" xlink:href=\"#ArialMT-48\"/>\n      </g>\n     </g>\n    </g>\n    <g id=\"xtick_4\">\n     <g id=\"line2d_4\">\n      <path clip-path=\"url(#p1e47a60036)\" d=\"M 243.890833 224.64 \nL 243.890833 7.2 \n\" style=\"fill:none;stroke:#ffffff;stroke-linecap:round;\"/>\n     </g>\n     <g id=\"text_4\">\n      <!-- 400000 -->\n      <g style=\"fill:#262626;\" transform=\"translate(225.539739 242.013594)scale(0.11 -0.11)\">\n       <defs>\n        <path d=\"M 32.328125 0 \nL 32.328125 17.140625 \nL 1.265625 17.140625 \nL 1.265625 25.203125 \nL 33.9375 71.578125 \nL 41.109375 71.578125 \nL 41.109375 25.203125 \nL 50.78125 25.203125 \nL 50.78125 17.140625 \nL 41.109375 17.140625 \nL 41.109375 0 \nz\nM 32.328125 25.203125 \nL 32.328125 57.46875 \nL 9.90625 25.203125 \nz\n\" id=\"ArialMT-52\"/>\n       </defs>\n       <use xlink:href=\"#ArialMT-52\"/>\n       <use x=\"55.615234\" xlink:href=\"#ArialMT-48\"/>\n       <use x=\"111.230469\" xlink:href=\"#ArialMT-48\"/>\n       <use x=\"166.845703\" xlink:href=\"#ArialMT-48\"/>\n       <use x=\"222.460938\" xlink:href=\"#ArialMT-48\"/>\n       <use x=\"278.076172\" xlink:href=\"#ArialMT-48\"/>\n      </g>\n     </g>\n    </g>\n    <g id=\"xtick_5\">\n     <g id=\"line2d_5\">\n      <path clip-path=\"url(#p1e47a60036)\" d=\"M 309.06171 224.64 \nL 309.06171 7.2 \n\" style=\"fill:none;stroke:#ffffff;stroke-linecap:round;\"/>\n     </g>\n     <g id=\"text_5\">\n      <!-- 450000 -->\n      <g style=\"fill:#262626;\" transform=\"translate(290.710616 242.013594)scale(0.11 -0.11)\">\n       <use xlink:href=\"#ArialMT-52\"/>\n       <use x=\"55.615234\" xlink:href=\"#ArialMT-53\"/>\n       <use x=\"111.230469\" xlink:href=\"#ArialMT-48\"/>\n       <use x=\"166.845703\" xlink:href=\"#ArialMT-48\"/>\n       <use x=\"222.460938\" xlink:href=\"#ArialMT-48\"/>\n       <use x=\"278.076172\" xlink:href=\"#ArialMT-48\"/>\n      </g>\n     </g>\n    </g>\n    <g id=\"xtick_6\">\n     <g id=\"line2d_6\">\n      <path clip-path=\"url(#p1e47a60036)\" d=\"M 374.232587 224.64 \nL 374.232587 7.2 \n\" style=\"fill:none;stroke:#ffffff;stroke-linecap:round;\"/>\n     </g>\n     <g id=\"text_6\">\n      <!-- 500000 -->\n      <g style=\"fill:#262626;\" transform=\"translate(355.881493 242.013594)scale(0.11 -0.11)\">\n       <use xlink:href=\"#ArialMT-53\"/>\n       <use x=\"55.615234\" xlink:href=\"#ArialMT-48\"/>\n       <use x=\"111.230469\" xlink:href=\"#ArialMT-48\"/>\n       <use x=\"166.845703\" xlink:href=\"#ArialMT-48\"/>\n       <use x=\"222.460938\" xlink:href=\"#ArialMT-48\"/>\n       <use x=\"278.076172\" xlink:href=\"#ArialMT-48\"/>\n      </g>\n     </g>\n    </g>\n   </g>\n   <g id=\"matplotlib.axis_2\">\n    <g id=\"ytick_1\">\n     <g id=\"line2d_7\">\n      <path clip-path=\"url(#p1e47a60036)\" d=\"M 47.285156 217.657422 \nL 382.085156 217.657422 \n\" style=\"fill:none;stroke:#ffffff;stroke-linecap:round;\"/>\n     </g>\n     <g id=\"text_7\">\n      <!-- 30000 -->\n      <g style=\"fill:#262626;\" transform=\"translate(7.2 221.594218)scale(0.11 -0.11)\">\n       <use xlink:href=\"#ArialMT-51\"/>\n       <use x=\"55.615234\" xlink:href=\"#ArialMT-48\"/>\n       <use x=\"111.230469\" xlink:href=\"#ArialMT-48\"/>\n       <use x=\"166.845703\" xlink:href=\"#ArialMT-48\"/>\n       <use x=\"222.460938\" xlink:href=\"#ArialMT-48\"/>\n      </g>\n     </g>\n    </g>\n    <g id=\"ytick_2\">\n     <g id=\"line2d_8\">\n      <path clip-path=\"url(#p1e47a60036)\" d=\"M 47.285156 189.094706 \nL 382.085156 189.094706 \n\" style=\"fill:none;stroke:#ffffff;stroke-linecap:round;\"/>\n     </g>\n     <g id=\"text_8\">\n      <!-- 32500 -->\n      <g style=\"fill:#262626;\" transform=\"translate(7.2 193.031503)scale(0.11 -0.11)\">\n       <use xlink:href=\"#ArialMT-51\"/>\n       <use x=\"55.615234\" xlink:href=\"#ArialMT-50\"/>\n       <use x=\"111.230469\" xlink:href=\"#ArialMT-53\"/>\n       <use x=\"166.845703\" xlink:href=\"#ArialMT-48\"/>\n       <use x=\"222.460938\" xlink:href=\"#ArialMT-48\"/>\n      </g>\n     </g>\n    </g>\n    <g id=\"ytick_3\">\n     <g id=\"line2d_9\">\n      <path clip-path=\"url(#p1e47a60036)\" d=\"M 47.285156 160.531991 \nL 382.085156 160.531991 \n\" style=\"fill:none;stroke:#ffffff;stroke-linecap:round;\"/>\n     </g>\n     <g id=\"text_9\">\n      <!-- 35000 -->\n      <g style=\"fill:#262626;\" transform=\"translate(7.2 164.468788)scale(0.11 -0.11)\">\n       <use xlink:href=\"#ArialMT-51\"/>\n       <use x=\"55.615234\" xlink:href=\"#ArialMT-53\"/>\n       <use x=\"111.230469\" xlink:href=\"#ArialMT-48\"/>\n       <use x=\"166.845703\" xlink:href=\"#ArialMT-48\"/>\n       <use x=\"222.460938\" xlink:href=\"#ArialMT-48\"/>\n      </g>\n     </g>\n    </g>\n    <g id=\"ytick_4\">\n     <g id=\"line2d_10\">\n      <path clip-path=\"url(#p1e47a60036)\" d=\"M 47.285156 131.969275 \nL 382.085156 131.969275 \n\" style=\"fill:none;stroke:#ffffff;stroke-linecap:round;\"/>\n     </g>\n     <g id=\"text_10\">\n      <!-- 37500 -->\n      <g style=\"fill:#262626;\" transform=\"translate(7.2 135.906072)scale(0.11 -0.11)\">\n       <defs>\n        <path d=\"M 4.734375 62.203125 \nL 4.734375 70.65625 \nL 51.078125 70.65625 \nL 51.078125 63.8125 \nQ 44.234375 56.546875 37.515625 44.484375 \nQ 30.8125 32.421875 27.15625 19.671875 \nQ 24.515625 10.6875 23.78125 0 \nL 14.75 0 \nQ 14.890625 8.453125 18.0625 20.40625 \nQ 21.234375 32.375 27.171875 43.484375 \nQ 33.109375 54.59375 39.796875 62.203125 \nz\n\" id=\"ArialMT-55\"/>\n       </defs>\n       <use xlink:href=\"#ArialMT-51\"/>\n       <use x=\"55.615234\" xlink:href=\"#ArialMT-55\"/>\n       <use x=\"111.230469\" xlink:href=\"#ArialMT-53\"/>\n       <use x=\"166.845703\" xlink:href=\"#ArialMT-48\"/>\n       <use x=\"222.460938\" xlink:href=\"#ArialMT-48\"/>\n      </g>\n     </g>\n    </g>\n    <g id=\"ytick_5\">\n     <g id=\"line2d_11\">\n      <path clip-path=\"url(#p1e47a60036)\" d=\"M 47.285156 103.40656 \nL 382.085156 103.40656 \n\" style=\"fill:none;stroke:#ffffff;stroke-linecap:round;\"/>\n     </g>\n     <g id=\"text_11\">\n      <!-- 40000 -->\n      <g style=\"fill:#262626;\" transform=\"translate(7.2 107.343357)scale(0.11 -0.11)\">\n       <use xlink:href=\"#ArialMT-52\"/>\n       <use x=\"55.615234\" xlink:href=\"#ArialMT-48\"/>\n       <use x=\"111.230469\" xlink:href=\"#ArialMT-48\"/>\n       <use x=\"166.845703\" xlink:href=\"#ArialMT-48\"/>\n       <use x=\"222.460938\" xlink:href=\"#ArialMT-48\"/>\n      </g>\n     </g>\n    </g>\n    <g id=\"ytick_6\">\n     <g id=\"line2d_12\">\n      <path clip-path=\"url(#p1e47a60036)\" d=\"M 47.285156 74.843845 \nL 382.085156 74.843845 \n\" style=\"fill:none;stroke:#ffffff;stroke-linecap:round;\"/>\n     </g>\n     <g id=\"text_12\">\n      <!-- 42500 -->\n      <g style=\"fill:#262626;\" transform=\"translate(7.2 78.780642)scale(0.11 -0.11)\">\n       <use xlink:href=\"#ArialMT-52\"/>\n       <use x=\"55.615234\" xlink:href=\"#ArialMT-50\"/>\n       <use x=\"111.230469\" xlink:href=\"#ArialMT-53\"/>\n       <use x=\"166.845703\" xlink:href=\"#ArialMT-48\"/>\n       <use x=\"222.460938\" xlink:href=\"#ArialMT-48\"/>\n      </g>\n     </g>\n    </g>\n    <g id=\"ytick_7\">\n     <g id=\"line2d_13\">\n      <path clip-path=\"url(#p1e47a60036)\" d=\"M 47.285156 46.281129 \nL 382.085156 46.281129 \n\" style=\"fill:none;stroke:#ffffff;stroke-linecap:round;\"/>\n     </g>\n     <g id=\"text_13\">\n      <!-- 45000 -->\n      <g style=\"fill:#262626;\" transform=\"translate(7.2 50.217926)scale(0.11 -0.11)\">\n       <use xlink:href=\"#ArialMT-52\"/>\n       <use x=\"55.615234\" xlink:href=\"#ArialMT-53\"/>\n       <use x=\"111.230469\" xlink:href=\"#ArialMT-48\"/>\n       <use x=\"166.845703\" xlink:href=\"#ArialMT-48\"/>\n       <use x=\"222.460938\" xlink:href=\"#ArialMT-48\"/>\n      </g>\n     </g>\n    </g>\n    <g id=\"ytick_8\">\n     <g id=\"line2d_14\">\n      <path clip-path=\"url(#p1e47a60036)\" d=\"M 47.285156 17.718414 \nL 382.085156 17.718414 \n\" style=\"fill:none;stroke:#ffffff;stroke-linecap:round;\"/>\n     </g>\n     <g id=\"text_14\">\n      <!-- 47500 -->\n      <g style=\"fill:#262626;\" transform=\"translate(7.2 21.655211)scale(0.11 -0.11)\">\n       <use xlink:href=\"#ArialMT-52\"/>\n       <use x=\"55.615234\" xlink:href=\"#ArialMT-55\"/>\n       <use x=\"111.230469\" xlink:href=\"#ArialMT-53\"/>\n       <use x=\"166.845703\" xlink:href=\"#ArialMT-48\"/>\n       <use x=\"222.460938\" xlink:href=\"#ArialMT-48\"/>\n      </g>\n     </g>\n    </g>\n   </g>\n   <g id=\"PathCollection_1\">\n    <defs>\n     <path d=\"M 0 3 \nC 0.795609 3 1.55874 2.683901 2.12132 2.12132 \nC 2.683901 1.55874 3 0.795609 3 0 \nC 3 -0.795609 2.683901 -1.55874 2.12132 -2.12132 \nC 1.55874 -2.683901 0.795609 -3 0 -3 \nC -0.795609 -3 -1.55874 -2.683901 -2.12132 -2.12132 \nC -2.683901 -1.55874 -3 -0.795609 -3 0 \nC -3 0.795609 -2.683901 1.55874 -2.12132 2.12132 \nC -1.55874 2.683901 -0.795609 3 0 3 \nz\n\" id=\"mc41086b52a\" style=\"stroke:#4c72b0;\"/>\n    </defs>\n    <g clip-path=\"url(#p1e47a60036)\">\n     <use style=\"fill:#4c72b0;stroke:#4c72b0;\" x=\"62.503338\" xlink:href=\"#mc41086b52a\" y=\"153.944629\"/>\n     <use style=\"fill:#4c72b0;stroke:#4c72b0;\" x=\"83.849407\" xlink:href=\"#mc41086b52a\" y=\"115.893037\"/>\n     <use style=\"fill:#4c72b0;stroke:#4c72b0;\" x=\"99.002939\" xlink:href=\"#mc41086b52a\" y=\"74.503949\"/>\n     <use style=\"fill:#4c72b0;stroke:#4c72b0;\" x=\"118.913946\" xlink:href=\"#mc41086b52a\" y=\"47.021475\"/>\n     <use style=\"fill:#4c72b0;stroke:#4c72b0;\" x=\"145.965073\" xlink:href=\"#mc41086b52a\" y=\"17.083636\"/>\n     <use style=\"fill:#4c72b0;stroke:#4c72b0;\" x=\"179.09534\" xlink:href=\"#mc41086b52a\" y=\"58.428738\"/>\n     <use style=\"fill:#4c72b0;stroke:#4c72b0;\" x=\"202.968736\" xlink:href=\"#mc41086b52a\" y=\"68.265737\"/>\n     <use style=\"fill:#4c72b0;stroke:#4c72b0;\" x=\"229.96903\" xlink:href=\"#mc41086b52a\" y=\"214.756364\"/>\n     <use style=\"fill:#4c72b0;stroke:#4c72b0;\" x=\"247.609483\" xlink:href=\"#mc41086b52a\" y=\"172.571747\"/>\n     <use style=\"fill:#4c72b0;stroke:#4c72b0;\" x=\"256.575693\" xlink:href=\"#mc41086b52a\" y=\"206.318138\"/>\n     <use style=\"fill:#4c72b0;stroke:#4c72b0;\" x=\"271.686212\" xlink:href=\"#mc41086b52a\" y=\"134.368315\"/>\n     <use style=\"fill:#4c72b0;stroke:#4c72b0;\" x=\"283.127611\" xlink:href=\"#mc41086b52a\" y=\"77.109097\"/>\n     <use style=\"fill:#4c72b0;stroke:#4c72b0;\" x=\"302.66193\" xlink:href=\"#mc41086b52a\" y=\"97.891214\"/>\n     <use style=\"fill:#4c72b0;stroke:#4c72b0;\" x=\"315.557943\" xlink:href=\"#mc41086b52a\" y=\"75.110164\"/>\n     <use style=\"fill:#4c72b0;stroke:#4c72b0;\" x=\"326.805133\" xlink:href=\"#mc41086b52a\" y=\"70.328879\"/>\n     <use style=\"fill:#4c72b0;stroke:#4c72b0;\" x=\"354.632228\" xlink:href=\"#mc41086b52a\" y=\"79.458551\"/>\n     <use style=\"fill:#4c72b0;stroke:#4c72b0;\" x=\"366.866974\" xlink:href=\"#mc41086b52a\" y=\"54.547408\"/>\n    </g>\n   </g>\n   <g id=\"patch_3\">\n    <path d=\"M 47.285156 224.64 \nL 47.285156 7.2 \n\" style=\"fill:none;stroke:#ffffff;stroke-linecap:square;stroke-linejoin:miter;stroke-width:1.25;\"/>\n   </g>\n   <g id=\"patch_4\">\n    <path d=\"M 382.085156 224.64 \nL 382.085156 7.2 \n\" style=\"fill:none;stroke:#ffffff;stroke-linecap:square;stroke-linejoin:miter;stroke-width:1.25;\"/>\n   </g>\n   <g id=\"patch_5\">\n    <path d=\"M 47.285156 224.64 \nL 382.085156 224.64 \n\" style=\"fill:none;stroke:#ffffff;stroke-linecap:square;stroke-linejoin:miter;stroke-width:1.25;\"/>\n   </g>\n   <g id=\"patch_6\">\n    <path d=\"M 47.285156 7.2 \nL 382.085156 7.2 \n\" style=\"fill:none;stroke:#ffffff;stroke-linecap:square;stroke-linejoin:miter;stroke-width:1.25;\"/>\n   </g>\n  </g>\n </g>\n <defs>\n  <clipPath id=\"p1e47a60036\">\n   <rect height=\"217.44\" width=\"334.8\" x=\"47.285156\" y=\"7.2\"/>\n  </clipPath>\n </defs>\n</svg>\n",
      "image/png": "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\n"
     },
     "metadata": {}
    }
   ],
   "source": [
    "# plot against evictions\n",
    "plt.scatter(gdp_data['GDP'],evc_va['evictions'])"
   ]
  },
  {
   "cell_type": "code",
   "execution_count": 34,
   "metadata": {},
   "outputs": [
    {
     "output_type": "execute_result",
     "data": {
      "text/plain": [
       "Int64Index([2000, 2001, 2002, 2003, 2004, 2005, 2006, 2007, 2008, 2009, 2010,\n",
       "            2011, 2012, 2013, 2014, 2015, 2016],\n",
       "           dtype='int64', name='year')"
      ]
     },
     "metadata": {},
     "execution_count": 34
    }
   ],
   "source": [
    "# align index from gdp_data and evc_va to prepare to join for further analysis\n",
    "gdp_data=gdp_data.set_index('year')\n",
    "gdp_data.index"
   ]
  },
  {
   "cell_type": "code",
   "execution_count": 35,
   "metadata": {},
   "outputs": [
    {
     "output_type": "execute_result",
     "data": {
      "text/plain": [
       "Int64Index([2000, 2001, 2002, 2003, 2004, 2005, 2006, 2007, 2008, 2009, 2010,\n",
       "            2011, 2012, 2013, 2014, 2015, 2016],\n",
       "           dtype='int64', name='year')"
      ]
     },
     "metadata": {},
     "execution_count": 35
    }
   ],
   "source": [
    "evc_va.index"
   ]
  },
  {
   "cell_type": "code",
   "execution_count": 40,
   "metadata": {},
   "outputs": [
    {
     "output_type": "stream",
     "name": "stdout",
     "text": [
      "AxesSubplot(0.125,0.125;0.775x0.755)\n"
     ]
    },
    {
     "output_type": "display_data",
     "data": {
      "text/plain": "<Figure size 432x288 with 1 Axes>",
      "image/svg+xml": "<?xml version=\"1.0\" encoding=\"utf-8\" standalone=\"no\"?>\n<!DOCTYPE svg PUBLIC \"-//W3C//DTD SVG 1.1//EN\"\n  \"http://www.w3.org/Graphics/SVG/1.1/DTD/svg11.dtd\">\n<!-- Created with matplotlib (https://matplotlib.org/) -->\n<svg height=\"266.374219pt\" version=\"1.1\" viewBox=\"0 0 404.259531 266.374219\" width=\"404.259531pt\" xmlns=\"http://www.w3.org/2000/svg\" xmlns:xlink=\"http://www.w3.org/1999/xlink\">\n <metadata>\n  <rdf:RDF xmlns:cc=\"http://creativecommons.org/ns#\" xmlns:dc=\"http://purl.org/dc/elements/1.1/\" xmlns:rdf=\"http://www.w3.org/1999/02/22-rdf-syntax-ns#\">\n   <cc:Work>\n    <dc:type rdf:resource=\"http://purl.org/dc/dcmitype/StillImage\"/>\n    <dc:date>2020-11-03T17:43:45.815809</dc:date>\n    <dc:format>image/svg+xml</dc:format>\n    <dc:creator>\n     <cc:Agent>\n      <dc:title>Matplotlib v3.3.1, https://matplotlib.org/</dc:title>\n     </cc:Agent>\n    </dc:creator>\n   </cc:Work>\n  </rdf:RDF>\n </metadata>\n <defs>\n  <style type=\"text/css\">*{stroke-linecap:butt;stroke-linejoin:round;}</style>\n </defs>\n <g id=\"figure_1\">\n  <g id=\"patch_1\">\n   <path d=\"M 0 266.374219 \nL 404.259531 266.374219 \nL 404.259531 0 \nL 0 0 \nz\n\" style=\"fill:#ffffff;\"/>\n  </g>\n  <g id=\"axes_1\">\n   <g id=\"patch_2\">\n    <path d=\"M 62.259531 224.64 \nL 397.059531 224.64 \nL 397.059531 7.2 \nL 62.259531 7.2 \nz\n\" style=\"fill:#eaeaf2;\"/>\n   </g>\n   <g id=\"matplotlib.axis_1\">\n    <g id=\"xtick_1\">\n     <g id=\"line2d_1\">\n      <path clip-path=\"url(#p20ad0bc2f6)\" d=\"M 118.409846 224.64 \nL 118.409846 7.2 \n\" style=\"fill:none;stroke:#ffffff;stroke-linecap:round;\"/>\n     </g>\n     <g id=\"text_1\">\n      <!-- 300000 -->\n      <g style=\"fill:#262626;\" transform=\"translate(100.058753 242.013594)scale(0.11 -0.11)\">\n       <defs>\n        <path d=\"M 4.203125 18.890625 \nL 12.984375 20.0625 \nQ 14.5 12.59375 18.140625 9.296875 \nQ 21.78125 6 27 6 \nQ 33.203125 6 37.46875 10.296875 \nQ 41.75 14.59375 41.75 20.953125 \nQ 41.75 27 37.796875 30.921875 \nQ 33.84375 34.859375 27.734375 34.859375 \nQ 25.25 34.859375 21.53125 33.890625 \nL 22.515625 41.609375 \nQ 23.390625 41.5 23.921875 41.5 \nQ 29.546875 41.5 34.03125 44.421875 \nQ 38.53125 47.359375 38.53125 53.46875 \nQ 38.53125 58.296875 35.25 61.46875 \nQ 31.984375 64.65625 26.8125 64.65625 \nQ 21.6875 64.65625 18.265625 61.421875 \nQ 14.84375 58.203125 13.875 51.765625 \nL 5.078125 53.328125 \nQ 6.6875 62.15625 12.390625 67.015625 \nQ 18.109375 71.875 26.609375 71.875 \nQ 32.46875 71.875 37.390625 69.359375 \nQ 42.328125 66.84375 44.9375 62.5 \nQ 47.5625 58.15625 47.5625 53.265625 \nQ 47.5625 48.640625 45.0625 44.828125 \nQ 42.578125 41.015625 37.703125 38.765625 \nQ 44.046875 37.3125 47.5625 32.6875 \nQ 51.078125 28.078125 51.078125 21.140625 \nQ 51.078125 11.765625 44.234375 5.25 \nQ 37.40625 -1.265625 26.953125 -1.265625 \nQ 17.53125 -1.265625 11.296875 4.34375 \nQ 5.078125 9.96875 4.203125 18.890625 \nz\n\" id=\"ArialMT-51\"/>\n        <path d=\"M 4.15625 35.296875 \nQ 4.15625 48 6.765625 55.734375 \nQ 9.375 63.484375 14.515625 67.671875 \nQ 19.671875 71.875 27.484375 71.875 \nQ 33.25 71.875 37.59375 69.546875 \nQ 41.9375 67.234375 44.765625 62.859375 \nQ 47.609375 58.5 49.21875 52.21875 \nQ 50.828125 45.953125 50.828125 35.296875 \nQ 50.828125 22.703125 48.234375 14.96875 \nQ 45.65625 7.234375 40.5 3 \nQ 35.359375 -1.21875 27.484375 -1.21875 \nQ 17.140625 -1.21875 11.234375 6.203125 \nQ 4.15625 15.140625 4.15625 35.296875 \nz\nM 13.1875 35.296875 \nQ 13.1875 17.671875 17.3125 11.828125 \nQ 21.4375 6 27.484375 6 \nQ 33.546875 6 37.671875 11.859375 \nQ 41.796875 17.71875 41.796875 35.296875 \nQ 41.796875 52.984375 37.671875 58.78125 \nQ 33.546875 64.59375 27.390625 64.59375 \nQ 21.34375 64.59375 17.71875 59.46875 \nQ 13.1875 52.9375 13.1875 35.296875 \nz\n\" id=\"ArialMT-48\"/>\n       </defs>\n       <use xlink:href=\"#ArialMT-51\"/>\n       <use x=\"55.615234\" xlink:href=\"#ArialMT-48\"/>\n       <use x=\"111.230469\" xlink:href=\"#ArialMT-48\"/>\n       <use x=\"166.845703\" xlink:href=\"#ArialMT-48\"/>\n       <use x=\"222.460938\" xlink:href=\"#ArialMT-48\"/>\n       <use x=\"278.076172\" xlink:href=\"#ArialMT-48\"/>\n      </g>\n     </g>\n    </g>\n    <g id=\"xtick_2\">\n     <g id=\"line2d_2\">\n      <path clip-path=\"url(#p20ad0bc2f6)\" d=\"M 190.097811 224.64 \nL 190.097811 7.2 \n\" style=\"fill:none;stroke:#ffffff;stroke-linecap:round;\"/>\n     </g>\n     <g id=\"text_2\">\n      <!-- 350000 -->\n      <g style=\"fill:#262626;\" transform=\"translate(171.746717 242.013594)scale(0.11 -0.11)\">\n       <defs>\n        <path d=\"M 4.15625 18.75 \nL 13.375 19.53125 \nQ 14.40625 12.796875 18.140625 9.390625 \nQ 21.875 6 27.15625 6 \nQ 33.5 6 37.890625 10.78125 \nQ 42.28125 15.578125 42.28125 23.484375 \nQ 42.28125 31 38.0625 35.34375 \nQ 33.84375 39.703125 27 39.703125 \nQ 22.75 39.703125 19.328125 37.765625 \nQ 15.921875 35.84375 13.96875 32.765625 \nL 5.71875 33.84375 \nL 12.640625 70.609375 \nL 48.25 70.609375 \nL 48.25 62.203125 \nL 19.671875 62.203125 \nL 15.828125 42.96875 \nQ 22.265625 47.46875 29.34375 47.46875 \nQ 38.71875 47.46875 45.15625 40.96875 \nQ 51.609375 34.46875 51.609375 24.265625 \nQ 51.609375 14.546875 45.953125 7.46875 \nQ 39.0625 -1.21875 27.15625 -1.21875 \nQ 17.390625 -1.21875 11.203125 4.25 \nQ 5.03125 9.71875 4.15625 18.75 \nz\n\" id=\"ArialMT-53\"/>\n       </defs>\n       <use xlink:href=\"#ArialMT-51\"/>\n       <use x=\"55.615234\" xlink:href=\"#ArialMT-53\"/>\n       <use x=\"111.230469\" xlink:href=\"#ArialMT-48\"/>\n       <use x=\"166.845703\" xlink:href=\"#ArialMT-48\"/>\n       <use x=\"222.460938\" xlink:href=\"#ArialMT-48\"/>\n       <use x=\"278.076172\" xlink:href=\"#ArialMT-48\"/>\n      </g>\n     </g>\n    </g>\n    <g id=\"xtick_3\">\n     <g id=\"line2d_3\">\n      <path clip-path=\"url(#p20ad0bc2f6)\" d=\"M 261.785776 224.64 \nL 261.785776 7.2 \n\" style=\"fill:none;stroke:#ffffff;stroke-linecap:round;\"/>\n     </g>\n     <g id=\"text_3\">\n      <!-- 400000 -->\n      <g style=\"fill:#262626;\" transform=\"translate(243.434682 242.013594)scale(0.11 -0.11)\">\n       <defs>\n        <path d=\"M 32.328125 0 \nL 32.328125 17.140625 \nL 1.265625 17.140625 \nL 1.265625 25.203125 \nL 33.9375 71.578125 \nL 41.109375 71.578125 \nL 41.109375 25.203125 \nL 50.78125 25.203125 \nL 50.78125 17.140625 \nL 41.109375 17.140625 \nL 41.109375 0 \nz\nM 32.328125 25.203125 \nL 32.328125 57.46875 \nL 9.90625 25.203125 \nz\n\" id=\"ArialMT-52\"/>\n       </defs>\n       <use xlink:href=\"#ArialMT-52\"/>\n       <use x=\"55.615234\" xlink:href=\"#ArialMT-48\"/>\n       <use x=\"111.230469\" xlink:href=\"#ArialMT-48\"/>\n       <use x=\"166.845703\" xlink:href=\"#ArialMT-48\"/>\n       <use x=\"222.460938\" xlink:href=\"#ArialMT-48\"/>\n       <use x=\"278.076172\" xlink:href=\"#ArialMT-48\"/>\n      </g>\n     </g>\n    </g>\n    <g id=\"xtick_4\">\n     <g id=\"line2d_4\">\n      <path clip-path=\"url(#p20ad0bc2f6)\" d=\"M 333.47374 224.64 \nL 333.47374 7.2 \n\" style=\"fill:none;stroke:#ffffff;stroke-linecap:round;\"/>\n     </g>\n     <g id=\"text_4\">\n      <!-- 450000 -->\n      <g style=\"fill:#262626;\" transform=\"translate(315.122647 242.013594)scale(0.11 -0.11)\">\n       <use xlink:href=\"#ArialMT-52\"/>\n       <use x=\"55.615234\" xlink:href=\"#ArialMT-53\"/>\n       <use x=\"111.230469\" xlink:href=\"#ArialMT-48\"/>\n       <use x=\"166.845703\" xlink:href=\"#ArialMT-48\"/>\n       <use x=\"222.460938\" xlink:href=\"#ArialMT-48\"/>\n       <use x=\"278.076172\" xlink:href=\"#ArialMT-48\"/>\n      </g>\n     </g>\n    </g>\n    <g id=\"text_5\">\n     <!-- GDP -->\n     <g style=\"fill:#262626;\" transform=\"translate(216.657344 256.789219)scale(0.12 -0.12)\">\n      <defs>\n       <path d=\"M 41.21875 28.078125 \nL 41.21875 36.46875 \nL 71.53125 36.53125 \nL 71.53125 9.96875 \nQ 64.546875 4.390625 57.125 1.578125 \nQ 49.703125 -1.21875 41.890625 -1.21875 \nQ 31.34375 -1.21875 22.71875 3.296875 \nQ 14.109375 7.8125 9.71875 16.359375 \nQ 5.328125 24.90625 5.328125 35.453125 \nQ 5.328125 45.90625 9.6875 54.953125 \nQ 14.0625 64.015625 22.265625 68.40625 \nQ 30.46875 72.796875 41.15625 72.796875 \nQ 48.921875 72.796875 55.1875 70.28125 \nQ 61.46875 67.78125 65.03125 63.28125 \nQ 68.609375 58.796875 70.453125 51.5625 \nL 61.921875 49.21875 \nQ 60.296875 54.6875 57.90625 57.8125 \nQ 55.515625 60.9375 51.0625 62.8125 \nQ 46.625 64.703125 41.21875 64.703125 \nQ 34.71875 64.703125 29.984375 62.71875 \nQ 25.25 60.75 22.34375 57.515625 \nQ 19.4375 54.296875 17.828125 50.4375 \nQ 15.09375 43.796875 15.09375 36.03125 \nQ 15.09375 26.46875 18.390625 20.015625 \nQ 21.6875 13.578125 27.984375 10.453125 \nQ 34.28125 7.328125 41.359375 7.328125 \nQ 47.515625 7.328125 53.375 9.6875 \nQ 59.234375 12.0625 62.25 14.75 \nL 62.25 28.078125 \nz\n\" id=\"ArialMT-71\"/>\n       <path d=\"M 7.71875 0 \nL 7.71875 71.578125 \nL 32.375 71.578125 \nQ 40.71875 71.578125 45.125 70.5625 \nQ 51.265625 69.140625 55.609375 65.4375 \nQ 61.28125 60.640625 64.078125 53.1875 \nQ 66.890625 45.75 66.890625 36.1875 \nQ 66.890625 28.03125 64.984375 21.734375 \nQ 63.09375 15.4375 60.109375 11.296875 \nQ 57.125 7.171875 53.578125 4.796875 \nQ 50.046875 2.4375 45.046875 1.21875 \nQ 40.046875 0 33.546875 0 \nz\nM 17.1875 8.453125 \nL 32.46875 8.453125 \nQ 39.546875 8.453125 43.578125 9.765625 \nQ 47.609375 11.078125 50 13.484375 \nQ 53.375 16.84375 55.25 22.53125 \nQ 57.125 28.21875 57.125 36.328125 \nQ 57.125 47.5625 53.4375 53.59375 \nQ 49.75 59.625 44.484375 61.671875 \nQ 40.671875 63.140625 32.234375 63.140625 \nL 17.1875 63.140625 \nz\n\" id=\"ArialMT-68\"/>\n       <path d=\"M 7.71875 0 \nL 7.71875 71.578125 \nL 34.71875 71.578125 \nQ 41.84375 71.578125 45.609375 70.90625 \nQ 50.875 70.015625 54.4375 67.546875 \nQ 58.015625 65.09375 60.1875 60.640625 \nQ 62.359375 56.203125 62.359375 50.875 \nQ 62.359375 41.75 56.546875 35.421875 \nQ 50.734375 29.109375 35.546875 29.109375 \nL 17.1875 29.109375 \nL 17.1875 0 \nz\nM 17.1875 37.546875 \nL 35.6875 37.546875 \nQ 44.875 37.546875 48.734375 40.96875 \nQ 52.59375 44.390625 52.59375 50.59375 \nQ 52.59375 55.078125 50.3125 58.265625 \nQ 48.046875 61.46875 44.34375 62.5 \nQ 41.9375 63.140625 35.5 63.140625 \nL 17.1875 63.140625 \nz\n\" id=\"ArialMT-80\"/>\n      </defs>\n      <use xlink:href=\"#ArialMT-71\"/>\n      <use x=\"77.783203\" xlink:href=\"#ArialMT-68\"/>\n      <use x=\"150\" xlink:href=\"#ArialMT-80\"/>\n     </g>\n    </g>\n   </g>\n   <g id=\"matplotlib.axis_2\">\n    <g id=\"ytick_1\">\n     <g id=\"line2d_5\">\n      <path clip-path=\"url(#p20ad0bc2f6)\" d=\"M 62.259531 217.657422 \nL 397.059531 217.657422 \n\" style=\"fill:none;stroke:#ffffff;stroke-linecap:round;\"/>\n     </g>\n     <g id=\"text_6\">\n      <!-- 30000 -->\n      <g style=\"fill:#262626;\" transform=\"translate(22.174375 221.594218)scale(0.11 -0.11)\">\n       <use xlink:href=\"#ArialMT-51\"/>\n       <use x=\"55.615234\" xlink:href=\"#ArialMT-48\"/>\n       <use x=\"111.230469\" xlink:href=\"#ArialMT-48\"/>\n       <use x=\"166.845703\" xlink:href=\"#ArialMT-48\"/>\n       <use x=\"222.460938\" xlink:href=\"#ArialMT-48\"/>\n      </g>\n     </g>\n    </g>\n    <g id=\"ytick_2\">\n     <g id=\"line2d_6\">\n      <path clip-path=\"url(#p20ad0bc2f6)\" d=\"M 62.259531 189.094706 \nL 397.059531 189.094706 \n\" style=\"fill:none;stroke:#ffffff;stroke-linecap:round;\"/>\n     </g>\n     <g id=\"text_7\">\n      <!-- 32500 -->\n      <g style=\"fill:#262626;\" transform=\"translate(22.174375 193.031503)scale(0.11 -0.11)\">\n       <defs>\n        <path d=\"M 50.34375 8.453125 \nL 50.34375 0 \nL 3.03125 0 \nQ 2.9375 3.171875 4.046875 6.109375 \nQ 5.859375 10.9375 9.828125 15.625 \nQ 13.8125 20.3125 21.34375 26.46875 \nQ 33.015625 36.03125 37.109375 41.625 \nQ 41.21875 47.21875 41.21875 52.203125 \nQ 41.21875 57.421875 37.46875 61 \nQ 33.734375 64.59375 27.734375 64.59375 \nQ 21.390625 64.59375 17.578125 60.78125 \nQ 13.765625 56.984375 13.71875 50.25 \nL 4.6875 51.171875 \nQ 5.609375 61.28125 11.65625 66.578125 \nQ 17.71875 71.875 27.9375 71.875 \nQ 38.234375 71.875 44.234375 66.15625 \nQ 50.25 60.453125 50.25 52 \nQ 50.25 47.703125 48.484375 43.546875 \nQ 46.734375 39.40625 42.65625 34.8125 \nQ 38.578125 30.21875 29.109375 22.21875 \nQ 21.1875 15.578125 18.9375 13.203125 \nQ 16.703125 10.84375 15.234375 8.453125 \nz\n\" id=\"ArialMT-50\"/>\n       </defs>\n       <use xlink:href=\"#ArialMT-51\"/>\n       <use x=\"55.615234\" xlink:href=\"#ArialMT-50\"/>\n       <use x=\"111.230469\" xlink:href=\"#ArialMT-53\"/>\n       <use x=\"166.845703\" xlink:href=\"#ArialMT-48\"/>\n       <use x=\"222.460938\" xlink:href=\"#ArialMT-48\"/>\n      </g>\n     </g>\n    </g>\n    <g id=\"ytick_3\">\n     <g id=\"line2d_7\">\n      <path clip-path=\"url(#p20ad0bc2f6)\" d=\"M 62.259531 160.531991 \nL 397.059531 160.531991 \n\" style=\"fill:none;stroke:#ffffff;stroke-linecap:round;\"/>\n     </g>\n     <g id=\"text_8\">\n      <!-- 35000 -->\n      <g style=\"fill:#262626;\" transform=\"translate(22.174375 164.468788)scale(0.11 -0.11)\">\n       <use xlink:href=\"#ArialMT-51\"/>\n       <use x=\"55.615234\" xlink:href=\"#ArialMT-53\"/>\n       <use x=\"111.230469\" xlink:href=\"#ArialMT-48\"/>\n       <use x=\"166.845703\" xlink:href=\"#ArialMT-48\"/>\n       <use x=\"222.460938\" xlink:href=\"#ArialMT-48\"/>\n      </g>\n     </g>\n    </g>\n    <g id=\"ytick_4\">\n     <g id=\"line2d_8\">\n      <path clip-path=\"url(#p20ad0bc2f6)\" d=\"M 62.259531 131.969275 \nL 397.059531 131.969275 \n\" style=\"fill:none;stroke:#ffffff;stroke-linecap:round;\"/>\n     </g>\n     <g id=\"text_9\">\n      <!-- 37500 -->\n      <g style=\"fill:#262626;\" transform=\"translate(22.174375 135.906072)scale(0.11 -0.11)\">\n       <defs>\n        <path d=\"M 4.734375 62.203125 \nL 4.734375 70.65625 \nL 51.078125 70.65625 \nL 51.078125 63.8125 \nQ 44.234375 56.546875 37.515625 44.484375 \nQ 30.8125 32.421875 27.15625 19.671875 \nQ 24.515625 10.6875 23.78125 0 \nL 14.75 0 \nQ 14.890625 8.453125 18.0625 20.40625 \nQ 21.234375 32.375 27.171875 43.484375 \nQ 33.109375 54.59375 39.796875 62.203125 \nz\n\" id=\"ArialMT-55\"/>\n       </defs>\n       <use xlink:href=\"#ArialMT-51\"/>\n       <use x=\"55.615234\" xlink:href=\"#ArialMT-55\"/>\n       <use x=\"111.230469\" xlink:href=\"#ArialMT-53\"/>\n       <use x=\"166.845703\" xlink:href=\"#ArialMT-48\"/>\n       <use x=\"222.460938\" xlink:href=\"#ArialMT-48\"/>\n      </g>\n     </g>\n    </g>\n    <g id=\"ytick_5\">\n     <g id=\"line2d_9\">\n      <path clip-path=\"url(#p20ad0bc2f6)\" d=\"M 62.259531 103.40656 \nL 397.059531 103.40656 \n\" style=\"fill:none;stroke:#ffffff;stroke-linecap:round;\"/>\n     </g>\n     <g id=\"text_10\">\n      <!-- 40000 -->\n      <g style=\"fill:#262626;\" transform=\"translate(22.174375 107.343357)scale(0.11 -0.11)\">\n       <use xlink:href=\"#ArialMT-52\"/>\n       <use x=\"55.615234\" xlink:href=\"#ArialMT-48\"/>\n       <use x=\"111.230469\" xlink:href=\"#ArialMT-48\"/>\n       <use x=\"166.845703\" xlink:href=\"#ArialMT-48\"/>\n       <use x=\"222.460938\" xlink:href=\"#ArialMT-48\"/>\n      </g>\n     </g>\n    </g>\n    <g id=\"ytick_6\">\n     <g id=\"line2d_10\">\n      <path clip-path=\"url(#p20ad0bc2f6)\" d=\"M 62.259531 74.843845 \nL 397.059531 74.843845 \n\" style=\"fill:none;stroke:#ffffff;stroke-linecap:round;\"/>\n     </g>\n     <g id=\"text_11\">\n      <!-- 42500 -->\n      <g style=\"fill:#262626;\" transform=\"translate(22.174375 78.780642)scale(0.11 -0.11)\">\n       <use xlink:href=\"#ArialMT-52\"/>\n       <use x=\"55.615234\" xlink:href=\"#ArialMT-50\"/>\n       <use x=\"111.230469\" xlink:href=\"#ArialMT-53\"/>\n       <use x=\"166.845703\" xlink:href=\"#ArialMT-48\"/>\n       <use x=\"222.460938\" xlink:href=\"#ArialMT-48\"/>\n      </g>\n     </g>\n    </g>\n    <g id=\"ytick_7\">\n     <g id=\"line2d_11\">\n      <path clip-path=\"url(#p20ad0bc2f6)\" d=\"M 62.259531 46.281129 \nL 397.059531 46.281129 \n\" style=\"fill:none;stroke:#ffffff;stroke-linecap:round;\"/>\n     </g>\n     <g id=\"text_12\">\n      <!-- 45000 -->\n      <g style=\"fill:#262626;\" transform=\"translate(22.174375 50.217926)scale(0.11 -0.11)\">\n       <use xlink:href=\"#ArialMT-52\"/>\n       <use x=\"55.615234\" xlink:href=\"#ArialMT-53\"/>\n       <use x=\"111.230469\" xlink:href=\"#ArialMT-48\"/>\n       <use x=\"166.845703\" xlink:href=\"#ArialMT-48\"/>\n       <use x=\"222.460938\" xlink:href=\"#ArialMT-48\"/>\n      </g>\n     </g>\n    </g>\n    <g id=\"ytick_8\">\n     <g id=\"line2d_12\">\n      <path clip-path=\"url(#p20ad0bc2f6)\" d=\"M 62.259531 17.718414 \nL 397.059531 17.718414 \n\" style=\"fill:none;stroke:#ffffff;stroke-linecap:round;\"/>\n     </g>\n     <g id=\"text_13\">\n      <!-- 47500 -->\n      <g style=\"fill:#262626;\" transform=\"translate(22.174375 21.655211)scale(0.11 -0.11)\">\n       <use xlink:href=\"#ArialMT-52\"/>\n       <use x=\"55.615234\" xlink:href=\"#ArialMT-55\"/>\n       <use x=\"111.230469\" xlink:href=\"#ArialMT-53\"/>\n       <use x=\"166.845703\" xlink:href=\"#ArialMT-48\"/>\n       <use x=\"222.460938\" xlink:href=\"#ArialMT-48\"/>\n      </g>\n     </g>\n    </g>\n    <g id=\"text_14\">\n     <!-- evictions -->\n     <g style=\"fill:#262626;\" transform=\"translate(15.789375 139.262812)rotate(-90)scale(0.12 -0.12)\">\n      <defs>\n       <path d=\"M 42.09375 16.703125 \nL 51.171875 15.578125 \nQ 49.03125 7.625 43.21875 3.21875 \nQ 37.40625 -1.171875 28.375 -1.171875 \nQ 17 -1.171875 10.328125 5.828125 \nQ 3.65625 12.84375 3.65625 25.484375 \nQ 3.65625 38.578125 10.390625 45.796875 \nQ 17.140625 53.03125 27.875 53.03125 \nQ 38.28125 53.03125 44.875 45.953125 \nQ 51.46875 38.875 51.46875 26.03125 \nQ 51.46875 25.25 51.421875 23.6875 \nL 12.75 23.6875 \nQ 13.234375 15.140625 17.578125 10.59375 \nQ 21.921875 6.0625 28.421875 6.0625 \nQ 33.25 6.0625 36.671875 8.59375 \nQ 40.09375 11.140625 42.09375 16.703125 \nz\nM 13.234375 30.90625 \nL 42.1875 30.90625 \nQ 41.609375 37.453125 38.875 40.71875 \nQ 34.671875 45.796875 27.984375 45.796875 \nQ 21.921875 45.796875 17.796875 41.75 \nQ 13.671875 37.703125 13.234375 30.90625 \nz\n\" id=\"ArialMT-101\"/>\n       <path d=\"M 21 0 \nL 1.265625 51.859375 \nL 10.546875 51.859375 \nL 21.6875 20.796875 \nQ 23.484375 15.765625 25 10.359375 \nQ 26.171875 14.453125 28.265625 20.21875 \nL 39.796875 51.859375 \nL 48.828125 51.859375 \nL 29.203125 0 \nz\n\" id=\"ArialMT-118\"/>\n       <path d=\"M 6.640625 61.46875 \nL 6.640625 71.578125 \nL 15.4375 71.578125 \nL 15.4375 61.46875 \nz\nM 6.640625 0 \nL 6.640625 51.859375 \nL 15.4375 51.859375 \nL 15.4375 0 \nz\n\" id=\"ArialMT-105\"/>\n       <path d=\"M 40.4375 19 \nL 49.078125 17.875 \nQ 47.65625 8.9375 41.8125 3.875 \nQ 35.984375 -1.171875 27.484375 -1.171875 \nQ 16.84375 -1.171875 10.375 5.78125 \nQ 3.90625 12.75 3.90625 25.734375 \nQ 3.90625 34.125 6.6875 40.421875 \nQ 9.46875 46.734375 15.15625 49.875 \nQ 20.84375 53.03125 27.546875 53.03125 \nQ 35.984375 53.03125 41.359375 48.75 \nQ 46.734375 44.484375 48.25 36.625 \nL 39.703125 35.296875 \nQ 38.484375 40.53125 35.375 43.15625 \nQ 32.28125 45.796875 27.875 45.796875 \nQ 21.234375 45.796875 17.078125 41.03125 \nQ 12.9375 36.28125 12.9375 25.984375 \nQ 12.9375 15.53125 16.9375 10.796875 \nQ 20.953125 6.0625 27.390625 6.0625 \nQ 32.5625 6.0625 36.03125 9.234375 \nQ 39.5 12.40625 40.4375 19 \nz\n\" id=\"ArialMT-99\"/>\n       <path d=\"M 25.78125 7.859375 \nL 27.046875 0.09375 \nQ 23.34375 -0.6875 20.40625 -0.6875 \nQ 15.625 -0.6875 12.984375 0.828125 \nQ 10.359375 2.34375 9.28125 4.8125 \nQ 8.203125 7.28125 8.203125 15.1875 \nL 8.203125 45.015625 \nL 1.765625 45.015625 \nL 1.765625 51.859375 \nL 8.203125 51.859375 \nL 8.203125 64.703125 \nL 16.9375 69.96875 \nL 16.9375 51.859375 \nL 25.78125 51.859375 \nL 25.78125 45.015625 \nL 16.9375 45.015625 \nL 16.9375 14.703125 \nQ 16.9375 10.9375 17.40625 9.859375 \nQ 17.875 8.796875 18.921875 8.15625 \nQ 19.96875 7.515625 21.921875 7.515625 \nQ 23.390625 7.515625 25.78125 7.859375 \nz\n\" id=\"ArialMT-116\"/>\n       <path d=\"M 3.328125 25.921875 \nQ 3.328125 40.328125 11.328125 47.265625 \nQ 18.015625 53.03125 27.640625 53.03125 \nQ 38.328125 53.03125 45.109375 46.015625 \nQ 51.90625 39.015625 51.90625 26.65625 \nQ 51.90625 16.65625 48.90625 10.90625 \nQ 45.90625 5.171875 40.15625 2 \nQ 34.421875 -1.171875 27.640625 -1.171875 \nQ 16.75 -1.171875 10.03125 5.8125 \nQ 3.328125 12.796875 3.328125 25.921875 \nz\nM 12.359375 25.921875 \nQ 12.359375 15.96875 16.703125 11.015625 \nQ 21.046875 6.0625 27.640625 6.0625 \nQ 34.1875 6.0625 38.53125 11.03125 \nQ 42.875 16.015625 42.875 26.21875 \nQ 42.875 35.84375 38.5 40.796875 \nQ 34.125 45.75 27.640625 45.75 \nQ 21.046875 45.75 16.703125 40.8125 \nQ 12.359375 35.890625 12.359375 25.921875 \nz\n\" id=\"ArialMT-111\"/>\n       <path d=\"M 6.59375 0 \nL 6.59375 51.859375 \nL 14.5 51.859375 \nL 14.5 44.484375 \nQ 20.21875 53.03125 31 53.03125 \nQ 35.6875 53.03125 39.625 51.34375 \nQ 43.5625 49.65625 45.515625 46.921875 \nQ 47.46875 44.1875 48.25 40.4375 \nQ 48.734375 37.984375 48.734375 31.890625 \nL 48.734375 0 \nL 39.9375 0 \nL 39.9375 31.546875 \nQ 39.9375 36.921875 38.90625 39.578125 \nQ 37.890625 42.234375 35.28125 43.8125 \nQ 32.671875 45.40625 29.15625 45.40625 \nQ 23.53125 45.40625 19.453125 41.84375 \nQ 15.375 38.28125 15.375 28.328125 \nL 15.375 0 \nz\n\" id=\"ArialMT-110\"/>\n       <path d=\"M 3.078125 15.484375 \nL 11.765625 16.84375 \nQ 12.5 11.625 15.84375 8.84375 \nQ 19.1875 6.0625 25.203125 6.0625 \nQ 31.25 6.0625 34.171875 8.515625 \nQ 37.109375 10.984375 37.109375 14.3125 \nQ 37.109375 17.28125 34.515625 19 \nQ 32.71875 20.171875 25.53125 21.96875 \nQ 15.875 24.421875 12.140625 26.203125 \nQ 8.40625 27.984375 6.46875 31.125 \nQ 4.546875 34.28125 4.546875 38.09375 \nQ 4.546875 41.546875 6.125 44.5 \nQ 7.71875 47.46875 10.453125 49.421875 \nQ 12.5 50.921875 16.03125 51.96875 \nQ 19.578125 53.03125 23.640625 53.03125 \nQ 29.734375 53.03125 34.34375 51.265625 \nQ 38.96875 49.515625 41.15625 46.5 \nQ 43.359375 43.5 44.1875 38.484375 \nL 35.59375 37.3125 \nQ 35.015625 41.3125 32.203125 43.546875 \nQ 29.390625 45.796875 24.265625 45.796875 \nQ 18.21875 45.796875 15.625 43.796875 \nQ 13.03125 41.796875 13.03125 39.109375 \nQ 13.03125 37.40625 14.109375 36.03125 \nQ 15.1875 34.625 17.484375 33.6875 \nQ 18.796875 33.203125 25.25 31.453125 \nQ 34.578125 28.953125 38.25 27.359375 \nQ 41.9375 25.78125 44.03125 22.75 \nQ 46.140625 19.734375 46.140625 15.234375 \nQ 46.140625 10.84375 43.578125 6.953125 \nQ 41.015625 3.078125 36.171875 0.953125 \nQ 31.34375 -1.171875 25.25 -1.171875 \nQ 15.140625 -1.171875 9.84375 3.03125 \nQ 4.546875 7.234375 3.078125 15.484375 \nz\n\" id=\"ArialMT-115\"/>\n      </defs>\n      <use xlink:href=\"#ArialMT-101\"/>\n      <use x=\"55.615234\" xlink:href=\"#ArialMT-118\"/>\n      <use x=\"105.615234\" xlink:href=\"#ArialMT-105\"/>\n      <use x=\"127.832031\" xlink:href=\"#ArialMT-99\"/>\n      <use x=\"177.832031\" xlink:href=\"#ArialMT-116\"/>\n      <use x=\"205.615234\" xlink:href=\"#ArialMT-105\"/>\n      <use x=\"227.832031\" xlink:href=\"#ArialMT-111\"/>\n      <use x=\"283.447266\" xlink:href=\"#ArialMT-110\"/>\n      <use x=\"339.0625\" xlink:href=\"#ArialMT-115\"/>\n     </g>\n    </g>\n   </g>\n   <g id=\"PathCollection_1\">\n    <defs>\n     <path d=\"M 0 3 \nC 0.795609 3 1.55874 2.683901 2.12132 2.12132 \nC 2.683901 1.55874 3 0.795609 3 0 \nC 3 -0.795609 2.683901 -1.55874 2.12132 -2.12132 \nC 1.55874 -2.683901 0.795609 -3 0 -3 \nC -0.795609 -3 -1.55874 -2.683901 -2.12132 -2.12132 \nC -2.683901 -1.55874 -3 -0.795609 -3 0 \nC -3 0.795609 -2.683901 1.55874 -2.12132 2.12132 \nC -1.55874 2.683901 -0.795609 3 0 3 \nz\n\" id=\"m61e3b90690\" style=\"stroke:#4c72b0;stroke-opacity:0.8;\"/>\n    </defs>\n    <g clip-path=\"url(#p20ad0bc2f6)\">\n     <use style=\"fill:#4c72b0;fill-opacity:0.8;stroke:#4c72b0;stroke-opacity:0.8;\" x=\"62.259531\" xlink:href=\"#m61e3b90690\" y=\"153.944629\"/>\n     <use style=\"fill:#4c72b0;fill-opacity:0.8;stroke:#4c72b0;stroke-opacity:0.8;\" x=\"85.740207\" xlink:href=\"#m61e3b90690\" y=\"115.893037\"/>\n     <use style=\"fill:#4c72b0;fill-opacity:0.8;stroke:#4c72b0;stroke-opacity:0.8;\" x=\"102.409093\" xlink:href=\"#m61e3b90690\" y=\"74.503949\"/>\n     <use style=\"fill:#4c72b0;fill-opacity:0.8;stroke:#4c72b0;stroke-opacity:0.8;\" x=\"124.3112\" xlink:href=\"#m61e3b90690\" y=\"47.021475\"/>\n     <use style=\"fill:#4c72b0;fill-opacity:0.8;stroke:#4c72b0;stroke-opacity:0.8;\" x=\"154.06744\" xlink:href=\"#m61e3b90690\" y=\"17.083636\"/>\n     <use style=\"fill:#4c72b0;fill-opacity:0.8;stroke:#4c72b0;stroke-opacity:0.8;\" x=\"190.510734\" xlink:href=\"#m61e3b90690\" y=\"58.428738\"/>\n     <use style=\"fill:#4c72b0;fill-opacity:0.8;stroke:#4c72b0;stroke-opacity:0.8;\" x=\"216.771469\" xlink:href=\"#m61e3b90690\" y=\"68.265737\"/>\n     <use style=\"fill:#4c72b0;fill-opacity:0.8;stroke:#4c72b0;stroke-opacity:0.8;\" x=\"246.471793\" xlink:href=\"#m61e3b90690\" y=\"214.756364\"/>\n     <use style=\"fill:#4c72b0;fill-opacity:0.8;stroke:#4c72b0;stroke-opacity:0.8;\" x=\"265.876291\" xlink:href=\"#m61e3b90690\" y=\"172.571747\"/>\n     <use style=\"fill:#4c72b0;fill-opacity:0.8;stroke:#4c72b0;stroke-opacity:0.8;\" x=\"275.739121\" xlink:href=\"#m61e3b90690\" y=\"206.318138\"/>\n     <use style=\"fill:#4c72b0;fill-opacity:0.8;stroke:#4c72b0;stroke-opacity:0.8;\" x=\"292.360693\" xlink:href=\"#m61e3b90690\" y=\"134.368315\"/>\n     <use style=\"fill:#4c72b0;fill-opacity:0.8;stroke:#4c72b0;stroke-opacity:0.8;\" x=\"304.946232\" xlink:href=\"#m61e3b90690\" y=\"77.109097\"/>\n     <use style=\"fill:#4c72b0;fill-opacity:0.8;stroke:#4c72b0;stroke-opacity:0.8;\" x=\"326.433982\" xlink:href=\"#m61e3b90690\" y=\"97.891214\"/>\n     <use style=\"fill:#4c72b0;fill-opacity:0.8;stroke:#4c72b0;stroke-opacity:0.8;\" x=\"340.619597\" xlink:href=\"#m61e3b90690\" y=\"75.110164\"/>\n     <use style=\"fill:#4c72b0;fill-opacity:0.8;stroke:#4c72b0;stroke-opacity:0.8;\" x=\"352.991506\" xlink:href=\"#m61e3b90690\" y=\"70.328879\"/>\n     <use style=\"fill:#4c72b0;fill-opacity:0.8;stroke:#4c72b0;stroke-opacity:0.8;\" x=\"383.601311\" xlink:href=\"#m61e3b90690\" y=\"79.458551\"/>\n     <use style=\"fill:#4c72b0;fill-opacity:0.8;stroke:#4c72b0;stroke-opacity:0.8;\" x=\"397.059531\" xlink:href=\"#m61e3b90690\" y=\"54.547408\"/>\n    </g>\n   </g>\n   <g id=\"PolyCollection_1\">\n    <defs>\n     <path d=\"M 62.259531 -217.308901 \nL 62.259531 -106.122583 \nL 65.641349 -106.462477 \nL 69.023168 -106.802371 \nL 72.404986 -107.492756 \nL 75.786804 -108.190327 \nL 79.168622 -108.830228 \nL 82.55044 -109.263341 \nL 85.932259 -109.759954 \nL 89.314077 -110.381454 \nL 92.695895 -111.002953 \nL 96.077713 -111.624453 \nL 99.459531 -112.245952 \nL 102.841349 -112.867452 \nL 106.223168 -113.488951 \nL 109.604986 -114.111921 \nL 112.986804 -114.739214 \nL 116.368622 -115.366507 \nL 119.75044 -115.993799 \nL 123.132259 -116.621092 \nL 126.514077 -117.248385 \nL 129.895895 -117.875677 \nL 133.277713 -118.50297 \nL 136.659531 -119.130262 \nL 140.041349 -119.757555 \nL 143.423168 -120.387304 \nL 146.804986 -120.890022 \nL 150.186804 -121.322906 \nL 153.568622 -121.758937 \nL 156.95044 -122.606901 \nL 160.332259 -123.311972 \nL 163.714077 -124.03818 \nL 167.095895 -124.705082 \nL 170.477713 -125.20617 \nL 173.859531 -125.722374 \nL 177.241349 -126.19973 \nL 180.623168 -126.694594 \nL 184.004986 -127.266142 \nL 187.386804 -127.9219 \nL 190.768622 -128.577657 \nL 194.15044 -128.672696 \nL 197.532259 -129.163605 \nL 200.914077 -129.641062 \nL 204.295895 -130.136191 \nL 207.677713 -130.644809 \nL 211.059531 -131.223586 \nL 214.441349 -131.641049 \nL 217.823168 -132.136238 \nL 221.204986 -132.616533 \nL 224.586804 -132.646046 \nL 227.968622 -133.148835 \nL 231.35044 -133.172914 \nL 234.732259 -133.282536 \nL 238.114077 -133.227205 \nL 241.495895 -133.707928 \nL 244.877713 -134.086836 \nL 248.259531 -133.631334 \nL 251.641349 -134.047403 \nL 255.023168 -134.422893 \nL 258.404986 -134.907887 \nL 261.786804 -134.877602 \nL 265.168622 -134.920747 \nL 268.55044 -135.125633 \nL 271.932259 -134.44806 \nL 275.314077 -134.70301 \nL 278.695895 -134.515209 \nL 282.077713 -134.311365 \nL 285.459531 -134.110035 \nL 288.841349 -133.826065 \nL 292.223168 -133.702005 \nL 295.604986 -133.490017 \nL 298.986804 -133.284054 \nL 302.368622 -133.081346 \nL 305.75044 -132.969474 \nL 309.132259 -132.71233 \nL 312.514077 -132.434524 \nL 315.895895 -131.467705 \nL 319.277713 -131.264958 \nL 322.659531 -130.927091 \nL 326.041349 -130.318052 \nL 329.423168 -130.102308 \nL 332.804986 -129.983115 \nL 336.186804 -129.034977 \nL 339.568622 -128.512722 \nL 342.95044 -128.230649 \nL 346.332259 -127.950891 \nL 349.714077 -127.678113 \nL 353.095895 -127.125981 \nL 356.477713 -126.676512 \nL 359.859531 -126.53475 \nL 363.241349 -125.877885 \nL 366.623168 -125.105062 \nL 370.004986 -124.332241 \nL 373.386804 -123.570634 \nL 376.768622 -122.789848 \nL 380.15044 -122.028953 \nL 383.532259 -121.470421 \nL 386.914077 -120.963769 \nL 390.295895 -120.458399 \nL 393.677713 -119.885264 \nL 397.059531 -119.171282 \nL 397.059531 -196.636818 \nL 397.059531 -196.636818 \nL 393.677713 -196.207386 \nL 390.295895 -195.777953 \nL 386.914077 -195.44747 \nL 383.532259 -195.287858 \nL 380.15044 -195.128247 \nL 376.768622 -194.972052 \nL 373.386804 -194.819087 \nL 370.004986 -194.593771 \nL 366.623168 -194.199631 \nL 363.241349 -193.641726 \nL 359.859531 -193.383892 \nL 356.477713 -193.196961 \nL 353.095895 -192.913239 \nL 349.714077 -192.501914 \nL 346.332259 -192.085593 \nL 342.95044 -191.728207 \nL 339.568622 -191.357429 \nL 336.186804 -191.250993 \nL 332.804986 -191.303718 \nL 329.423168 -191.202046 \nL 326.041349 -191.121084 \nL 322.659531 -190.819626 \nL 319.277713 -190.613124 \nL 315.895895 -190.726747 \nL 312.514077 -190.808851 \nL 309.132259 -190.530956 \nL 305.75044 -190.204904 \nL 302.368622 -190.257843 \nL 298.986804 -190.085171 \nL 295.604986 -190.246097 \nL 292.223168 -190.430575 \nL 288.841349 -190.350347 \nL 285.459531 -190.174997 \nL 282.077713 -190.034533 \nL 278.695895 -189.603675 \nL 275.314077 -189.24228 \nL 271.932259 -189.292345 \nL 268.55044 -189.538051 \nL 265.168622 -189.783756 \nL 261.786804 -189.691353 \nL 258.404986 -190.016391 \nL 255.023168 -190.345909 \nL 251.641349 -190.360805 \nL 248.259531 -190.746809 \nL 244.877713 -190.84335 \nL 241.495895 -191.183008 \nL 238.114077 -191.318206 \nL 234.732259 -191.5545 \nL 231.35044 -191.805307 \nL 227.968622 -192.043581 \nL 224.586804 -192.08782 \nL 221.204986 -192.226581 \nL 217.823168 -192.572403 \nL 214.441349 -192.547227 \nL 211.059531 -192.896968 \nL 207.677713 -193.011158 \nL 204.295895 -193.342588 \nL 200.914077 -193.419957 \nL 197.532259 -193.837612 \nL 194.15044 -194.447272 \nL 190.768622 -194.700232 \nL 187.386804 -194.942528 \nL 184.004986 -195.34476 \nL 180.623168 -195.758634 \nL 177.241349 -195.960271 \nL 173.859531 -196.338697 \nL 170.477713 -196.804381 \nL 167.095895 -197.210276 \nL 163.714077 -197.741112 \nL 160.332259 -198.116516 \nL 156.95044 -198.710248 \nL 153.568622 -199.131173 \nL 150.186804 -199.547964 \nL 146.804986 -199.975282 \nL 143.423168 -200.915027 \nL 140.041349 -201.589453 \nL 136.659531 -201.949618 \nL 133.277713 -202.302247 \nL 129.895895 -203.441428 \nL 126.514077 -203.706651 \nL 123.132259 -204.291398 \nL 119.75044 -205.3323 \nL 116.368622 -206.422078 \nL 112.986804 -206.778473 \nL 109.604986 -207.163914 \nL 106.223168 -207.949075 \nL 102.841349 -208.726605 \nL 99.459531 -209.141643 \nL 96.077713 -209.536573 \nL 92.695895 -210.642727 \nL 89.314077 -211.408474 \nL 85.932259 -212.036134 \nL 82.55044 -212.661339 \nL 79.168622 -213.286544 \nL 75.786804 -213.962956 \nL 72.404986 -214.825932 \nL 69.023168 -215.687945 \nL 65.641349 -216.549958 \nL 62.259531 -217.308901 \nz\n\" id=\"mb362d21c4f\" style=\"stroke:#ffffff;stroke-opacity:0.15;\"/>\n    </defs>\n    <g clip-path=\"url(#p20ad0bc2f6)\">\n     <use style=\"fill:#4c72b0;fill-opacity:0.15;stroke:#ffffff;stroke-opacity:0.15;\" x=\"0\" xlink:href=\"#mb362d21c4f\" y=\"266.374219\"/>\n    </g>\n   </g>\n   <g id=\"line2d_13\">\n    <path clip-path=\"url(#p20ad0bc2f6)\" d=\"M 62.259531 102.932 \nL 65.641349 102.89641 \nL 69.023168 102.86082 \nL 72.404986 102.82523 \nL 75.786804 102.789639 \nL 79.168622 102.754049 \nL 82.55044 102.718459 \nL 85.932259 102.682869 \nL 89.314077 102.647279 \nL 92.695895 102.611688 \nL 96.077713 102.576098 \nL 99.459531 102.540508 \nL 102.841349 102.504918 \nL 106.223168 102.469328 \nL 109.604986 102.433738 \nL 112.986804 102.398147 \nL 116.368622 102.362557 \nL 119.75044 102.326967 \nL 123.132259 102.291377 \nL 126.514077 102.255787 \nL 129.895895 102.220196 \nL 133.277713 102.184606 \nL 136.659531 102.149016 \nL 140.041349 102.113426 \nL 143.423168 102.077836 \nL 146.804986 102.042245 \nL 150.186804 102.006655 \nL 153.568622 101.971065 \nL 156.95044 101.935475 \nL 160.332259 101.899885 \nL 163.714077 101.864295 \nL 167.095895 101.828704 \nL 170.477713 101.793114 \nL 173.859531 101.757524 \nL 177.241349 101.721934 \nL 180.623168 101.686344 \nL 184.004986 101.650753 \nL 187.386804 101.615163 \nL 190.768622 101.579573 \nL 194.15044 101.543983 \nL 197.532259 101.508393 \nL 200.914077 101.472802 \nL 204.295895 101.437212 \nL 207.677713 101.401622 \nL 211.059531 101.366032 \nL 214.441349 101.330442 \nL 217.823168 101.294851 \nL 221.204986 101.259261 \nL 224.586804 101.223671 \nL 227.968622 101.188081 \nL 231.35044 101.152491 \nL 234.732259 101.116901 \nL 238.114077 101.08131 \nL 241.495895 101.04572 \nL 244.877713 101.01013 \nL 248.259531 100.97454 \nL 251.641349 100.93895 \nL 255.023168 100.903359 \nL 258.404986 100.867769 \nL 261.786804 100.832179 \nL 265.168622 100.796589 \nL 268.55044 100.760999 \nL 271.932259 100.725408 \nL 275.314077 100.689818 \nL 278.695895 100.654228 \nL 282.077713 100.618638 \nL 285.459531 100.583048 \nL 288.841349 100.547458 \nL 292.223168 100.511867 \nL 295.604986 100.476277 \nL 298.986804 100.440687 \nL 302.368622 100.405097 \nL 305.75044 100.369507 \nL 309.132259 100.333916 \nL 312.514077 100.298326 \nL 315.895895 100.262736 \nL 319.277713 100.227146 \nL 322.659531 100.191556 \nL 326.041349 100.155965 \nL 329.423168 100.120375 \nL 332.804986 100.084785 \nL 336.186804 100.049195 \nL 339.568622 100.013605 \nL 342.95044 99.978015 \nL 346.332259 99.942424 \nL 349.714077 99.906834 \nL 353.095895 99.871244 \nL 356.477713 99.835654 \nL 359.859531 99.800064 \nL 363.241349 99.764473 \nL 366.623168 99.728883 \nL 370.004986 99.693293 \nL 373.386804 99.657703 \nL 376.768622 99.622113 \nL 380.15044 99.586522 \nL 383.532259 99.550932 \nL 386.914077 99.515342 \nL 390.295895 99.479752 \nL 393.677713 99.444162 \nL 397.059531 99.408572 \n\" style=\"fill:none;stroke:#4c72b0;stroke-linecap:round;stroke-width:2.25;\"/>\n   </g>\n   <g id=\"patch_3\">\n    <path d=\"M 62.259531 224.64 \nL 62.259531 7.2 \n\" style=\"fill:none;stroke:#ffffff;stroke-linecap:square;stroke-linejoin:miter;stroke-width:1.25;\"/>\n   </g>\n   <g id=\"patch_4\">\n    <path d=\"M 397.059531 224.64 \nL 397.059531 7.2 \n\" style=\"fill:none;stroke:#ffffff;stroke-linecap:square;stroke-linejoin:miter;stroke-width:1.25;\"/>\n   </g>\n   <g id=\"patch_5\">\n    <path d=\"M 62.259531 224.64 \nL 397.059531 224.64 \n\" style=\"fill:none;stroke:#ffffff;stroke-linecap:square;stroke-linejoin:miter;stroke-width:1.25;\"/>\n   </g>\n   <g id=\"patch_6\">\n    <path d=\"M 62.259531 7.2 \nL 397.059531 7.2 \n\" style=\"fill:none;stroke:#ffffff;stroke-linecap:square;stroke-linejoin:miter;stroke-width:1.25;\"/>\n   </g>\n  </g>\n </g>\n <defs>\n  <clipPath id=\"p20ad0bc2f6\">\n   <rect height=\"217.44\" width=\"334.8\" x=\"62.259531\" y=\"7.2\"/>\n  </clipPath>\n </defs>\n</svg>\n",
      "image/png": "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\n"
     },
     "metadata": {}
    }
   ],
   "source": [
    "# import seaborn to run the same columns in a regression analysis\n",
    "import seaborn as sns; sns.set_theme(color_codes=True)\n",
    "\n",
    "# combine data sets\n",
    "joined_df = pd.concat([evc_va, gdp_data], axis=1, sort=False)\n",
    "\n",
    "# create scatter plot with regression\n",
    "ax = sns.regplot(x=\"GDP\", y=\"evictions\", data=joined_df)\n",
    "print(ax)"
   ]
  },
<<<<<<< HEAD
  "language_info": {
   "codemirror_mode": {
    "name": "ipython",
    "version": 3
   },
   "file_extension": ".py",
   "mimetype": "text/x-python",
   "name": "python",
   "nbconvert_exporter": "python",
   "pygments_lexer": "ipython3",
   "version": "3.8.5"
=======
  {
   "cell_type": "code",
   "execution_count": null,
   "metadata": {},
   "outputs": [],
   "source": []
>>>>>>> 97a68269722a2112086f26255be638866239f4e5
  }
 ]
}