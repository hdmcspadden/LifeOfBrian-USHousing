{
 "cells": [
  {
   "cell_type": "markdown",
   "metadata": {},
   "source": [
    "### GDP Yearly Scrape Unit Test\n",
    "The intent of this file is to test the functionality of the GDP scraper. This is done by:\n",
    "\n",
    "1. Import the classes to test\n",
    "3. Manual scraping of the file 'GDP1995-2001.pdf' into a csv file titled 'gdp_test_data.csv'.\n",
    "2. Read in the manual scrape file into the script. \n",
    "4. Run the PDF scraper functions. "
   ]
  },
  {
   "cell_type": "code",
   "execution_count": 4,
   "metadata": {},
   "outputs": [],
   "source": [
    "# import dependencies\n",
    "import tabula\n",
    "import pandas as pd\n",
    "import re\n",
    "import math\n",
    "import numpy as np\n",
    "import unittest\n",
    "from gdpPDFCleaning import *"
   ]
  },
  {
   "cell_type": "code",
   "execution_count": null,
   "metadata": {},
   "outputs": [],
   "source": [
    "# inherit from unittest.TestCase\n",
    "class EnrollInTestCase(unittest.TestCase): \n",
    "    # Unit testing enrollInCourse() method\n",
    "    def test_pdf_scrape(self):\n",
    "        "
   ]
  }
 ],
 "metadata": {
  "kernelspec": {
   "display_name": "Python 3",
   "language": "python",
   "name": "python3"
  },
  "language_info": {
   "codemirror_mode": {
    "name": "ipython",
    "version": 3
   },
   "file_extension": ".py",
   "mimetype": "text/x-python",
   "name": "python",
   "nbconvert_exporter": "python",
   "pygments_lexer": "ipython3",
   "version": "3.8.3"
  }
 },
 "nbformat": 4,
 "nbformat_minor": 4
}
