{
 "cells": [
  {
   "cell_type": "markdown",
   "metadata": {},
   "source": [
    "# Inflation Data Set\n",
    "## KEY: Inflation1\n",
    "## Source: \n",
    "\n",
    "Webster, I. (2020, September 11). Inflation Rate between 1995-2020 | Inflation Calculator. CPI Inflation Calculator. https://www.in2013dollars.com/us/inflation/1995\n"
   ]
  },
  {
   "cell_type": "code",
   "execution_count": 4,
   "metadata": {},
   "outputs": [],
   "source": [
    "# import needed libraries\n",
    "from numpy import *\n",
    "import pandas as pd\n",
    "import matplotlib.pyplot as plt"
   ]
  },
  {
   "cell_type": "code",
   "execution_count": 2,
   "metadata": {},
   "outputs": [],
   "source": [
    "# load the inflation csv into a dataframe\n",
    "dfInflation = pd.read_csv(r'../DataSet/1995inflation.csv',header=0,encoding = \"ISO-8859-1\")"
   ]
  },
  {
   "cell_type": "code",
   "execution_count": 3,
   "metadata": {},
   "outputs": [
    {
     "data": {
      "text/html": [
       "<div>\n",
       "<style scoped>\n",
       "    .dataframe tbody tr th:only-of-type {\n",
       "        vertical-align: middle;\n",
       "    }\n",
       "\n",
       "    .dataframe tbody tr th {\n",
       "        vertical-align: top;\n",
       "    }\n",
       "\n",
       "    .dataframe thead th {\n",
       "        text-align: right;\n",
       "    }\n",
       "</style>\n",
       "<table border=\"1\" class=\"dataframe\">\n",
       "  <thead>\n",
       "    <tr style=\"text-align: right;\">\n",
       "      <th></th>\n",
       "      <th>year</th>\n",
       "      <th>amount</th>\n",
       "      <th>inflation rate</th>\n",
       "      <th>cumulative</th>\n",
       "    </tr>\n",
       "  </thead>\n",
       "  <tbody>\n",
       "    <tr>\n",
       "      <th>0</th>\n",
       "      <td>1995</td>\n",
       "      <td>1.00</td>\n",
       "      <td>0.0000</td>\n",
       "      <td>0.0000</td>\n",
       "    </tr>\n",
       "    <tr>\n",
       "      <th>1</th>\n",
       "      <td>1996</td>\n",
       "      <td>1.03</td>\n",
       "      <td>0.0295</td>\n",
       "      <td>0.0295</td>\n",
       "    </tr>\n",
       "    <tr>\n",
       "      <th>2</th>\n",
       "      <td>1997</td>\n",
       "      <td>1.05</td>\n",
       "      <td>0.0229</td>\n",
       "      <td>0.0531</td>\n",
       "    </tr>\n",
       "    <tr>\n",
       "      <th>3</th>\n",
       "      <td>1998</td>\n",
       "      <td>1.07</td>\n",
       "      <td>0.0156</td>\n",
       "      <td>0.0696</td>\n",
       "    </tr>\n",
       "    <tr>\n",
       "      <th>4</th>\n",
       "      <td>1999</td>\n",
       "      <td>1.09</td>\n",
       "      <td>0.0221</td>\n",
       "      <td>0.0932</td>\n",
       "    </tr>\n",
       "  </tbody>\n",
       "</table>\n",
       "</div>"
      ],
      "text/plain": [
       "   year  amount  inflation rate  cumulative\n",
       "0  1995    1.00          0.0000      0.0000\n",
       "1  1996    1.03          0.0295      0.0295\n",
       "2  1997    1.05          0.0229      0.0531\n",
       "3  1998    1.07          0.0156      0.0696\n",
       "4  1999    1.09          0.0221      0.0932"
      ]
     },
     "execution_count": 3,
     "metadata": {},
     "output_type": "execute_result"
    }
   ],
   "source": [
    "# show the first 5 rows to check data loaded as epected\n",
    "dfInflation.head(5)"
   ]
  },
  {
   "cell_type": "code",
   "execution_count": 5,
   "metadata": {},
   "outputs": [
    {
     "data": {
      "text/html": [
       "<div>\n",
       "<style scoped>\n",
       "    .dataframe tbody tr th:only-of-type {\n",
       "        vertical-align: middle;\n",
       "    }\n",
       "\n",
       "    .dataframe tbody tr th {\n",
       "        vertical-align: top;\n",
       "    }\n",
       "\n",
       "    .dataframe thead th {\n",
       "        text-align: right;\n",
       "    }\n",
       "</style>\n",
       "<table border=\"1\" class=\"dataframe\">\n",
       "  <thead>\n",
       "    <tr style=\"text-align: right;\">\n",
       "      <th></th>\n",
       "      <th>year</th>\n",
       "      <th>amount</th>\n",
       "      <th>inflation rate</th>\n",
       "      <th>cumulative</th>\n",
       "    </tr>\n",
       "  </thead>\n",
       "  <tbody>\n",
       "    <tr>\n",
       "      <th>21</th>\n",
       "      <td>2016</td>\n",
       "      <td>1.57</td>\n",
       "      <td>0.0126</td>\n",
       "      <td>0.5748</td>\n",
       "    </tr>\n",
       "    <tr>\n",
       "      <th>22</th>\n",
       "      <td>2017</td>\n",
       "      <td>1.61</td>\n",
       "      <td>0.0213</td>\n",
       "      <td>0.6084</td>\n",
       "    </tr>\n",
       "    <tr>\n",
       "      <th>23</th>\n",
       "      <td>2018</td>\n",
       "      <td>1.65</td>\n",
       "      <td>0.0249</td>\n",
       "      <td>0.6485</td>\n",
       "    </tr>\n",
       "    <tr>\n",
       "      <th>24</th>\n",
       "      <td>2019</td>\n",
       "      <td>1.68</td>\n",
       "      <td>0.0176</td>\n",
       "      <td>0.6775</td>\n",
       "    </tr>\n",
       "    <tr>\n",
       "      <th>25</th>\n",
       "      <td>2020</td>\n",
       "      <td>1.71</td>\n",
       "      <td>0.0181</td>\n",
       "      <td>0.7079</td>\n",
       "    </tr>\n",
       "  </tbody>\n",
       "</table>\n",
       "</div>"
      ],
      "text/plain": [
       "    year  amount  inflation rate  cumulative\n",
       "21  2016    1.57          0.0126      0.5748\n",
       "22  2017    1.61          0.0213      0.6084\n",
       "23  2018    1.65          0.0249      0.6485\n",
       "24  2019    1.68          0.0176      0.6775\n",
       "25  2020    1.71          0.0181      0.7079"
      ]
     },
     "execution_count": 5,
     "metadata": {},
     "output_type": "execute_result"
    }
   ],
   "source": [
    "# show last 5 rows to check data loaded as epected\n",
    "dfInflation.tail(5)"
   ]
  },
  {
   "cell_type": "code",
   "execution_count": 6,
   "metadata": {},
   "outputs": [
    {
     "data": {
      "text/html": [
       "<div>\n",
       "<style scoped>\n",
       "    .dataframe tbody tr th:only-of-type {\n",
       "        vertical-align: middle;\n",
       "    }\n",
       "\n",
       "    .dataframe tbody tr th {\n",
       "        vertical-align: top;\n",
       "    }\n",
       "\n",
       "    .dataframe thead th {\n",
       "        text-align: right;\n",
       "    }\n",
       "</style>\n",
       "<table border=\"1\" class=\"dataframe\">\n",
       "  <thead>\n",
       "    <tr style=\"text-align: right;\">\n",
       "      <th></th>\n",
       "      <th>year</th>\n",
       "      <th>amount</th>\n",
       "      <th>inflation rate</th>\n",
       "      <th>cumulative</th>\n",
       "    </tr>\n",
       "  </thead>\n",
       "  <tbody>\n",
       "    <tr>\n",
       "      <th>count</th>\n",
       "      <td>26.000000</td>\n",
       "      <td>26.000000</td>\n",
       "      <td>26.00000</td>\n",
       "      <td>26.000000</td>\n",
       "    </tr>\n",
       "    <tr>\n",
       "      <th>mean</th>\n",
       "      <td>2007.500000</td>\n",
       "      <td>1.354615</td>\n",
       "      <td>0.02085</td>\n",
       "      <td>0.354515</td>\n",
       "    </tr>\n",
       "    <tr>\n",
       "      <th>std</th>\n",
       "      <td>7.648529</td>\n",
       "      <td>0.221671</td>\n",
       "      <td>0.01054</td>\n",
       "      <td>0.220847</td>\n",
       "    </tr>\n",
       "    <tr>\n",
       "      <th>min</th>\n",
       "      <td>1995.000000</td>\n",
       "      <td>1.000000</td>\n",
       "      <td>-0.00360</td>\n",
       "      <td>0.000000</td>\n",
       "    </tr>\n",
       "    <tr>\n",
       "      <th>25%</th>\n",
       "      <td>2001.250000</td>\n",
       "      <td>1.165000</td>\n",
       "      <td>0.01590</td>\n",
       "      <td>0.166675</td>\n",
       "    </tr>\n",
       "    <tr>\n",
       "      <th>50%</th>\n",
       "      <td>2007.500000</td>\n",
       "      <td>1.385000</td>\n",
       "      <td>0.02170</td>\n",
       "      <td>0.384100</td>\n",
       "    </tr>\n",
       "    <tr>\n",
       "      <th>75%</th>\n",
       "      <td>2013.750000</td>\n",
       "      <td>1.545000</td>\n",
       "      <td>0.02850</td>\n",
       "      <td>0.547200</td>\n",
       "    </tr>\n",
       "    <tr>\n",
       "      <th>max</th>\n",
       "      <td>2020.000000</td>\n",
       "      <td>1.710000</td>\n",
       "      <td>0.03840</td>\n",
       "      <td>0.707900</td>\n",
       "    </tr>\n",
       "  </tbody>\n",
       "</table>\n",
       "</div>"
      ],
      "text/plain": [
       "              year     amount  inflation rate  cumulative\n",
       "count    26.000000  26.000000        26.00000   26.000000\n",
       "mean   2007.500000   1.354615         0.02085    0.354515\n",
       "std       7.648529   0.221671         0.01054    0.220847\n",
       "min    1995.000000   1.000000        -0.00360    0.000000\n",
       "25%    2001.250000   1.165000         0.01590    0.166675\n",
       "50%    2007.500000   1.385000         0.02170    0.384100\n",
       "75%    2013.750000   1.545000         0.02850    0.547200\n",
       "max    2020.000000   1.710000         0.03840    0.707900"
      ]
     },
     "execution_count": 6,
     "metadata": {},
     "output_type": "execute_result"
    }
   ],
   "source": [
    "# run describe to get basics\n",
    "dfInflation.describe()"
   ]
  },
  {
   "cell_type": "markdown",
   "metadata": {},
   "source": [
    "### Basic dataframe information\n",
    "\n",
    "1. No missing data for any column\n",
    "1. Time Scale: Annual\n",
    "    1. Number of time points: 107\n",
    "1. Geo Scale: National\n",
    "    1. Number of geo points: 1\n",
    "1. Columns: Year, Amount, Inflation Rate\n",
    "    1. **year**: \n",
    "        1. dbType: int\n",
    "        1. Min: 1914\n",
    "        1. Max: 2020\n",
    "    1. **amount**:\n",
    "        1. dbType: float\n",
    "        1. Min: 100 (this makes sense, the data in amount shows year $ of $100 in 1914 $\n",
    "        1. Max: 2599.18\n",
    "    1. **inflation rate**:\n",
    "        1. dbType: float\n",
    "        1. Min: -0.11\n",
    "        1. Max: .18\n",
    "        1. Mean: 0.031963\n",
    "    1. **cumulative**\n",
    "        1. dbType: float\n",
    "        1. Min: 0\n",
    "        1. Max: .18\n",
    "        1. Mean: 0.7079\n"
   ]
  },
  {
   "cell_type": "code",
   "execution_count": 10,
   "metadata": {
    "scrolled": true
   },
   "outputs": [
    {
     "data": {
      "image/png": "[encoded data removed]",
      "text/plain": [
       "<Figure size 800x640 with 1 Axes>"
      ]
     },
     "metadata": {},
     "output_type": "display_data"
    }
   ],
   "source": [
    "# increase default figure size\n",
    "plt.figure(num=None, figsize=(10, 8), dpi=80, facecolor='w', edgecolor='k')\n",
    "\n",
    "# quick chart of years vs. $100 in 1995 $\n",
    "plt.plot(dfInflation['year'],dfInflation['amount'],color='red')\n",
    "plt.title('Year vs. $')\n",
    "plt.xlabel('Year')\n",
    "plt.ylabel('Value of 1995 $1')\n",
    "plt.grid(True)\n",
    "plt.show()"
   ]
  },
  {
   "cell_type": "markdown",
   "metadata": {},
   "source": []
  },
  {
   "cell_type": "code",
   "execution_count": null,
   "metadata": {},
   "outputs": [],
   "source": []
  }
 ],
 "metadata": {
  "kernelspec": {
   "display_name": "Python 3",
   "language": "python",
   "name": "python3"
  },
  "language_info": {
   "codemirror_mode": {
    "name": "ipython",
    "version": 3
   },
   "file_extension": ".py",
   "mimetype": "text/x-python",
   "name": "python",
   "nbconvert_exporter": "python",
   "pygments_lexer": "ipython3",
   "version": "3.8.3"
  }
 },
 "nbformat": 4,
 "nbformat_minor": 4
}
