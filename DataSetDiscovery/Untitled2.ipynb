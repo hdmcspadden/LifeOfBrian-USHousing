{
 "cells": [
  {
   "cell_type": "markdown",
   "metadata": {},
   "source": [
    "### GDP Yearly Scrape Unit Test\n",
    "The intent of this file is to test the functionality of the GDP scraper. This is done by:\n",
    "\n",
    "1. Import the \n",
    "3. Manual scraping of the file 'GDP1995-2001.pdf' into a csv file titled 'gdp_test_data.csv'.\n",
    "2. Read in the manual scrape file into the script. \n",
    "4. Run the PDF scraper functions. "
   ]
  }
 ],
 "metadata": {
  "kernelspec": {
   "display_name": "Python 3",
   "language": "python",
   "name": "python3"
  },
  "language_info": {
   "codemirror_mode": {
    "name": "ipython",
    "version": 3
   },
   "file_extension": ".py",
   "mimetype": "text/x-python",
   "name": "python",
   "nbconvert_exporter": "python",
   "pygments_lexer": "ipython3",
   "version": "3.8.3"
  }
 },
 "nbformat": 4,
 "nbformat_minor": 4
}
